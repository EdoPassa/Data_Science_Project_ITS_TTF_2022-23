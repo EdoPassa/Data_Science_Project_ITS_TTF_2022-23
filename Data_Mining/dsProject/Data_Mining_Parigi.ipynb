{
  "cells": [
    {
      "cell_type": "markdown",
      "id": "385c69cc-8d3d-4462-a04e-dd5f9ff0e734",
      "metadata": {
        "id": "385c69cc-8d3d-4462-a04e-dd5f9ff0e734"
      },
      "source": [
        "# Data Wrangling"
      ]
    },
    {
      "cell_type": "code",
      "execution_count": 12,
      "id": "6c90c189-3595-488a-9ac4-62f37e71c7c5",
      "metadata": {
        "id": "6c90c189-3595-488a-9ac4-62f37e71c7c5"
      },
      "outputs": [],
      "source": [
        "import mysql.connector as connection\n",
        "import numpy as np\n",
        "import pandas as pd"
      ]
    },
    {
      "cell_type": "code",
      "execution_count": 13,
      "id": "afdc912a-f622-4e25-bc5a-127f86bfea3e",
      "metadata": {
        "id": "afdc912a-f622-4e25-bc5a-127f86bfea3e"
      },
      "outputs": [],
      "source": [
        "mydb = connection.connect(host='ttfprojectdb.cdjjwxlk5ujc.eu-central-1.rds.amazonaws.com',\n",
        "                        database='database-data-science-project-its-ttf-2022-23',\n",
        "                        user='edoardo',\n",
        "                        password='PG8Io90EcKBVEg2iKLgi')"
      ]
    },
    {
      "cell_type": "code",
      "execution_count": 14,
      "id": "4a02bfa7",
      "metadata": {
        "id": "4a02bfa7"
      },
      "outputs": [],
      "source": [
        "query_metro_parcheggi = \"Select * from Acessi_metro_e_parcheggi_per_metro_parigi;\"\n",
        "df_metro_parcheggi = pd.read_sql(query_metro_parcheggi,mydb)\n",
        "\n",
        "query_parcheggi_su_strada_e_diritti_di_passaggio_parigi = \"select * from parcheggi_su_strada_e_diritti_di_passaggio_parigi\"\n",
        "df_parcheggi_su_strada_parigi = pd.read_sql(query_parcheggi_su_strada_e_diritti_di_passaggio_parigi,mydb)\n",
        "\n",
        "query_piste_ciclabili_e_percorsi_degli_autobus_parigi = \"select * from piste_ciclabili_e_percorsi_degli_autobus_parigi\"\n",
        "df_piste_cic_percorsi_autobus = pd.read_sql(query_piste_ciclabili_e_percorsi_degli_autobus_parigi,mydb)\n",
        "\n",
        "query_scuole_elementari_parigi = \"select * from scuole_elementari_parigi\"\n",
        "df_elementari_parigi = pd.read_sql(query_scuole_elementari_parigi,mydb)\n",
        "\n",
        "query_scuole_materne_asili_parigi = \"select * from scuole_materne_asili\"\n",
        "df_scuole_materne_asili_parigi = pd.read_sql(query_scuole_materne_asili_parigi,mydb)\n",
        "\n",
        "query_strade_e_trasporti_parigi = \"select * from strade_e_trasporti_parigi \"\n",
        "df_stra_trasporti_parigi = pd.read_sql(query_strade_e_trasporti_parigi,mydb)\n",
        "\n",
        "query_stazioni_servizio_parigi = \"select * from stazioni_servizio_veicoli_parigi\"\n",
        "df_staz_servizio_parigi = pd.read_sql(query_stazioni_servizio_parigi,mydb)\n",
        "\n",
        "query_Taxi_parigi = \"select * from Taxi_parigi\"\n",
        "df_taxi_parigi = pd.read_sql(query_Taxi_parigi,mydb)\n",
        "\n",
        "query_terreni_costruibili_e_non_parigi = \"select * from terreni_costruibili_e_non_costruibili_parigi\"\n",
        "df_terreni_parigi = pd.read_sql(query_terreni_costruibili_e_non_parigi,mydb)"
      ]
    },
    {
      "cell_type": "markdown",
      "id": "9d20a3b9",
      "metadata": {
        "id": "9d20a3b9"
      },
      "source": [
        "### Prep the data for the clustering"
      ]
    },
    {
      "cell_type": "markdown",
      "source": [
        "#### parcheggi metro"
      ],
      "metadata": {
        "id": "FYmfMd_Z6lrO"
      },
      "id": "FYmfMd_Z6lrO"
    },
    {
      "cell_type": "code",
      "execution_count": 15,
      "id": "73072967",
      "metadata": {
        "id": "73072967"
      },
      "outputs": [],
      "source": [
        "df_metro_parcheggi_parigi_mod = df_metro_parcheggi['geo_point_2d'].str.split(',', expand=True)\n",
        "df_metro_parcheggi_parigi_mod = df_metro_parcheggi_parigi_mod.rename(columns={0: 'Ylocation', 1: 'Xlocation'})\n",
        "df_metro_parcheggi_parigi_mod['Type'] = 'Parcheggi metro'"
      ]
    },
    {
      "cell_type": "markdown",
      "source": [
        "#### parcheggi su strada"
      ],
      "metadata": {
        "id": "9GFMxQ0T61s-"
      },
      "id": "9GFMxQ0T61s-"
    },
    {
      "cell_type": "code",
      "execution_count": 16,
      "id": "3123fb15",
      "metadata": {
        "id": "3123fb15"
      },
      "outputs": [],
      "source": [
        "df_parcheggi_su_strada_parigi_mod = df_parcheggi_su_strada_parigi['geo_point_2d'].str.split(',', expand=True)\n",
        "df_parcheggi_su_strada_parigi_mod = df_parcheggi_su_strada_parigi_mod.rename(columns={0: 'Ylocation', 1: 'Xlocation'})\n",
        "df_parcheggi_su_strada_parigi_mod['Type'] = 'Parcheggi pubblici'\n"
      ]
    },
    {
      "cell_type": "code",
      "source": [
        "df_parcheggi_su_strada_parigi_mod = df_parcheggi_su_strada_parigi_mod.head(2000)\n",
        "df_parcheggi_su_strada_parigi_mod"
      ],
      "metadata": {
        "colab": {
          "base_uri": "https://localhost:8080/",
          "height": 0
        },
        "id": "aKVZ88ZI8JOY",
        "outputId": "ca3fc7d5-d8c6-4597-a910-3074299377b8"
      },
      "id": "aKVZ88ZI8JOY",
      "execution_count": 17,
      "outputs": [
        {
          "output_type": "execute_result",
          "data": {
            "text/plain": [
              "               Ylocation           Xlocation                Type\n",
              "0     48.880812316279005   2.295395371621856  Parcheggi pubblici\n",
              "1      48.83843975615369   2.262354304067086  Parcheggi pubblici\n",
              "2     48.842839963092466  2.2629408705404503  Parcheggi pubblici\n",
              "3      48.85672360876848  2.4116595498993307  Parcheggi pubblici\n",
              "4     48.830840017932864  2.3063979507810113  Parcheggi pubblici\n",
              "...                  ...                 ...                 ...\n",
              "1995   48.84441096224479  2.3091876748773594  Parcheggi pubblici\n",
              "1996   48.84409672531001   2.307800327389737  Parcheggi pubblici\n",
              "1997   48.87525397979889  2.3185301659705555  Parcheggi pubblici\n",
              "1998  48.865249012870564   2.275012129477651  Parcheggi pubblici\n",
              "1999   48.86837877867092   2.295629725507989  Parcheggi pubblici\n",
              "\n",
              "[2000 rows x 3 columns]"
            ],
            "text/html": [
              "\n",
              "  <div id=\"df-d1f7ac56-baa6-410a-b816-53c74fb86e15\">\n",
              "    <div class=\"colab-df-container\">\n",
              "      <div>\n",
              "<style scoped>\n",
              "    .dataframe tbody tr th:only-of-type {\n",
              "        vertical-align: middle;\n",
              "    }\n",
              "\n",
              "    .dataframe tbody tr th {\n",
              "        vertical-align: top;\n",
              "    }\n",
              "\n",
              "    .dataframe thead th {\n",
              "        text-align: right;\n",
              "    }\n",
              "</style>\n",
              "<table border=\"1\" class=\"dataframe\">\n",
              "  <thead>\n",
              "    <tr style=\"text-align: right;\">\n",
              "      <th></th>\n",
              "      <th>Ylocation</th>\n",
              "      <th>Xlocation</th>\n",
              "      <th>Type</th>\n",
              "    </tr>\n",
              "  </thead>\n",
              "  <tbody>\n",
              "    <tr>\n",
              "      <th>0</th>\n",
              "      <td>48.880812316279005</td>\n",
              "      <td>2.295395371621856</td>\n",
              "      <td>Parcheggi pubblici</td>\n",
              "    </tr>\n",
              "    <tr>\n",
              "      <th>1</th>\n",
              "      <td>48.83843975615369</td>\n",
              "      <td>2.262354304067086</td>\n",
              "      <td>Parcheggi pubblici</td>\n",
              "    </tr>\n",
              "    <tr>\n",
              "      <th>2</th>\n",
              "      <td>48.842839963092466</td>\n",
              "      <td>2.2629408705404503</td>\n",
              "      <td>Parcheggi pubblici</td>\n",
              "    </tr>\n",
              "    <tr>\n",
              "      <th>3</th>\n",
              "      <td>48.85672360876848</td>\n",
              "      <td>2.4116595498993307</td>\n",
              "      <td>Parcheggi pubblici</td>\n",
              "    </tr>\n",
              "    <tr>\n",
              "      <th>4</th>\n",
              "      <td>48.830840017932864</td>\n",
              "      <td>2.3063979507810113</td>\n",
              "      <td>Parcheggi pubblici</td>\n",
              "    </tr>\n",
              "    <tr>\n",
              "      <th>...</th>\n",
              "      <td>...</td>\n",
              "      <td>...</td>\n",
              "      <td>...</td>\n",
              "    </tr>\n",
              "    <tr>\n",
              "      <th>1995</th>\n",
              "      <td>48.84441096224479</td>\n",
              "      <td>2.3091876748773594</td>\n",
              "      <td>Parcheggi pubblici</td>\n",
              "    </tr>\n",
              "    <tr>\n",
              "      <th>1996</th>\n",
              "      <td>48.84409672531001</td>\n",
              "      <td>2.307800327389737</td>\n",
              "      <td>Parcheggi pubblici</td>\n",
              "    </tr>\n",
              "    <tr>\n",
              "      <th>1997</th>\n",
              "      <td>48.87525397979889</td>\n",
              "      <td>2.3185301659705555</td>\n",
              "      <td>Parcheggi pubblici</td>\n",
              "    </tr>\n",
              "    <tr>\n",
              "      <th>1998</th>\n",
              "      <td>48.865249012870564</td>\n",
              "      <td>2.275012129477651</td>\n",
              "      <td>Parcheggi pubblici</td>\n",
              "    </tr>\n",
              "    <tr>\n",
              "      <th>1999</th>\n",
              "      <td>48.86837877867092</td>\n",
              "      <td>2.295629725507989</td>\n",
              "      <td>Parcheggi pubblici</td>\n",
              "    </tr>\n",
              "  </tbody>\n",
              "</table>\n",
              "<p>2000 rows × 3 columns</p>\n",
              "</div>\n",
              "      <button class=\"colab-df-convert\" onclick=\"convertToInteractive('df-d1f7ac56-baa6-410a-b816-53c74fb86e15')\"\n",
              "              title=\"Convert this dataframe to an interactive table.\"\n",
              "              style=\"display:none;\">\n",
              "        \n",
              "  <svg xmlns=\"http://www.w3.org/2000/svg\" height=\"24px\"viewBox=\"0 0 24 24\"\n",
              "       width=\"24px\">\n",
              "    <path d=\"M0 0h24v24H0V0z\" fill=\"none\"/>\n",
              "    <path d=\"M18.56 5.44l.94 2.06.94-2.06 2.06-.94-2.06-.94-.94-2.06-.94 2.06-2.06.94zm-11 1L8.5 8.5l.94-2.06 2.06-.94-2.06-.94L8.5 2.5l-.94 2.06-2.06.94zm10 10l.94 2.06.94-2.06 2.06-.94-2.06-.94-.94-2.06-.94 2.06-2.06.94z\"/><path d=\"M17.41 7.96l-1.37-1.37c-.4-.4-.92-.59-1.43-.59-.52 0-1.04.2-1.43.59L10.3 9.45l-7.72 7.72c-.78.78-.78 2.05 0 2.83L4 21.41c.39.39.9.59 1.41.59.51 0 1.02-.2 1.41-.59l7.78-7.78 2.81-2.81c.8-.78.8-2.07 0-2.86zM5.41 20L4 18.59l7.72-7.72 1.47 1.35L5.41 20z\"/>\n",
              "  </svg>\n",
              "      </button>\n",
              "      \n",
              "  <style>\n",
              "    .colab-df-container {\n",
              "      display:flex;\n",
              "      flex-wrap:wrap;\n",
              "      gap: 12px;\n",
              "    }\n",
              "\n",
              "    .colab-df-convert {\n",
              "      background-color: #E8F0FE;\n",
              "      border: none;\n",
              "      border-radius: 50%;\n",
              "      cursor: pointer;\n",
              "      display: none;\n",
              "      fill: #1967D2;\n",
              "      height: 32px;\n",
              "      padding: 0 0 0 0;\n",
              "      width: 32px;\n",
              "    }\n",
              "\n",
              "    .colab-df-convert:hover {\n",
              "      background-color: #E2EBFA;\n",
              "      box-shadow: 0px 1px 2px rgba(60, 64, 67, 0.3), 0px 1px 3px 1px rgba(60, 64, 67, 0.15);\n",
              "      fill: #174EA6;\n",
              "    }\n",
              "\n",
              "    [theme=dark] .colab-df-convert {\n",
              "      background-color: #3B4455;\n",
              "      fill: #D2E3FC;\n",
              "    }\n",
              "\n",
              "    [theme=dark] .colab-df-convert:hover {\n",
              "      background-color: #434B5C;\n",
              "      box-shadow: 0px 1px 3px 1px rgba(0, 0, 0, 0.15);\n",
              "      filter: drop-shadow(0px 1px 2px rgba(0, 0, 0, 0.3));\n",
              "      fill: #FFFFFF;\n",
              "    }\n",
              "  </style>\n",
              "\n",
              "      <script>\n",
              "        const buttonEl =\n",
              "          document.querySelector('#df-d1f7ac56-baa6-410a-b816-53c74fb86e15 button.colab-df-convert');\n",
              "        buttonEl.style.display =\n",
              "          google.colab.kernel.accessAllowed ? 'block' : 'none';\n",
              "\n",
              "        async function convertToInteractive(key) {\n",
              "          const element = document.querySelector('#df-d1f7ac56-baa6-410a-b816-53c74fb86e15');\n",
              "          const dataTable =\n",
              "            await google.colab.kernel.invokeFunction('convertToInteractive',\n",
              "                                                     [key], {});\n",
              "          if (!dataTable) return;\n",
              "\n",
              "          const docLinkHtml = 'Like what you see? Visit the ' +\n",
              "            '<a target=\"_blank\" href=https://colab.research.google.com/notebooks/data_table.ipynb>data table notebook</a>'\n",
              "            + ' to learn more about interactive tables.';\n",
              "          element.innerHTML = '';\n",
              "          dataTable['output_type'] = 'display_data';\n",
              "          await google.colab.output.renderOutput(dataTable, element);\n",
              "          const docLink = document.createElement('div');\n",
              "          docLink.innerHTML = docLinkHtml;\n",
              "          element.appendChild(docLink);\n",
              "        }\n",
              "      </script>\n",
              "    </div>\n",
              "  </div>\n",
              "  "
            ]
          },
          "metadata": {},
          "execution_count": 17
        }
      ]
    },
    {
      "cell_type": "markdown",
      "source": [
        "#### piste ciclabili e percorsi autobus"
      ],
      "metadata": {
        "id": "iORR8GTd65gO"
      },
      "id": "iORR8GTd65gO"
    },
    {
      "cell_type": "code",
      "execution_count": 18,
      "id": "ba3ae741",
      "metadata": {
        "id": "ba3ae741"
      },
      "outputs": [],
      "source": [
        "df_piste_cic_percorsi_autobus_mod = df_piste_cic_percorsi_autobus['geo_point_2d'].str.split(',', expand=True)\n",
        "df_piste_cic_percorsi_autobus_mod = df_piste_cic_percorsi_autobus_mod.rename(columns={0: 'Ylocation', 1: 'Xlocation'})\n",
        "df_piste_cic_percorsi_autobus_mod['Type'] = 'Piste ciclabili / Percorsi autobus'\n"
      ]
    },
    {
      "cell_type": "code",
      "source": [
        "df_piste_cic_percorsi_autobus_mod = df_piste_cic_percorsi_autobus_mod.head(2000)"
      ],
      "metadata": {
        "id": "oK98V-jG8jx3"
      },
      "id": "oK98V-jG8jx3",
      "execution_count": 19,
      "outputs": []
    },
    {
      "cell_type": "markdown",
      "source": [
        "#### scuole elementari"
      ],
      "metadata": {
        "id": "VTMJDvr67B9O"
      },
      "id": "VTMJDvr67B9O"
    },
    {
      "cell_type": "code",
      "execution_count": 20,
      "id": "c61ba144",
      "metadata": {
        "id": "c61ba144",
        "colab": {
          "base_uri": "https://localhost:8080/",
          "height": 424
        },
        "outputId": "3e681073-5b93-49a8-a50f-e0797250df8a"
      },
      "outputs": [
        {
          "output_type": "execute_result",
          "data": {
            "text/plain": [
              "               Ylocation           Xlocation               Type\n",
              "0      48.88356786525452  2.3190758116218957  Scuole elementari\n",
              "1     48.843060086859566   2.307804978548764  Scuole elementari\n",
              "2                                       None  Scuole elementari\n",
              "3                                       None  Scuole elementari\n",
              "4                                       None  Scuole elementari\n",
              "...                  ...                 ...                ...\n",
              "2731   48.82704302623386  2.3313944907390955  Scuole elementari\n",
              "2732  48.886139831007554   2.362362546664067  Scuole elementari\n",
              "2733   48.89718583356112   2.318108225674163  Scuole elementari\n",
              "2734   48.86944406393216  2.3771085387812607  Scuole elementari\n",
              "2735   48.84990705441744  2.3714457261362436  Scuole elementari\n",
              "\n",
              "[2736 rows x 3 columns]"
            ],
            "text/html": [
              "\n",
              "  <div id=\"df-87e4af32-1e02-4044-91e1-3a2d2bbd7575\">\n",
              "    <div class=\"colab-df-container\">\n",
              "      <div>\n",
              "<style scoped>\n",
              "    .dataframe tbody tr th:only-of-type {\n",
              "        vertical-align: middle;\n",
              "    }\n",
              "\n",
              "    .dataframe tbody tr th {\n",
              "        vertical-align: top;\n",
              "    }\n",
              "\n",
              "    .dataframe thead th {\n",
              "        text-align: right;\n",
              "    }\n",
              "</style>\n",
              "<table border=\"1\" class=\"dataframe\">\n",
              "  <thead>\n",
              "    <tr style=\"text-align: right;\">\n",
              "      <th></th>\n",
              "      <th>Ylocation</th>\n",
              "      <th>Xlocation</th>\n",
              "      <th>Type</th>\n",
              "    </tr>\n",
              "  </thead>\n",
              "  <tbody>\n",
              "    <tr>\n",
              "      <th>0</th>\n",
              "      <td>48.88356786525452</td>\n",
              "      <td>2.3190758116218957</td>\n",
              "      <td>Scuole elementari</td>\n",
              "    </tr>\n",
              "    <tr>\n",
              "      <th>1</th>\n",
              "      <td>48.843060086859566</td>\n",
              "      <td>2.307804978548764</td>\n",
              "      <td>Scuole elementari</td>\n",
              "    </tr>\n",
              "    <tr>\n",
              "      <th>2</th>\n",
              "      <td></td>\n",
              "      <td>None</td>\n",
              "      <td>Scuole elementari</td>\n",
              "    </tr>\n",
              "    <tr>\n",
              "      <th>3</th>\n",
              "      <td></td>\n",
              "      <td>None</td>\n",
              "      <td>Scuole elementari</td>\n",
              "    </tr>\n",
              "    <tr>\n",
              "      <th>4</th>\n",
              "      <td></td>\n",
              "      <td>None</td>\n",
              "      <td>Scuole elementari</td>\n",
              "    </tr>\n",
              "    <tr>\n",
              "      <th>...</th>\n",
              "      <td>...</td>\n",
              "      <td>...</td>\n",
              "      <td>...</td>\n",
              "    </tr>\n",
              "    <tr>\n",
              "      <th>2731</th>\n",
              "      <td>48.82704302623386</td>\n",
              "      <td>2.3313944907390955</td>\n",
              "      <td>Scuole elementari</td>\n",
              "    </tr>\n",
              "    <tr>\n",
              "      <th>2732</th>\n",
              "      <td>48.886139831007554</td>\n",
              "      <td>2.362362546664067</td>\n",
              "      <td>Scuole elementari</td>\n",
              "    </tr>\n",
              "    <tr>\n",
              "      <th>2733</th>\n",
              "      <td>48.89718583356112</td>\n",
              "      <td>2.318108225674163</td>\n",
              "      <td>Scuole elementari</td>\n",
              "    </tr>\n",
              "    <tr>\n",
              "      <th>2734</th>\n",
              "      <td>48.86944406393216</td>\n",
              "      <td>2.3771085387812607</td>\n",
              "      <td>Scuole elementari</td>\n",
              "    </tr>\n",
              "    <tr>\n",
              "      <th>2735</th>\n",
              "      <td>48.84990705441744</td>\n",
              "      <td>2.3714457261362436</td>\n",
              "      <td>Scuole elementari</td>\n",
              "    </tr>\n",
              "  </tbody>\n",
              "</table>\n",
              "<p>2736 rows × 3 columns</p>\n",
              "</div>\n",
              "      <button class=\"colab-df-convert\" onclick=\"convertToInteractive('df-87e4af32-1e02-4044-91e1-3a2d2bbd7575')\"\n",
              "              title=\"Convert this dataframe to an interactive table.\"\n",
              "              style=\"display:none;\">\n",
              "        \n",
              "  <svg xmlns=\"http://www.w3.org/2000/svg\" height=\"24px\"viewBox=\"0 0 24 24\"\n",
              "       width=\"24px\">\n",
              "    <path d=\"M0 0h24v24H0V0z\" fill=\"none\"/>\n",
              "    <path d=\"M18.56 5.44l.94 2.06.94-2.06 2.06-.94-2.06-.94-.94-2.06-.94 2.06-2.06.94zm-11 1L8.5 8.5l.94-2.06 2.06-.94-2.06-.94L8.5 2.5l-.94 2.06-2.06.94zm10 10l.94 2.06.94-2.06 2.06-.94-2.06-.94-.94-2.06-.94 2.06-2.06.94z\"/><path d=\"M17.41 7.96l-1.37-1.37c-.4-.4-.92-.59-1.43-.59-.52 0-1.04.2-1.43.59L10.3 9.45l-7.72 7.72c-.78.78-.78 2.05 0 2.83L4 21.41c.39.39.9.59 1.41.59.51 0 1.02-.2 1.41-.59l7.78-7.78 2.81-2.81c.8-.78.8-2.07 0-2.86zM5.41 20L4 18.59l7.72-7.72 1.47 1.35L5.41 20z\"/>\n",
              "  </svg>\n",
              "      </button>\n",
              "      \n",
              "  <style>\n",
              "    .colab-df-container {\n",
              "      display:flex;\n",
              "      flex-wrap:wrap;\n",
              "      gap: 12px;\n",
              "    }\n",
              "\n",
              "    .colab-df-convert {\n",
              "      background-color: #E8F0FE;\n",
              "      border: none;\n",
              "      border-radius: 50%;\n",
              "      cursor: pointer;\n",
              "      display: none;\n",
              "      fill: #1967D2;\n",
              "      height: 32px;\n",
              "      padding: 0 0 0 0;\n",
              "      width: 32px;\n",
              "    }\n",
              "\n",
              "    .colab-df-convert:hover {\n",
              "      background-color: #E2EBFA;\n",
              "      box-shadow: 0px 1px 2px rgba(60, 64, 67, 0.3), 0px 1px 3px 1px rgba(60, 64, 67, 0.15);\n",
              "      fill: #174EA6;\n",
              "    }\n",
              "\n",
              "    [theme=dark] .colab-df-convert {\n",
              "      background-color: #3B4455;\n",
              "      fill: #D2E3FC;\n",
              "    }\n",
              "\n",
              "    [theme=dark] .colab-df-convert:hover {\n",
              "      background-color: #434B5C;\n",
              "      box-shadow: 0px 1px 3px 1px rgba(0, 0, 0, 0.15);\n",
              "      filter: drop-shadow(0px 1px 2px rgba(0, 0, 0, 0.3));\n",
              "      fill: #FFFFFF;\n",
              "    }\n",
              "  </style>\n",
              "\n",
              "      <script>\n",
              "        const buttonEl =\n",
              "          document.querySelector('#df-87e4af32-1e02-4044-91e1-3a2d2bbd7575 button.colab-df-convert');\n",
              "        buttonEl.style.display =\n",
              "          google.colab.kernel.accessAllowed ? 'block' : 'none';\n",
              "\n",
              "        async function convertToInteractive(key) {\n",
              "          const element = document.querySelector('#df-87e4af32-1e02-4044-91e1-3a2d2bbd7575');\n",
              "          const dataTable =\n",
              "            await google.colab.kernel.invokeFunction('convertToInteractive',\n",
              "                                                     [key], {});\n",
              "          if (!dataTable) return;\n",
              "\n",
              "          const docLinkHtml = 'Like what you see? Visit the ' +\n",
              "            '<a target=\"_blank\" href=https://colab.research.google.com/notebooks/data_table.ipynb>data table notebook</a>'\n",
              "            + ' to learn more about interactive tables.';\n",
              "          element.innerHTML = '';\n",
              "          dataTable['output_type'] = 'display_data';\n",
              "          await google.colab.output.renderOutput(dataTable, element);\n",
              "          const docLink = document.createElement('div');\n",
              "          docLink.innerHTML = docLinkHtml;\n",
              "          element.appendChild(docLink);\n",
              "        }\n",
              "      </script>\n",
              "    </div>\n",
              "  </div>\n",
              "  "
            ]
          },
          "metadata": {},
          "execution_count": 20
        }
      ],
      "source": [
        "df_elementari_parigi_mod = df_elementari_parigi['geo_point_2d'].str.split(',', expand=True)\n",
        "df_elementari_parigi_mod = df_elementari_parigi_mod.rename(columns={0: 'Ylocation', 1: 'Xlocation'})\n",
        "df_elementari_parigi_mod['Type'] = 'Scuole elementari'\n",
        "df_elementari_parigi_mod"
      ]
    },
    {
      "cell_type": "markdown",
      "source": [
        "#### scuole materne"
      ],
      "metadata": {
        "id": "A5HURYko7Eam"
      },
      "id": "A5HURYko7Eam"
    },
    {
      "cell_type": "code",
      "execution_count": 21,
      "id": "0dd99294",
      "metadata": {
        "id": "0dd99294",
        "colab": {
          "base_uri": "https://localhost:8080/",
          "height": 424
        },
        "outputId": "20041172-5b7d-4379-8c9d-2ac11e92c087"
      },
      "outputs": [
        {
          "output_type": "execute_result",
          "data": {
            "text/plain": [
              "               Ylocation           Xlocation                    Type\n",
              "0      48.88984387655997   2.374063531123014  Scuole materne e asili\n",
              "1      48.84308546115557  2.3748081429127215  Scuole materne e asili\n",
              "2      48.82888285397241  2.3661723561209267  Scuole materne e asili\n",
              "3      48.88929068174652  2.2975159879426785  Scuole materne e asili\n",
              "4      48.88227003037333   2.393072678029631  Scuole materne e asili\n",
              "...                  ...                 ...                     ...\n",
              "3074  48.844262130266365   2.265610562451197  Scuole materne e asili\n",
              "3075  48.840497261500985   2.386879521782013  Scuole materne e asili\n",
              "3076  48.871835907064614  2.3204375509403414  Scuole materne e asili\n",
              "3077  48.853123576113504  2.4020317188117035  Scuole materne e asili\n",
              "3078   48.84282635065088   2.317590345580866  Scuole materne e asili\n",
              "\n",
              "[3079 rows x 3 columns]"
            ],
            "text/html": [
              "\n",
              "  <div id=\"df-c172cd62-5982-4dc0-9e62-2508433dd2f5\">\n",
              "    <div class=\"colab-df-container\">\n",
              "      <div>\n",
              "<style scoped>\n",
              "    .dataframe tbody tr th:only-of-type {\n",
              "        vertical-align: middle;\n",
              "    }\n",
              "\n",
              "    .dataframe tbody tr th {\n",
              "        vertical-align: top;\n",
              "    }\n",
              "\n",
              "    .dataframe thead th {\n",
              "        text-align: right;\n",
              "    }\n",
              "</style>\n",
              "<table border=\"1\" class=\"dataframe\">\n",
              "  <thead>\n",
              "    <tr style=\"text-align: right;\">\n",
              "      <th></th>\n",
              "      <th>Ylocation</th>\n",
              "      <th>Xlocation</th>\n",
              "      <th>Type</th>\n",
              "    </tr>\n",
              "  </thead>\n",
              "  <tbody>\n",
              "    <tr>\n",
              "      <th>0</th>\n",
              "      <td>48.88984387655997</td>\n",
              "      <td>2.374063531123014</td>\n",
              "      <td>Scuole materne e asili</td>\n",
              "    </tr>\n",
              "    <tr>\n",
              "      <th>1</th>\n",
              "      <td>48.84308546115557</td>\n",
              "      <td>2.3748081429127215</td>\n",
              "      <td>Scuole materne e asili</td>\n",
              "    </tr>\n",
              "    <tr>\n",
              "      <th>2</th>\n",
              "      <td>48.82888285397241</td>\n",
              "      <td>2.3661723561209267</td>\n",
              "      <td>Scuole materne e asili</td>\n",
              "    </tr>\n",
              "    <tr>\n",
              "      <th>3</th>\n",
              "      <td>48.88929068174652</td>\n",
              "      <td>2.2975159879426785</td>\n",
              "      <td>Scuole materne e asili</td>\n",
              "    </tr>\n",
              "    <tr>\n",
              "      <th>4</th>\n",
              "      <td>48.88227003037333</td>\n",
              "      <td>2.393072678029631</td>\n",
              "      <td>Scuole materne e asili</td>\n",
              "    </tr>\n",
              "    <tr>\n",
              "      <th>...</th>\n",
              "      <td>...</td>\n",
              "      <td>...</td>\n",
              "      <td>...</td>\n",
              "    </tr>\n",
              "    <tr>\n",
              "      <th>3074</th>\n",
              "      <td>48.844262130266365</td>\n",
              "      <td>2.265610562451197</td>\n",
              "      <td>Scuole materne e asili</td>\n",
              "    </tr>\n",
              "    <tr>\n",
              "      <th>3075</th>\n",
              "      <td>48.840497261500985</td>\n",
              "      <td>2.386879521782013</td>\n",
              "      <td>Scuole materne e asili</td>\n",
              "    </tr>\n",
              "    <tr>\n",
              "      <th>3076</th>\n",
              "      <td>48.871835907064614</td>\n",
              "      <td>2.3204375509403414</td>\n",
              "      <td>Scuole materne e asili</td>\n",
              "    </tr>\n",
              "    <tr>\n",
              "      <th>3077</th>\n",
              "      <td>48.853123576113504</td>\n",
              "      <td>2.4020317188117035</td>\n",
              "      <td>Scuole materne e asili</td>\n",
              "    </tr>\n",
              "    <tr>\n",
              "      <th>3078</th>\n",
              "      <td>48.84282635065088</td>\n",
              "      <td>2.317590345580866</td>\n",
              "      <td>Scuole materne e asili</td>\n",
              "    </tr>\n",
              "  </tbody>\n",
              "</table>\n",
              "<p>3079 rows × 3 columns</p>\n",
              "</div>\n",
              "      <button class=\"colab-df-convert\" onclick=\"convertToInteractive('df-c172cd62-5982-4dc0-9e62-2508433dd2f5')\"\n",
              "              title=\"Convert this dataframe to an interactive table.\"\n",
              "              style=\"display:none;\">\n",
              "        \n",
              "  <svg xmlns=\"http://www.w3.org/2000/svg\" height=\"24px\"viewBox=\"0 0 24 24\"\n",
              "       width=\"24px\">\n",
              "    <path d=\"M0 0h24v24H0V0z\" fill=\"none\"/>\n",
              "    <path d=\"M18.56 5.44l.94 2.06.94-2.06 2.06-.94-2.06-.94-.94-2.06-.94 2.06-2.06.94zm-11 1L8.5 8.5l.94-2.06 2.06-.94-2.06-.94L8.5 2.5l-.94 2.06-2.06.94zm10 10l.94 2.06.94-2.06 2.06-.94-2.06-.94-.94-2.06-.94 2.06-2.06.94z\"/><path d=\"M17.41 7.96l-1.37-1.37c-.4-.4-.92-.59-1.43-.59-.52 0-1.04.2-1.43.59L10.3 9.45l-7.72 7.72c-.78.78-.78 2.05 0 2.83L4 21.41c.39.39.9.59 1.41.59.51 0 1.02-.2 1.41-.59l7.78-7.78 2.81-2.81c.8-.78.8-2.07 0-2.86zM5.41 20L4 18.59l7.72-7.72 1.47 1.35L5.41 20z\"/>\n",
              "  </svg>\n",
              "      </button>\n",
              "      \n",
              "  <style>\n",
              "    .colab-df-container {\n",
              "      display:flex;\n",
              "      flex-wrap:wrap;\n",
              "      gap: 12px;\n",
              "    }\n",
              "\n",
              "    .colab-df-convert {\n",
              "      background-color: #E8F0FE;\n",
              "      border: none;\n",
              "      border-radius: 50%;\n",
              "      cursor: pointer;\n",
              "      display: none;\n",
              "      fill: #1967D2;\n",
              "      height: 32px;\n",
              "      padding: 0 0 0 0;\n",
              "      width: 32px;\n",
              "    }\n",
              "\n",
              "    .colab-df-convert:hover {\n",
              "      background-color: #E2EBFA;\n",
              "      box-shadow: 0px 1px 2px rgba(60, 64, 67, 0.3), 0px 1px 3px 1px rgba(60, 64, 67, 0.15);\n",
              "      fill: #174EA6;\n",
              "    }\n",
              "\n",
              "    [theme=dark] .colab-df-convert {\n",
              "      background-color: #3B4455;\n",
              "      fill: #D2E3FC;\n",
              "    }\n",
              "\n",
              "    [theme=dark] .colab-df-convert:hover {\n",
              "      background-color: #434B5C;\n",
              "      box-shadow: 0px 1px 3px 1px rgba(0, 0, 0, 0.15);\n",
              "      filter: drop-shadow(0px 1px 2px rgba(0, 0, 0, 0.3));\n",
              "      fill: #FFFFFF;\n",
              "    }\n",
              "  </style>\n",
              "\n",
              "      <script>\n",
              "        const buttonEl =\n",
              "          document.querySelector('#df-c172cd62-5982-4dc0-9e62-2508433dd2f5 button.colab-df-convert');\n",
              "        buttonEl.style.display =\n",
              "          google.colab.kernel.accessAllowed ? 'block' : 'none';\n",
              "\n",
              "        async function convertToInteractive(key) {\n",
              "          const element = document.querySelector('#df-c172cd62-5982-4dc0-9e62-2508433dd2f5');\n",
              "          const dataTable =\n",
              "            await google.colab.kernel.invokeFunction('convertToInteractive',\n",
              "                                                     [key], {});\n",
              "          if (!dataTable) return;\n",
              "\n",
              "          const docLinkHtml = 'Like what you see? Visit the ' +\n",
              "            '<a target=\"_blank\" href=https://colab.research.google.com/notebooks/data_table.ipynb>data table notebook</a>'\n",
              "            + ' to learn more about interactive tables.';\n",
              "          element.innerHTML = '';\n",
              "          dataTable['output_type'] = 'display_data';\n",
              "          await google.colab.output.renderOutput(dataTable, element);\n",
              "          const docLink = document.createElement('div');\n",
              "          docLink.innerHTML = docLinkHtml;\n",
              "          element.appendChild(docLink);\n",
              "        }\n",
              "      </script>\n",
              "    </div>\n",
              "  </div>\n",
              "  "
            ]
          },
          "metadata": {},
          "execution_count": 21
        }
      ],
      "source": [
        "df_scuole_materne_asili_parig_mod = df_scuole_materne_asili_parigi['geo_point_2d'].str.split(',', expand=True)\n",
        "df_scuole_materne_asili_parig_mod = df_scuole_materne_asili_parig_mod.rename(columns={0: 'Ylocation', 1: 'Xlocation'})\n",
        "df_scuole_materne_asili_parig_mod['Type'] = 'Scuole materne e asili'\n",
        "df_scuole_materne_asili_parig_mod"
      ]
    },
    {
      "cell_type": "markdown",
      "source": [
        "#### strade trasporti"
      ],
      "metadata": {
        "id": "S4ZAUOEw7JGP"
      },
      "id": "S4ZAUOEw7JGP"
    },
    {
      "cell_type": "code",
      "execution_count": 22,
      "id": "a330f5b8",
      "metadata": {
        "id": "a330f5b8"
      },
      "outputs": [],
      "source": [
        "df_stra_trasporti_parigi_mod = df_stra_trasporti_parigi['geo_point_2d'].str.split(',', expand=True)\n",
        "df_stra_trasporti_parigi_mod = df_stra_trasporti_parigi_mod.rename(columns={0: 'Ylocation', 1: 'Xlocation'})\n",
        "df_stra_trasporti_parigi_mod['Type'] = 'Strade trasporti' "
      ]
    },
    {
      "cell_type": "code",
      "source": [
        "df_stra_trasporti_parigi_mod = df_stra_trasporti_parigi_mod.head(2000)"
      ],
      "metadata": {
        "id": "nXtzoPlk8t0f"
      },
      "id": "nXtzoPlk8t0f",
      "execution_count": 23,
      "outputs": []
    },
    {
      "cell_type": "markdown",
      "source": [
        "#### stazioni servizio"
      ],
      "metadata": {
        "id": "_RfeA8in7Nd1"
      },
      "id": "_RfeA8in7Nd1"
    },
    {
      "cell_type": "code",
      "execution_count": 24,
      "id": "8ef8e0fc",
      "metadata": {
        "id": "8ef8e0fc"
      },
      "outputs": [],
      "source": [
        "df_staz_servizio_parigi_mod = df_staz_servizio_parigi['geo_point_2d'].str.split(',', expand=True)\n",
        "df_staz_servizio_parigi_mod = df_staz_servizio_parigi_mod.rename(columns={0: 'Ylocation', 1: 'Xlocation'})\n",
        "df_staz_servizio_parigi_mod['Type'] = 'Stazioni di servizio'"
      ]
    },
    {
      "cell_type": "markdown",
      "source": [
        "#### taxi"
      ],
      "metadata": {
        "id": "TzZTc4Hk7Vde"
      },
      "id": "TzZTc4Hk7Vde"
    },
    {
      "cell_type": "code",
      "execution_count": 25,
      "id": "bc492bb8",
      "metadata": {
        "id": "bc492bb8"
      },
      "outputs": [],
      "source": [
        "df_taxi_parigi_mod = df_taxi_parigi['geo_point_2d'].str.split(',', expand=True)\n",
        "df_taxi_parigi_mod = df_taxi_parigi_mod.rename(columns={0: 'Ylocation', 1: 'Xlocation'})\n",
        "df_taxi_parigi_mod['Type'] = 'Taxi'"
      ]
    },
    {
      "cell_type": "markdown",
      "source": [
        "#### terreni parigi"
      ],
      "metadata": {
        "id": "zXZukr967amM"
      },
      "id": "zXZukr967amM"
    },
    {
      "cell_type": "code",
      "execution_count": 26,
      "id": "79e4962e",
      "metadata": {
        "id": "79e4962e"
      },
      "outputs": [],
      "source": [
        "df_terreni_parigi_cnat = df_terreni_parigi.drop(['ID', 'OBJECTID', 'X','Y', 'geo_point_2d'], axis=1)\n",
        "#Replace column value\n",
        "df_terreni_parigi_cnat = df_terreni_parigi_cnat.replace(['B','N','I'],['Terreno costruito','Terreno non costruito','Terreno sconosciuto'])\n",
        "df_terreni_parigi_cnat = df_terreni_parigi_cnat.rename(columns={'C_NAT': 'Type'})"
      ]
    },
    {
      "cell_type": "code",
      "execution_count": 27,
      "id": "5f622edd",
      "metadata": {
        "id": "5f622edd"
      },
      "outputs": [],
      "source": [
        "df_terreni_parigi_geo = df_terreni_parigi['geo_point_2d'].str.split(',', expand=True)\n",
        "df_terreni_parigi_geo = df_terreni_parigi_geo.rename(columns={0: 'Ylocation', 1: 'Xlocation'})"
      ]
    },
    {
      "cell_type": "code",
      "source": [
        "df_terreni_parigi_cnat.insert(0, 'ID', range(0, 0 + len(df_terreni_parigi_cnat)))\n",
        "df_terreni_parigi_geo.insert(0, 'ID', range(0, 0 + len(df_terreni_parigi_geo)))"
      ],
      "metadata": {
        "id": "J-MXjJr13r5G"
      },
      "id": "J-MXjJr13r5G",
      "execution_count": 28,
      "outputs": []
    },
    {
      "cell_type": "code",
      "source": [
        "df_terreni_parigi_mod = pd.merge(df_terreni_parigi_geo,df_terreni_parigi_cnat)\n",
        "df_terreni_parigi_mod = df_terreni_parigi_mod.drop(['ID'], axis=1)"
      ],
      "metadata": {
        "id": "sVYQ9xKj5AXS"
      },
      "id": "sVYQ9xKj5AXS",
      "execution_count": 29,
      "outputs": []
    },
    {
      "cell_type": "code",
      "source": [
        "df_terreni_parigi_mod = df_terreni_parigi_mod.head(2000)"
      ],
      "metadata": {
        "id": "kl86TuLe84e-"
      },
      "id": "kl86TuLe84e-",
      "execution_count": 30,
      "outputs": []
    },
    {
      "cell_type": "markdown",
      "source": [
        "### unisco i vari df in un unico dataframe"
      ],
      "metadata": {
        "id": "4-n2EviRDE0h"
      },
      "id": "4-n2EviRDE0h"
    },
    {
      "cell_type": "code",
      "source": [
        "df_parigi = df_metro_parcheggi_parigi_mod.append(df_parcheggi_su_strada_parigi_mod)"
      ],
      "metadata": {
        "id": "vvn2kpbsEPqv"
      },
      "id": "vvn2kpbsEPqv",
      "execution_count": 31,
      "outputs": []
    },
    {
      "cell_type": "code",
      "source": [
        "df_parigi = df_parigi.append(df_piste_cic_percorsi_autobus_mod)"
      ],
      "metadata": {
        "id": "y8opKPZTFU2-"
      },
      "id": "y8opKPZTFU2-",
      "execution_count": 32,
      "outputs": []
    },
    {
      "cell_type": "code",
      "source": [
        "df_parigi = df_parigi.append(df_scuole_materne_asili_parig_mod)"
      ],
      "metadata": {
        "id": "BN4WisUdFs3g"
      },
      "id": "BN4WisUdFs3g",
      "execution_count": 33,
      "outputs": []
    },
    {
      "cell_type": "code",
      "source": [
        "df_parigi = df_parigi.append(df_elementari_parigi_mod)"
      ],
      "metadata": {
        "id": "Q71vOLMwF6pt"
      },
      "id": "Q71vOLMwF6pt",
      "execution_count": 34,
      "outputs": []
    },
    {
      "cell_type": "code",
      "source": [
        "df_parigi = df_parigi.append(df_stra_trasporti_parigi_mod)"
      ],
      "metadata": {
        "id": "INBfaC2ZGE1s"
      },
      "id": "INBfaC2ZGE1s",
      "execution_count": 35,
      "outputs": []
    },
    {
      "cell_type": "code",
      "source": [
        "df_parigi = df_parigi.append(df_staz_servizio_parigi_mod)"
      ],
      "metadata": {
        "id": "EUD62c9IGJP4"
      },
      "id": "EUD62c9IGJP4",
      "execution_count": 36,
      "outputs": []
    },
    {
      "cell_type": "code",
      "source": [
        "df_parigi = df_parigi.append(df_taxi_parigi_mod)"
      ],
      "metadata": {
        "id": "4rAXC6evGOTM"
      },
      "id": "4rAXC6evGOTM",
      "execution_count": 37,
      "outputs": []
    },
    {
      "cell_type": "code",
      "source": [
        "df_parigi = df_parigi.append(df_terreni_parigi_mod)"
      ],
      "metadata": {
        "id": "1qW7jPFNGPd_"
      },
      "id": "1qW7jPFNGPd_",
      "execution_count": 38,
      "outputs": []
    },
    {
      "cell_type": "markdown",
      "source": [
        "## Encoding"
      ],
      "metadata": {
        "id": "0A7NKkNHhKhE"
      },
      "id": "0A7NKkNHhKhE"
    },
    {
      "cell_type": "markdown",
      "source": [
        "### Cambio tipo cordinate str-->float\n",
        "#### ma prima controllo e elimino eventuali null"
      ],
      "metadata": {
        "id": "TDe0dwUt8l5j"
      },
      "id": "TDe0dwUt8l5j"
    },
    {
      "cell_type": "code",
      "source": [
        "df_parigi.isna().sum()"
      ],
      "metadata": {
        "id": "kxUhA1x3Gfk2",
        "colab": {
          "base_uri": "https://localhost:8080/"
        },
        "outputId": "5e7f536e-8f86-47ab-ee30-2e32a614ba9e"
      },
      "id": "kxUhA1x3Gfk2",
      "execution_count": 39,
      "outputs": [
        {
          "output_type": "execute_result",
          "data": {
            "text/plain": [
              "Ylocation       0\n",
              "Xlocation    1241\n",
              "Type            0\n",
              "dtype: int64"
            ]
          },
          "metadata": {},
          "execution_count": 39
        }
      ]
    },
    {
      "cell_type": "code",
      "source": [
        "df_parigi = df_parigi.dropna()"
      ],
      "metadata": {
        "id": "aWWca17hJT4J"
      },
      "id": "aWWca17hJT4J",
      "execution_count": 40,
      "outputs": []
    },
    {
      "cell_type": "code",
      "source": [
        "df_parigi.isna().sum()"
      ],
      "metadata": {
        "id": "x1nPI8n_Jgxi",
        "colab": {
          "base_uri": "https://localhost:8080/"
        },
        "outputId": "c90ec2b8-6f20-453c-f5ab-9ea7ae8ad5a7"
      },
      "id": "x1nPI8n_Jgxi",
      "execution_count": 41,
      "outputs": [
        {
          "output_type": "execute_result",
          "data": {
            "text/plain": [
              "Ylocation    0\n",
              "Xlocation    0\n",
              "Type         0\n",
              "dtype: int64"
            ]
          },
          "metadata": {},
          "execution_count": 41
        }
      ]
    },
    {
      "cell_type": "code",
      "source": [
        "df_parigi['Xlocation'] = df_parigi['Xlocation'].astype(float)\n",
        "df_parigi['Ylocation'] = df_parigi['Ylocation'].astype(float)"
      ],
      "metadata": {
        "id": "C5lR2Xt1JvWS"
      },
      "id": "C5lR2Xt1JvWS",
      "execution_count": 42,
      "outputs": []
    },
    {
      "cell_type": "code",
      "source": [
        "df_parigi = df_parigi[df_parigi.Xlocation != '']"
      ],
      "metadata": {
        "id": "94Jke-MdKg8t"
      },
      "id": "94Jke-MdKg8t",
      "execution_count": 43,
      "outputs": []
    },
    {
      "cell_type": "code",
      "source": [
        "df_parigi_encoded = pd.get_dummies(df_parigi, columns = ['Type'])\n",
        "df_parigi_encoded"
      ],
      "metadata": {
        "colab": {
          "base_uri": "https://localhost:8080/",
          "height": 540
        },
        "id": "3rR1UdVIhMqi",
        "outputId": "f9717d39-0747-4f1a-e4ea-a01875174bdd"
      },
      "id": "3rR1UdVIhMqi",
      "execution_count": 44,
      "outputs": [
        {
          "output_type": "execute_result",
          "data": {
            "text/plain": [
              "      Ylocation  Xlocation  Type_Parcheggi metro  Type_Parcheggi pubblici  \\\n",
              "0     48.828160   2.327310                     1                        0   \n",
              "1     48.826412   2.357024                     1                        0   \n",
              "2     48.847590   2.257893                     1                        0   \n",
              "3     48.881618   2.370279                     1                        0   \n",
              "4     48.851109   2.333279                     1                        0   \n",
              "...         ...        ...                   ...                      ...   \n",
              "1995  48.854813   2.360318                     0                        0   \n",
              "1996  48.857136   2.354777                     0                        0   \n",
              "1997  48.846268   2.323121                     0                        0   \n",
              "1998  48.857915   2.392794                     0                        0   \n",
              "1999  48.836006   2.397126                     0                        0   \n",
              "\n",
              "      Type_Piste ciclabili / Percorsi autobus  Type_Scuole elementari  \\\n",
              "0                                           0                       0   \n",
              "1                                           0                       0   \n",
              "2                                           0                       0   \n",
              "3                                           0                       0   \n",
              "4                                           0                       0   \n",
              "...                                       ...                     ...   \n",
              "1995                                        0                       0   \n",
              "1996                                        0                       0   \n",
              "1997                                        0                       0   \n",
              "1998                                        0                       0   \n",
              "1999                                        0                       0   \n",
              "\n",
              "      Type_Scuole materne e asili  Type_Stazioni di servizio  \\\n",
              "0                               0                          0   \n",
              "1                               0                          0   \n",
              "2                               0                          0   \n",
              "3                               0                          0   \n",
              "4                               0                          0   \n",
              "...                           ...                        ...   \n",
              "1995                            0                          0   \n",
              "1996                            0                          0   \n",
              "1997                            0                          0   \n",
              "1998                            0                          0   \n",
              "1999                            0                          0   \n",
              "\n",
              "      Type_Strade trasporti  Type_Taxi  Type_Terreno costruito  \\\n",
              "0                         0          0                       0   \n",
              "1                         0          0                       0   \n",
              "2                         0          0                       0   \n",
              "3                         0          0                       0   \n",
              "4                         0          0                       0   \n",
              "...                     ...        ...                     ...   \n",
              "1995                      0          0                       0   \n",
              "1996                      0          0                       1   \n",
              "1997                      0          0                       0   \n",
              "1998                      0          0                       1   \n",
              "1999                      0          0                       0   \n",
              "\n",
              "      Type_Terreno non costruito  Type_Terreno sconosciuto  \n",
              "0                              0                         0  \n",
              "1                              0                         0  \n",
              "2                              0                         0  \n",
              "3                              0                         0  \n",
              "4                              0                         0  \n",
              "...                          ...                       ...  \n",
              "1995                           1                         0  \n",
              "1996                           0                         0  \n",
              "1997                           1                         0  \n",
              "1998                           0                         0  \n",
              "1999                           1                         0  \n",
              "\n",
              "[14179 rows x 13 columns]"
            ],
            "text/html": [
              "\n",
              "  <div id=\"df-ba6ac79d-f9c1-4b4e-b0a9-3dc6d87cd8f6\">\n",
              "    <div class=\"colab-df-container\">\n",
              "      <div>\n",
              "<style scoped>\n",
              "    .dataframe tbody tr th:only-of-type {\n",
              "        vertical-align: middle;\n",
              "    }\n",
              "\n",
              "    .dataframe tbody tr th {\n",
              "        vertical-align: top;\n",
              "    }\n",
              "\n",
              "    .dataframe thead th {\n",
              "        text-align: right;\n",
              "    }\n",
              "</style>\n",
              "<table border=\"1\" class=\"dataframe\">\n",
              "  <thead>\n",
              "    <tr style=\"text-align: right;\">\n",
              "      <th></th>\n",
              "      <th>Ylocation</th>\n",
              "      <th>Xlocation</th>\n",
              "      <th>Type_Parcheggi metro</th>\n",
              "      <th>Type_Parcheggi pubblici</th>\n",
              "      <th>Type_Piste ciclabili / Percorsi autobus</th>\n",
              "      <th>Type_Scuole elementari</th>\n",
              "      <th>Type_Scuole materne e asili</th>\n",
              "      <th>Type_Stazioni di servizio</th>\n",
              "      <th>Type_Strade trasporti</th>\n",
              "      <th>Type_Taxi</th>\n",
              "      <th>Type_Terreno costruito</th>\n",
              "      <th>Type_Terreno non costruito</th>\n",
              "      <th>Type_Terreno sconosciuto</th>\n",
              "    </tr>\n",
              "  </thead>\n",
              "  <tbody>\n",
              "    <tr>\n",
              "      <th>0</th>\n",
              "      <td>48.828160</td>\n",
              "      <td>2.327310</td>\n",
              "      <td>1</td>\n",
              "      <td>0</td>\n",
              "      <td>0</td>\n",
              "      <td>0</td>\n",
              "      <td>0</td>\n",
              "      <td>0</td>\n",
              "      <td>0</td>\n",
              "      <td>0</td>\n",
              "      <td>0</td>\n",
              "      <td>0</td>\n",
              "      <td>0</td>\n",
              "    </tr>\n",
              "    <tr>\n",
              "      <th>1</th>\n",
              "      <td>48.826412</td>\n",
              "      <td>2.357024</td>\n",
              "      <td>1</td>\n",
              "      <td>0</td>\n",
              "      <td>0</td>\n",
              "      <td>0</td>\n",
              "      <td>0</td>\n",
              "      <td>0</td>\n",
              "      <td>0</td>\n",
              "      <td>0</td>\n",
              "      <td>0</td>\n",
              "      <td>0</td>\n",
              "      <td>0</td>\n",
              "    </tr>\n",
              "    <tr>\n",
              "      <th>2</th>\n",
              "      <td>48.847590</td>\n",
              "      <td>2.257893</td>\n",
              "      <td>1</td>\n",
              "      <td>0</td>\n",
              "      <td>0</td>\n",
              "      <td>0</td>\n",
              "      <td>0</td>\n",
              "      <td>0</td>\n",
              "      <td>0</td>\n",
              "      <td>0</td>\n",
              "      <td>0</td>\n",
              "      <td>0</td>\n",
              "      <td>0</td>\n",
              "    </tr>\n",
              "    <tr>\n",
              "      <th>3</th>\n",
              "      <td>48.881618</td>\n",
              "      <td>2.370279</td>\n",
              "      <td>1</td>\n",
              "      <td>0</td>\n",
              "      <td>0</td>\n",
              "      <td>0</td>\n",
              "      <td>0</td>\n",
              "      <td>0</td>\n",
              "      <td>0</td>\n",
              "      <td>0</td>\n",
              "      <td>0</td>\n",
              "      <td>0</td>\n",
              "      <td>0</td>\n",
              "    </tr>\n",
              "    <tr>\n",
              "      <th>4</th>\n",
              "      <td>48.851109</td>\n",
              "      <td>2.333279</td>\n",
              "      <td>1</td>\n",
              "      <td>0</td>\n",
              "      <td>0</td>\n",
              "      <td>0</td>\n",
              "      <td>0</td>\n",
              "      <td>0</td>\n",
              "      <td>0</td>\n",
              "      <td>0</td>\n",
              "      <td>0</td>\n",
              "      <td>0</td>\n",
              "      <td>0</td>\n",
              "    </tr>\n",
              "    <tr>\n",
              "      <th>...</th>\n",
              "      <td>...</td>\n",
              "      <td>...</td>\n",
              "      <td>...</td>\n",
              "      <td>...</td>\n",
              "      <td>...</td>\n",
              "      <td>...</td>\n",
              "      <td>...</td>\n",
              "      <td>...</td>\n",
              "      <td>...</td>\n",
              "      <td>...</td>\n",
              "      <td>...</td>\n",
              "      <td>...</td>\n",
              "      <td>...</td>\n",
              "    </tr>\n",
              "    <tr>\n",
              "      <th>1995</th>\n",
              "      <td>48.854813</td>\n",
              "      <td>2.360318</td>\n",
              "      <td>0</td>\n",
              "      <td>0</td>\n",
              "      <td>0</td>\n",
              "      <td>0</td>\n",
              "      <td>0</td>\n",
              "      <td>0</td>\n",
              "      <td>0</td>\n",
              "      <td>0</td>\n",
              "      <td>0</td>\n",
              "      <td>1</td>\n",
              "      <td>0</td>\n",
              "    </tr>\n",
              "    <tr>\n",
              "      <th>1996</th>\n",
              "      <td>48.857136</td>\n",
              "      <td>2.354777</td>\n",
              "      <td>0</td>\n",
              "      <td>0</td>\n",
              "      <td>0</td>\n",
              "      <td>0</td>\n",
              "      <td>0</td>\n",
              "      <td>0</td>\n",
              "      <td>0</td>\n",
              "      <td>0</td>\n",
              "      <td>1</td>\n",
              "      <td>0</td>\n",
              "      <td>0</td>\n",
              "    </tr>\n",
              "    <tr>\n",
              "      <th>1997</th>\n",
              "      <td>48.846268</td>\n",
              "      <td>2.323121</td>\n",
              "      <td>0</td>\n",
              "      <td>0</td>\n",
              "      <td>0</td>\n",
              "      <td>0</td>\n",
              "      <td>0</td>\n",
              "      <td>0</td>\n",
              "      <td>0</td>\n",
              "      <td>0</td>\n",
              "      <td>0</td>\n",
              "      <td>1</td>\n",
              "      <td>0</td>\n",
              "    </tr>\n",
              "    <tr>\n",
              "      <th>1998</th>\n",
              "      <td>48.857915</td>\n",
              "      <td>2.392794</td>\n",
              "      <td>0</td>\n",
              "      <td>0</td>\n",
              "      <td>0</td>\n",
              "      <td>0</td>\n",
              "      <td>0</td>\n",
              "      <td>0</td>\n",
              "      <td>0</td>\n",
              "      <td>0</td>\n",
              "      <td>1</td>\n",
              "      <td>0</td>\n",
              "      <td>0</td>\n",
              "    </tr>\n",
              "    <tr>\n",
              "      <th>1999</th>\n",
              "      <td>48.836006</td>\n",
              "      <td>2.397126</td>\n",
              "      <td>0</td>\n",
              "      <td>0</td>\n",
              "      <td>0</td>\n",
              "      <td>0</td>\n",
              "      <td>0</td>\n",
              "      <td>0</td>\n",
              "      <td>0</td>\n",
              "      <td>0</td>\n",
              "      <td>0</td>\n",
              "      <td>1</td>\n",
              "      <td>0</td>\n",
              "    </tr>\n",
              "  </tbody>\n",
              "</table>\n",
              "<p>14179 rows × 13 columns</p>\n",
              "</div>\n",
              "      <button class=\"colab-df-convert\" onclick=\"convertToInteractive('df-ba6ac79d-f9c1-4b4e-b0a9-3dc6d87cd8f6')\"\n",
              "              title=\"Convert this dataframe to an interactive table.\"\n",
              "              style=\"display:none;\">\n",
              "        \n",
              "  <svg xmlns=\"http://www.w3.org/2000/svg\" height=\"24px\"viewBox=\"0 0 24 24\"\n",
              "       width=\"24px\">\n",
              "    <path d=\"M0 0h24v24H0V0z\" fill=\"none\"/>\n",
              "    <path d=\"M18.56 5.44l.94 2.06.94-2.06 2.06-.94-2.06-.94-.94-2.06-.94 2.06-2.06.94zm-11 1L8.5 8.5l.94-2.06 2.06-.94-2.06-.94L8.5 2.5l-.94 2.06-2.06.94zm10 10l.94 2.06.94-2.06 2.06-.94-2.06-.94-.94-2.06-.94 2.06-2.06.94z\"/><path d=\"M17.41 7.96l-1.37-1.37c-.4-.4-.92-.59-1.43-.59-.52 0-1.04.2-1.43.59L10.3 9.45l-7.72 7.72c-.78.78-.78 2.05 0 2.83L4 21.41c.39.39.9.59 1.41.59.51 0 1.02-.2 1.41-.59l7.78-7.78 2.81-2.81c.8-.78.8-2.07 0-2.86zM5.41 20L4 18.59l7.72-7.72 1.47 1.35L5.41 20z\"/>\n",
              "  </svg>\n",
              "      </button>\n",
              "      \n",
              "  <style>\n",
              "    .colab-df-container {\n",
              "      display:flex;\n",
              "      flex-wrap:wrap;\n",
              "      gap: 12px;\n",
              "    }\n",
              "\n",
              "    .colab-df-convert {\n",
              "      background-color: #E8F0FE;\n",
              "      border: none;\n",
              "      border-radius: 50%;\n",
              "      cursor: pointer;\n",
              "      display: none;\n",
              "      fill: #1967D2;\n",
              "      height: 32px;\n",
              "      padding: 0 0 0 0;\n",
              "      width: 32px;\n",
              "    }\n",
              "\n",
              "    .colab-df-convert:hover {\n",
              "      background-color: #E2EBFA;\n",
              "      box-shadow: 0px 1px 2px rgba(60, 64, 67, 0.3), 0px 1px 3px 1px rgba(60, 64, 67, 0.15);\n",
              "      fill: #174EA6;\n",
              "    }\n",
              "\n",
              "    [theme=dark] .colab-df-convert {\n",
              "      background-color: #3B4455;\n",
              "      fill: #D2E3FC;\n",
              "    }\n",
              "\n",
              "    [theme=dark] .colab-df-convert:hover {\n",
              "      background-color: #434B5C;\n",
              "      box-shadow: 0px 1px 3px 1px rgba(0, 0, 0, 0.15);\n",
              "      filter: drop-shadow(0px 1px 2px rgba(0, 0, 0, 0.3));\n",
              "      fill: #FFFFFF;\n",
              "    }\n",
              "  </style>\n",
              "\n",
              "      <script>\n",
              "        const buttonEl =\n",
              "          document.querySelector('#df-ba6ac79d-f9c1-4b4e-b0a9-3dc6d87cd8f6 button.colab-df-convert');\n",
              "        buttonEl.style.display =\n",
              "          google.colab.kernel.accessAllowed ? 'block' : 'none';\n",
              "\n",
              "        async function convertToInteractive(key) {\n",
              "          const element = document.querySelector('#df-ba6ac79d-f9c1-4b4e-b0a9-3dc6d87cd8f6');\n",
              "          const dataTable =\n",
              "            await google.colab.kernel.invokeFunction('convertToInteractive',\n",
              "                                                     [key], {});\n",
              "          if (!dataTable) return;\n",
              "\n",
              "          const docLinkHtml = 'Like what you see? Visit the ' +\n",
              "            '<a target=\"_blank\" href=https://colab.research.google.com/notebooks/data_table.ipynb>data table notebook</a>'\n",
              "            + ' to learn more about interactive tables.';\n",
              "          element.innerHTML = '';\n",
              "          dataTable['output_type'] = 'display_data';\n",
              "          await google.colab.output.renderOutput(dataTable, element);\n",
              "          const docLink = document.createElement('div');\n",
              "          docLink.innerHTML = docLinkHtml;\n",
              "          element.appendChild(docLink);\n",
              "        }\n",
              "      </script>\n",
              "    </div>\n",
              "  </div>\n",
              "  "
            ]
          },
          "metadata": {},
          "execution_count": 44
        }
      ]
    },
    {
      "cell_type": "markdown",
      "source": [
        "# Data Modelling: Hierachical clustering"
      ],
      "metadata": {
        "id": "uwtWzpQPhbCj"
      },
      "id": "uwtWzpQPhbCj"
    },
    {
      "cell_type": "code",
      "source": [
        "from sklearn.cluster import AgglomerativeClustering\n",
        "from yellowbrick.cluster import KElbowVisualizer\n",
        "import matplotlib.pyplot as plt\n",
        "import seaborn as sns"
      ],
      "metadata": {
        "id": "mg1lxUN-hZPC"
      },
      "id": "mg1lxUN-hZPC",
      "execution_count": 45,
      "outputs": []
    },
    {
      "cell_type": "markdown",
      "source": [
        "## Elbow method to decide on the number of clusters"
      ],
      "metadata": {
        "id": "lJt0j5b2himj"
      },
      "id": "lJt0j5b2himj"
    },
    {
      "cell_type": "markdown",
      "source": [
        "Dataset toppo grande, non gli bastano 8 GB di RAM"
      ],
      "metadata": {
        "id": "0LrH71mniVhU"
      },
      "id": "0LrH71mniVhU"
    },
    {
      "cell_type": "code",
      "source": [
        "model = AgglomerativeClustering()\n",
        "# k is range of number of clusters.\n",
        "visualizer = KElbowVisualizer(model, k=(2,10), timings=False)\n",
        "# Fit data to visualizer\n",
        "visualizer.fit(df_parigi_encoded)\n",
        "# Finalize and render figure\n",
        "visualizer.show()"
      ],
      "metadata": {
        "colab": {
          "base_uri": "https://localhost:8080/",
          "height": 393
        },
        "id": "6M5lXptPhg8L",
        "outputId": "abb83ca4-1a30-49a3-831f-7ae0bb6ff421"
      },
      "id": "6M5lXptPhg8L",
      "execution_count": 46,
      "outputs": [
        {
          "output_type": "display_data",
          "data": {
            "text/plain": [
              "<Figure size 576x396 with 1 Axes>"
            ],
            "image/png": "[encoded data removed]"
          },
          "metadata": {}
        },
        {
          "output_type": "execute_result",
          "data": {
            "text/plain": [
              "<matplotlib.axes._subplots.AxesSubplot at 0x7f450a574880>"
            ]
          },
          "metadata": {},
          "execution_count": 46
        }
      ]
    },
    {
      "cell_type": "markdown",
      "source": [
        "## Making Prediction"
      ],
      "metadata": {
        "id": "r_E8J1YQmzXg"
      },
      "id": "r_E8J1YQmzXg"
    },
    {
      "cell_type": "code",
      "source": [
        "# Hierachical clustering model\n",
        "hc = AgglomerativeClustering(n_clusters = 6)\n",
        "# Fit and predict on the data\n",
        "y_hc = hc.fit_predict(df_parigi_encoded)\n",
        "# Save the predictions as a column\n",
        "df_parigi['Cluster'] = y_hc\n",
        "# Check the distribution\n",
        "df_parigi['Cluster'].value_counts()"
      ],
      "metadata": {
        "id": "Kf9ALIDvm88P",
        "colab": {
          "base_uri": "https://localhost:8080/"
        },
        "outputId": "b75792eb-0722-4b6a-a8e7-1fc3e80862f5"
      },
      "id": "Kf9ALIDvm88P",
      "execution_count": 48,
      "outputs": [
        {
          "output_type": "execute_result",
          "data": {
            "text/plain": [
              "0    3604\n",
              "4    2580\n",
              "2    2000\n",
              "3    2000\n",
              "1    2000\n",
              "5    1995\n",
              "Name: Cluster, dtype: int64"
            ]
          },
          "metadata": {},
          "execution_count": 48
        }
      ]
    },
    {
      "cell_type": "code",
      "source": [
        "df_parigi.to_csv('Parigi_cluster.csv', encoding='utf-8')"
      ],
      "metadata": {
        "id": "7fhy_yzG-FEd"
      },
      "id": "7fhy_yzG-FEd",
      "execution_count": 63,
      "outputs": []
    }
  ],
  "metadata": {
    "kernelspec": {
      "display_name": "Python 3.9.12 ('base')",
      "language": "python",
      "name": "python3"
    },
    "language_info": {
      "codemirror_mode": {
        "name": "ipython",
        "version": 3
      },
      "file_extension": ".py",
      "mimetype": "text/x-python",
      "name": "python",
      "nbconvert_exporter": "python",
      "pygments_lexer": "ipython3",
      "version": "3.9.12"
    },
    "vscode": {
      "interpreter": {
        "hash": "76c27dc517e18060693f9f4b95872dd65e97431863ddf701dd22ecd46900d9b4"
      }
    },
    "colab": {
      "provenance": []
    }
  },
  "nbformat": 4,
  "nbformat_minor": 5
}