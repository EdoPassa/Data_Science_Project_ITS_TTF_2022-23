{
  "cells": [
    {
      "cell_type": "markdown",
      "metadata": {
        "id": "view-in-github",
        "colab_type": "text"
      },
      "source": [
        "<a href=\"https://colab.research.google.com/github/EdoPassa/Data_Science_Project_ITS_TTF_2022-23/blob/main/Data%20Mining/dsProject/Data_Mining_Parigi.ipynb\" target=\"_parent\"><img src=\"https://colab.research.google.com/assets/colab-badge.svg\" alt=\"Open In Colab\"/></a>"
      ]
    },
    {
      "cell_type": "markdown",
      "id": "385c69cc-8d3d-4462-a04e-dd5f9ff0e734",
      "metadata": {
        "id": "385c69cc-8d3d-4462-a04e-dd5f9ff0e734"
      },
      "source": [
        "# Data Wrangling"
      ]
    },
    {
      "cell_type": "code",
      "source": [
        "pip install mysql-connector-python"
      ],
      "metadata": {
        "colab": {
          "base_uri": "https://localhost:8080/"
        },
        "id": "tpmWRLEcWPmM",
        "outputId": "5cbbe6e4-7571-4bd0-c3cd-fe96917c18f1"
      },
      "id": "tpmWRLEcWPmM",
      "execution_count": 44,
      "outputs": [
        {
          "output_type": "stream",
          "name": "stdout",
          "text": [
            "Looking in indexes: https://pypi.org/simple, https://us-python.pkg.dev/colab-wheels/public/simple/\n",
            "Requirement already satisfied: mysql-connector-python in /usr/local/lib/python3.8/dist-packages (8.0.31)\n",
            "Requirement already satisfied: protobuf<=3.20.1,>=3.11.0 in /usr/local/lib/python3.8/dist-packages (from mysql-connector-python) (3.19.6)\n"
          ]
        }
      ]
    },
    {
      "cell_type": "code",
      "execution_count": 45,
      "id": "6c90c189-3595-488a-9ac4-62f37e71c7c5",
      "metadata": {
        "id": "6c90c189-3595-488a-9ac4-62f37e71c7c5"
      },
      "outputs": [],
      "source": [
        "import mysql.connector as connection\n",
        "import numpy as np\n",
        "import pandas as pd"
      ]
    },
    {
      "cell_type": "code",
      "execution_count": 46,
      "id": "afdc912a-f622-4e25-bc5a-127f86bfea3e",
      "metadata": {
        "id": "afdc912a-f622-4e25-bc5a-127f86bfea3e"
      },
      "outputs": [],
      "source": [
        "mydb = connection.connect(host='ttfprojectdb.cdjjwxlk5ujc.eu-central-1.rds.amazonaws.com',\n",
        "                        database='database-data-science-project-its-ttf-2022-23',\n",
        "                        user='edoardo',\n",
        "                        password='PG8Io90EcKBVEg2iKLgi')"
      ]
    },
    {
      "cell_type": "code",
      "execution_count": 47,
      "id": "4a02bfa7",
      "metadata": {
        "id": "4a02bfa7"
      },
      "outputs": [],
      "source": [
        "query_metro_parcheggi = \"Select * from Acessi_metro_e_parcheggi_per_metro_parigi;\"\n",
        "df_metro_parcheggi = pd.read_sql(query_metro_parcheggi,mydb)\n",
        "\n",
        "query_parcheggi_su_strada_e_diritti_di_passaggio_parigi = \"select * from parcheggi_su_strada_e_diritti_di_passaggio_parigi\"\n",
        "df_parcheggi_su_strada_parigi = pd.read_sql(query_parcheggi_su_strada_e_diritti_di_passaggio_parigi,mydb)\n",
        "\n",
        "query_piste_ciclabili_e_percorsi_degli_autobus_parigi = \"select * from piste_ciclabili_e_percorsi_degli_autobus_parigi\"\n",
        "df_piste_cic_percorsi_autobus = pd.read_sql(query_piste_ciclabili_e_percorsi_degli_autobus_parigi,mydb)\n",
        "\n",
        "query_scuole_elementari_parigi = \"select * from scuole_elementari_parigi\"\n",
        "df_elementari_parigi = pd.read_sql(query_scuole_elementari_parigi,mydb)\n",
        "\n",
        "query_scuole_materne_asili_parigi = \"select * from scuole_materne_asili\"\n",
        "df_scuole_materne_asili_parigi = pd.read_sql(query_scuole_materne_asili_parigi,mydb)\n",
        "\n",
        "query_strade_e_trasporti_parigi = \"select * from strade_e_trasporti_parigi \"\n",
        "df_stra_trasporti_parigi = pd.read_sql(query_strade_e_trasporti_parigi,mydb)\n",
        "\n",
        "query_stazioni_servizio_parigi = \"select * from stazioni_servizio_veicoli_parigi\"\n",
        "df_staz_servizio_parigi = pd.read_sql(query_stazioni_servizio_parigi,mydb)\n",
        "\n",
        "query_Taxi_parigi = \"select * from Taxi_parigi\"\n",
        "df_taxi_parigi = pd.read_sql(query_Taxi_parigi,mydb)\n",
        "\n",
        "query_terreni_costruibili_e_non_parigi = \"select * from terreni_costruibili_e_non_costruibili_parigi\"\n",
        "df_terreni_parigi = pd.read_sql(query_terreni_costruibili_e_non_parigi,mydb)"
      ]
    },
    {
      "cell_type": "markdown",
      "id": "9d20a3b9",
      "metadata": {
        "id": "9d20a3b9"
      },
      "source": [
        "### Prep the data for the clustering"
      ]
    },
    {
      "cell_type": "markdown",
      "source": [
        "#### parcheggi metro"
      ],
      "metadata": {
        "id": "FYmfMd_Z6lrO"
      },
      "id": "FYmfMd_Z6lrO"
    },
    {
      "cell_type": "code",
      "execution_count": 48,
      "id": "73072967",
      "metadata": {
        "id": "73072967"
      },
      "outputs": [],
      "source": [
        "df_metro_parcheggi_parigi_mod = df_metro_parcheggi['geo_point_2d'].str.split(',', expand=True)\n",
        "df_metro_parcheggi_parigi_mod = df_metro_parcheggi_parigi_mod.rename(columns={0: 'Ylocation', 1: 'Xlocation'})\n",
        "df_metro_parcheggi_parigi_mod['Type'] = 'Parcheggi metro'"
      ]
    },
    {
      "cell_type": "markdown",
      "source": [
        "#### parcheggi su strada"
      ],
      "metadata": {
        "id": "9GFMxQ0T61s-"
      },
      "id": "9GFMxQ0T61s-"
    },
    {
      "cell_type": "code",
      "execution_count": 49,
      "id": "3123fb15",
      "metadata": {
        "id": "3123fb15"
      },
      "outputs": [],
      "source": [
        "df_parcheggi_su_strada_parigi_mod = df_parcheggi_su_strada_parigi['geo_point_2d'].str.split(',', expand=True)\n",
        "df_parcheggi_su_strada_parigi_mod = df_parcheggi_su_strada_parigi_mod.rename(columns={0: 'Ylocation', 1: 'Xlocation'})\n",
        "df_parcheggi_su_strada_parigi_mod['Type'] = 'Parcheggi pubblici'"
      ]
    },
    {
      "cell_type": "markdown",
      "source": [
        "#### piste ciclabili e percorsi autobus"
      ],
      "metadata": {
        "id": "iORR8GTd65gO"
      },
      "id": "iORR8GTd65gO"
    },
    {
      "cell_type": "code",
      "execution_count": 50,
      "id": "ba3ae741",
      "metadata": {
        "id": "ba3ae741"
      },
      "outputs": [],
      "source": [
        "df_piste_cic_percorsi_autobus_mod = df_piste_cic_percorsi_autobus['geo_point_2d'].str.split(',', expand=True)\n",
        "df_piste_cic_percorsi_autobus_mod = df_piste_cic_percorsi_autobus_mod.rename(columns={0: 'Ylocation', 1: 'Xlocation'})\n",
        "df_piste_cic_percorsi_autobus_mod['Type'] = 'Piste ciclabili / Percorsi autobus'"
      ]
    },
    {
      "cell_type": "markdown",
      "source": [
        "#### scuole elementari"
      ],
      "metadata": {
        "id": "VTMJDvr67B9O"
      },
      "id": "VTMJDvr67B9O"
    },
    {
      "cell_type": "code",
      "execution_count": 51,
      "id": "c61ba144",
      "metadata": {
        "id": "c61ba144"
      },
      "outputs": [],
      "source": [
        "df_elementari_parigi_mod = df_elementari_parigi['geo_point_2d'].str.split(',', expand=True)\n",
        "df_elementari_parigi_mod = df_elementari_parigi_mod.rename(columns={0: 'Ylocation', 1: 'Xlocation'})\n",
        "df_elementari_parigi_mod['Type'] = 'Scuole elementari'"
      ]
    },
    {
      "cell_type": "markdown",
      "source": [
        "#### scuole materne"
      ],
      "metadata": {
        "id": "A5HURYko7Eam"
      },
      "id": "A5HURYko7Eam"
    },
    {
      "cell_type": "code",
      "execution_count": 52,
      "id": "0dd99294",
      "metadata": {
        "id": "0dd99294"
      },
      "outputs": [],
      "source": [
        "df_scuole_materne_asili_parig_mod = df_scuole_materne_asili_parigi['geo_point_2d'].str.split(',', expand=True)\n",
        "df_scuole_materne_asili_parig_mod = df_scuole_materne_asili_parig_mod.rename(columns={0: 'Ylocation', 1: 'Xlocation'})\n",
        "df_scuole_materne_asili_parig_mod['Type'] = 'Scuole materne e asili'"
      ]
    },
    {
      "cell_type": "markdown",
      "source": [
        "#### strade trasporti"
      ],
      "metadata": {
        "id": "S4ZAUOEw7JGP"
      },
      "id": "S4ZAUOEw7JGP"
    },
    {
      "cell_type": "code",
      "execution_count": 53,
      "id": "a330f5b8",
      "metadata": {
        "id": "a330f5b8"
      },
      "outputs": [],
      "source": [
        "df_stra_trasporti_parigi_mod = df_stra_trasporti_parigi['geo_point_2d'].str.split(',', expand=True)\n",
        "df_stra_trasporti_parigi_mod = df_stra_trasporti_parigi_mod.rename(columns={0: 'Ylocation', 1: 'Xlocation'})\n",
        "df_stra_trasporti_parigi_mod['Type'] = 'Strade trasporti' "
      ]
    },
    {
      "cell_type": "markdown",
      "source": [
        "#### stazioni servizio"
      ],
      "metadata": {
        "id": "_RfeA8in7Nd1"
      },
      "id": "_RfeA8in7Nd1"
    },
    {
      "cell_type": "code",
      "execution_count": 54,
      "id": "8ef8e0fc",
      "metadata": {
        "id": "8ef8e0fc"
      },
      "outputs": [],
      "source": [
        "df_staz_servizio_parigi_mod = df_staz_servizio_parigi['geo_point_2d'].str.split(',', expand=True)\n",
        "df_staz_servizio_parigi_mod = df_staz_servizio_parigi_mod.rename(columns={0: 'Ylocation', 1: 'Xlocation'})\n",
        "df_staz_servizio_parigi_mod['Type'] = 'Stazioni di servizio'"
      ]
    },
    {
      "cell_type": "markdown",
      "source": [
        "#### taxi"
      ],
      "metadata": {
        "id": "TzZTc4Hk7Vde"
      },
      "id": "TzZTc4Hk7Vde"
    },
    {
      "cell_type": "code",
      "execution_count": 55,
      "id": "bc492bb8",
      "metadata": {
        "id": "bc492bb8"
      },
      "outputs": [],
      "source": [
        "df_taxi_parigi_mod = df_taxi_parigi['geo_point_2d'].str.split(',', expand=True)\n",
        "df_taxi_parigi_mod = df_taxi_parigi_mod.rename(columns={0: 'Ylocation', 1: 'Xlocation'})\n",
        "df_taxi_parigi_mod['Type'] = 'Taxi'"
      ]
    },
    {
      "cell_type": "markdown",
      "source": [
        "#### terreni parigi"
      ],
      "metadata": {
        "id": "zXZukr967amM"
      },
      "id": "zXZukr967amM"
    },
    {
      "cell_type": "code",
      "execution_count": 56,
      "id": "79e4962e",
      "metadata": {
        "id": "79e4962e"
      },
      "outputs": [],
      "source": [
        "df_terreni_parigi_cnat = df_terreni_parigi.drop(['ID', 'OBJECTID', 'X','Y', 'geo_point_2d'], axis=1)\n",
        "# Replace column value\n",
        "df_terreni_parigi_cnat = df_terreni_parigi_cnat.replace(['B','N','I'],['Terreno costruito','Terreno non costruito','Terreno sconosciuto'])\n",
        "df_terreni_parigi_cnat = df_terreni_parigi_cnat.rename(columns={'C_NAT': 'Type'})"
      ]
    },
    {
      "cell_type": "code",
      "execution_count": 57,
      "id": "5f622edd",
      "metadata": {
        "id": "5f622edd"
      },
      "outputs": [],
      "source": [
        "df_terreni_parigi_geo = df_terreni_parigi['geo_point_2d'].str.split(',', expand=True)\n",
        "df_terreni_parigi_geo = df_terreni_parigi_geo.rename(columns={0: 'Ylocation', 1: 'Xlocation'})"
      ]
    },
    {
      "cell_type": "code",
      "source": [
        "df_terreni_parigi_cnat.insert(0, 'ID', range(0, 0 + len(df_terreni_parigi_cnat)))\n",
        "df_terreni_parigi_geo.insert(0, 'ID', range(0, 0 + len(df_terreni_parigi_geo)))"
      ],
      "metadata": {
        "id": "J-MXjJr13r5G"
      },
      "id": "J-MXjJr13r5G",
      "execution_count": 58,
      "outputs": []
    },
    {
      "cell_type": "code",
      "source": [
        "df_terreni_parigi_mod = pd.merge(df_terreni_parigi_geo,df_terreni_parigi_cnat)\n",
        "df_terreni_parigi_mod = df_terreni_parigi_mod.drop(['ID'], axis=1)"
      ],
      "metadata": {
        "id": "sVYQ9xKj5AXS"
      },
      "id": "sVYQ9xKj5AXS",
      "execution_count": 59,
      "outputs": []
    },
    {
      "cell_type": "markdown",
      "source": [
        "### unisco i vari df in un unico dataframe"
      ],
      "metadata": {
        "id": "4-n2EviRDE0h"
      },
      "id": "4-n2EviRDE0h"
    },
    {
      "cell_type": "code",
      "source": [
        "df_parigi = df_metro_parcheggi_parigi_mod.append(df_parcheggi_su_strada_parigi_mod)"
      ],
      "metadata": {
        "id": "vvn2kpbsEPqv"
      },
      "id": "vvn2kpbsEPqv",
      "execution_count": 60,
      "outputs": []
    },
    {
      "cell_type": "code",
      "source": [
        "df_parigi = df_parigi.append(df_piste_cic_percorsi_autobus_mod)"
      ],
      "metadata": {
        "id": "y8opKPZTFU2-"
      },
      "id": "y8opKPZTFU2-",
      "execution_count": 61,
      "outputs": []
    },
    {
      "cell_type": "code",
      "source": [
        "df_parigi = df_parigi.append(df_scuole_materne_asili_parig_mod)"
      ],
      "metadata": {
        "id": "BN4WisUdFs3g"
      },
      "id": "BN4WisUdFs3g",
      "execution_count": 62,
      "outputs": []
    },
    {
      "cell_type": "code",
      "source": [
        "df_parigi = df_parigi.append(df_elementari_parigi_mod)"
      ],
      "metadata": {
        "id": "Q71vOLMwF6pt"
      },
      "id": "Q71vOLMwF6pt",
      "execution_count": 63,
      "outputs": []
    },
    {
      "cell_type": "code",
      "source": [
        "df_parigi = df_parigi.append(df_stra_trasporti_parigi_mod)"
      ],
      "metadata": {
        "id": "INBfaC2ZGE1s"
      },
      "id": "INBfaC2ZGE1s",
      "execution_count": 64,
      "outputs": []
    },
    {
      "cell_type": "code",
      "source": [
        "df_parigi = df_parigi.append(df_staz_servizio_parigi_mod)"
      ],
      "metadata": {
        "id": "EUD62c9IGJP4"
      },
      "id": "EUD62c9IGJP4",
      "execution_count": 65,
      "outputs": []
    },
    {
      "cell_type": "code",
      "source": [
        "df_parigi = df_parigi.append(df_taxi_parigi_mod)"
      ],
      "metadata": {
        "id": "4rAXC6evGOTM"
      },
      "id": "4rAXC6evGOTM",
      "execution_count": 66,
      "outputs": []
    },
    {
      "cell_type": "code",
      "source": [
        "df_parigi = df_parigi.append(df_terreni_parigi_mod)"
      ],
      "metadata": {
        "id": "1qW7jPFNGPd_"
      },
      "id": "1qW7jPFNGPd_",
      "execution_count": 67,
      "outputs": []
    },
    {
      "cell_type": "markdown",
      "source": [
        "## Encoding"
      ],
      "metadata": {
        "id": "0A7NKkNHhKhE"
      },
      "id": "0A7NKkNHhKhE"
    },
    {
      "cell_type": "markdown",
      "source": [
        "### Cambio tipo cordinate str-->float\n",
        "#### ma prima controllo e elimino eventuali null"
      ],
      "metadata": {
        "id": "TDe0dwUt8l5j"
      },
      "id": "TDe0dwUt8l5j"
    },
    {
      "cell_type": "code",
      "source": [
        "df_parigi.isna().sum()"
      ],
      "metadata": {
        "id": "kxUhA1x3Gfk2",
        "colab": {
          "base_uri": "https://localhost:8080/"
        },
        "outputId": "f72f5d70-046a-4d77-efe9-a1d303e051a8"
      },
      "id": "kxUhA1x3Gfk2",
      "execution_count": 68,
      "outputs": [
        {
          "output_type": "execute_result",
          "data": {
            "text/plain": [
              "Ylocation       0\n",
              "Xlocation    1249\n",
              "Type            0\n",
              "dtype: int64"
            ]
          },
          "metadata": {},
          "execution_count": 68
        }
      ]
    },
    {
      "cell_type": "code",
      "source": [
        "df_parigi = df_parigi.dropna()"
      ],
      "metadata": {
        "id": "aWWca17hJT4J"
      },
      "id": "aWWca17hJT4J",
      "execution_count": 69,
      "outputs": []
    },
    {
      "cell_type": "code",
      "source": [
        "df_parigi.isna().sum()"
      ],
      "metadata": {
        "id": "x1nPI8n_Jgxi",
        "colab": {
          "base_uri": "https://localhost:8080/"
        },
        "outputId": "8f375de6-84d1-4fa9-bb41-c95a80cd1a76"
      },
      "id": "x1nPI8n_Jgxi",
      "execution_count": 70,
      "outputs": [
        {
          "output_type": "execute_result",
          "data": {
            "text/plain": [
              "Ylocation    0\n",
              "Xlocation    0\n",
              "Type         0\n",
              "dtype: int64"
            ]
          },
          "metadata": {},
          "execution_count": 70
        }
      ]
    },
    {
      "cell_type": "code",
      "source": [
        "df_parigi['Xlocation'] = df_parigi['Xlocation'].astype(float)\n",
        "df_parigi['Ylocation'] = df_parigi['Ylocation'].astype(float)"
      ],
      "metadata": {
        "id": "C5lR2Xt1JvWS"
      },
      "id": "C5lR2Xt1JvWS",
      "execution_count": 71,
      "outputs": []
    },
    {
      "cell_type": "code",
      "source": [
        "df_parigi = df_parigi[df_parigi.Xlocation != '']"
      ],
      "metadata": {
        "id": "94Jke-MdKg8t"
      },
      "id": "94Jke-MdKg8t",
      "execution_count": 72,
      "outputs": []
    },
    {
      "cell_type": "code",
      "source": [
        "df_parigi_encoded = pd.get_dummies(df_parigi, columns = ['Type'])\n",
        "df_parigi_encoded"
      ],
      "metadata": {
        "colab": {
          "base_uri": "https://localhost:8080/",
          "height": 485
        },
        "id": "3rR1UdVIhMqi",
        "outputId": "b8eec278-9317-478b-806b-0503eda861e5"
      },
      "id": "3rR1UdVIhMqi",
      "execution_count": 73,
      "outputs": [
        {
          "output_type": "execute_result",
          "data": {
            "text/plain": [
              "        Ylocation  Xlocation  Type_Parcheggi metro  Type_Parcheggi pubblici  \\\n",
              "0       48.828160   2.327310                     1                        0   \n",
              "1       48.826412   2.357024                     1                        0   \n",
              "2       48.847590   2.257893                     1                        0   \n",
              "3       48.881618   2.370279                     1                        0   \n",
              "4       48.851109   2.333279                     1                        0   \n",
              "...           ...        ...                   ...                      ...   \n",
              "297021  48.862097   2.341861                     0                        0   \n",
              "297022  48.824964   2.356960                     0                        0   \n",
              "297023  48.847241   2.310358                     0                        0   \n",
              "297024  48.854507   2.355844                     0                        0   \n",
              "297025  48.857285   2.358080                     0                        0   \n",
              "\n",
              "        Type_Piste ciclabili / Percorsi autobus  Type_Scuole elementari  \\\n",
              "0                                             0                       0   \n",
              "1                                             0                       0   \n",
              "2                                             0                       0   \n",
              "3                                             0                       0   \n",
              "4                                             0                       0   \n",
              "...                                         ...                     ...   \n",
              "297021                                        0                       0   \n",
              "297022                                        0                       0   \n",
              "297023                                        0                       0   \n",
              "297024                                        0                       0   \n",
              "297025                                        0                       0   \n",
              "\n",
              "        Type_Scuole materne e asili  Type_Stazioni di servizio  \\\n",
              "0                                 0                          0   \n",
              "1                                 0                          0   \n",
              "2                                 0                          0   \n",
              "3                                 0                          0   \n",
              "4                                 0                          0   \n",
              "...                             ...                        ...   \n",
              "297021                            0                          0   \n",
              "297022                            0                          0   \n",
              "297023                            0                          0   \n",
              "297024                            0                          0   \n",
              "297025                            0                          0   \n",
              "\n",
              "        Type_Strade trasporti  Type_Taxi  Type_Terreno costruito  \\\n",
              "0                           0          0                       0   \n",
              "1                           0          0                       0   \n",
              "2                           0          0                       0   \n",
              "3                           0          0                       0   \n",
              "4                           0          0                       0   \n",
              "...                       ...        ...                     ...   \n",
              "297021                      0          0                       1   \n",
              "297022                      0          0                       1   \n",
              "297023                      0          0                       1   \n",
              "297024                      0          0                       1   \n",
              "297025                      0          0                       1   \n",
              "\n",
              "        Type_Terreno non costruito  Type_Terreno sconosciuto  \n",
              "0                                0                         0  \n",
              "1                                0                         0  \n",
              "2                                0                         0  \n",
              "3                                0                         0  \n",
              "4                                0                         0  \n",
              "...                            ...                       ...  \n",
              "297021                           0                         0  \n",
              "297022                           0                         0  \n",
              "297023                           0                         0  \n",
              "297024                           0                         0  \n",
              "297025                           0                         0  \n",
              "\n",
              "[472599 rows x 13 columns]"
            ],
            "text/html": [
              "\n",
              "  <div id=\"df-2a82ade5-1445-4bb5-9765-8839b30f1d0f\">\n",
              "    <div class=\"colab-df-container\">\n",
              "      <div>\n",
              "<style scoped>\n",
              "    .dataframe tbody tr th:only-of-type {\n",
              "        vertical-align: middle;\n",
              "    }\n",
              "\n",
              "    .dataframe tbody tr th {\n",
              "        vertical-align: top;\n",
              "    }\n",
              "\n",
              "    .dataframe thead th {\n",
              "        text-align: right;\n",
              "    }\n",
              "</style>\n",
              "<table border=\"1\" class=\"dataframe\">\n",
              "  <thead>\n",
              "    <tr style=\"text-align: right;\">\n",
              "      <th></th>\n",
              "      <th>Ylocation</th>\n",
              "      <th>Xlocation</th>\n",
              "      <th>Type_Parcheggi metro</th>\n",
              "      <th>Type_Parcheggi pubblici</th>\n",
              "      <th>Type_Piste ciclabili / Percorsi autobus</th>\n",
              "      <th>Type_Scuole elementari</th>\n",
              "      <th>Type_Scuole materne e asili</th>\n",
              "      <th>Type_Stazioni di servizio</th>\n",
              "      <th>Type_Strade trasporti</th>\n",
              "      <th>Type_Taxi</th>\n",
              "      <th>Type_Terreno costruito</th>\n",
              "      <th>Type_Terreno non costruito</th>\n",
              "      <th>Type_Terreno sconosciuto</th>\n",
              "    </tr>\n",
              "  </thead>\n",
              "  <tbody>\n",
              "    <tr>\n",
              "      <th>0</th>\n",
              "      <td>48.828160</td>\n",
              "      <td>2.327310</td>\n",
              "      <td>1</td>\n",
              "      <td>0</td>\n",
              "      <td>0</td>\n",
              "      <td>0</td>\n",
              "      <td>0</td>\n",
              "      <td>0</td>\n",
              "      <td>0</td>\n",
              "      <td>0</td>\n",
              "      <td>0</td>\n",
              "      <td>0</td>\n",
              "      <td>0</td>\n",
              "    </tr>\n",
              "    <tr>\n",
              "      <th>1</th>\n",
              "      <td>48.826412</td>\n",
              "      <td>2.357024</td>\n",
              "      <td>1</td>\n",
              "      <td>0</td>\n",
              "      <td>0</td>\n",
              "      <td>0</td>\n",
              "      <td>0</td>\n",
              "      <td>0</td>\n",
              "      <td>0</td>\n",
              "      <td>0</td>\n",
              "      <td>0</td>\n",
              "      <td>0</td>\n",
              "      <td>0</td>\n",
              "    </tr>\n",
              "    <tr>\n",
              "      <th>2</th>\n",
              "      <td>48.847590</td>\n",
              "      <td>2.257893</td>\n",
              "      <td>1</td>\n",
              "      <td>0</td>\n",
              "      <td>0</td>\n",
              "      <td>0</td>\n",
              "      <td>0</td>\n",
              "      <td>0</td>\n",
              "      <td>0</td>\n",
              "      <td>0</td>\n",
              "      <td>0</td>\n",
              "      <td>0</td>\n",
              "      <td>0</td>\n",
              "    </tr>\n",
              "    <tr>\n",
              "      <th>3</th>\n",
              "      <td>48.881618</td>\n",
              "      <td>2.370279</td>\n",
              "      <td>1</td>\n",
              "      <td>0</td>\n",
              "      <td>0</td>\n",
              "      <td>0</td>\n",
              "      <td>0</td>\n",
              "      <td>0</td>\n",
              "      <td>0</td>\n",
              "      <td>0</td>\n",
              "      <td>0</td>\n",
              "      <td>0</td>\n",
              "      <td>0</td>\n",
              "    </tr>\n",
              "    <tr>\n",
              "      <th>4</th>\n",
              "      <td>48.851109</td>\n",
              "      <td>2.333279</td>\n",
              "      <td>1</td>\n",
              "      <td>0</td>\n",
              "      <td>0</td>\n",
              "      <td>0</td>\n",
              "      <td>0</td>\n",
              "      <td>0</td>\n",
              "      <td>0</td>\n",
              "      <td>0</td>\n",
              "      <td>0</td>\n",
              "      <td>0</td>\n",
              "      <td>0</td>\n",
              "    </tr>\n",
              "    <tr>\n",
              "      <th>...</th>\n",
              "      <td>...</td>\n",
              "      <td>...</td>\n",
              "      <td>...</td>\n",
              "      <td>...</td>\n",
              "      <td>...</td>\n",
              "      <td>...</td>\n",
              "      <td>...</td>\n",
              "      <td>...</td>\n",
              "      <td>...</td>\n",
              "      <td>...</td>\n",
              "      <td>...</td>\n",
              "      <td>...</td>\n",
              "      <td>...</td>\n",
              "    </tr>\n",
              "    <tr>\n",
              "      <th>297021</th>\n",
              "      <td>48.862097</td>\n",
              "      <td>2.341861</td>\n",
              "      <td>0</td>\n",
              "      <td>0</td>\n",
              "      <td>0</td>\n",
              "      <td>0</td>\n",
              "      <td>0</td>\n",
              "      <td>0</td>\n",
              "      <td>0</td>\n",
              "      <td>0</td>\n",
              "      <td>1</td>\n",
              "      <td>0</td>\n",
              "      <td>0</td>\n",
              "    </tr>\n",
              "    <tr>\n",
              "      <th>297022</th>\n",
              "      <td>48.824964</td>\n",
              "      <td>2.356960</td>\n",
              "      <td>0</td>\n",
              "      <td>0</td>\n",
              "      <td>0</td>\n",
              "      <td>0</td>\n",
              "      <td>0</td>\n",
              "      <td>0</td>\n",
              "      <td>0</td>\n",
              "      <td>0</td>\n",
              "      <td>1</td>\n",
              "      <td>0</td>\n",
              "      <td>0</td>\n",
              "    </tr>\n",
              "    <tr>\n",
              "      <th>297023</th>\n",
              "      <td>48.847241</td>\n",
              "      <td>2.310358</td>\n",
              "      <td>0</td>\n",
              "      <td>0</td>\n",
              "      <td>0</td>\n",
              "      <td>0</td>\n",
              "      <td>0</td>\n",
              "      <td>0</td>\n",
              "      <td>0</td>\n",
              "      <td>0</td>\n",
              "      <td>1</td>\n",
              "      <td>0</td>\n",
              "      <td>0</td>\n",
              "    </tr>\n",
              "    <tr>\n",
              "      <th>297024</th>\n",
              "      <td>48.854507</td>\n",
              "      <td>2.355844</td>\n",
              "      <td>0</td>\n",
              "      <td>0</td>\n",
              "      <td>0</td>\n",
              "      <td>0</td>\n",
              "      <td>0</td>\n",
              "      <td>0</td>\n",
              "      <td>0</td>\n",
              "      <td>0</td>\n",
              "      <td>1</td>\n",
              "      <td>0</td>\n",
              "      <td>0</td>\n",
              "    </tr>\n",
              "    <tr>\n",
              "      <th>297025</th>\n",
              "      <td>48.857285</td>\n",
              "      <td>2.358080</td>\n",
              "      <td>0</td>\n",
              "      <td>0</td>\n",
              "      <td>0</td>\n",
              "      <td>0</td>\n",
              "      <td>0</td>\n",
              "      <td>0</td>\n",
              "      <td>0</td>\n",
              "      <td>0</td>\n",
              "      <td>1</td>\n",
              "      <td>0</td>\n",
              "      <td>0</td>\n",
              "    </tr>\n",
              "  </tbody>\n",
              "</table>\n",
              "<p>472599 rows × 13 columns</p>\n",
              "</div>\n",
              "      <button class=\"colab-df-convert\" onclick=\"convertToInteractive('df-2a82ade5-1445-4bb5-9765-8839b30f1d0f')\"\n",
              "              title=\"Convert this dataframe to an interactive table.\"\n",
              "              style=\"display:none;\">\n",
              "        \n",
              "  <svg xmlns=\"http://www.w3.org/2000/svg\" height=\"24px\"viewBox=\"0 0 24 24\"\n",
              "       width=\"24px\">\n",
              "    <path d=\"M0 0h24v24H0V0z\" fill=\"none\"/>\n",
              "    <path d=\"M18.56 5.44l.94 2.06.94-2.06 2.06-.94-2.06-.94-.94-2.06-.94 2.06-2.06.94zm-11 1L8.5 8.5l.94-2.06 2.06-.94-2.06-.94L8.5 2.5l-.94 2.06-2.06.94zm10 10l.94 2.06.94-2.06 2.06-.94-2.06-.94-.94-2.06-.94 2.06-2.06.94z\"/><path d=\"M17.41 7.96l-1.37-1.37c-.4-.4-.92-.59-1.43-.59-.52 0-1.04.2-1.43.59L10.3 9.45l-7.72 7.72c-.78.78-.78 2.05 0 2.83L4 21.41c.39.39.9.59 1.41.59.51 0 1.02-.2 1.41-.59l7.78-7.78 2.81-2.81c.8-.78.8-2.07 0-2.86zM5.41 20L4 18.59l7.72-7.72 1.47 1.35L5.41 20z\"/>\n",
              "  </svg>\n",
              "      </button>\n",
              "      \n",
              "  <style>\n",
              "    .colab-df-container {\n",
              "      display:flex;\n",
              "      flex-wrap:wrap;\n",
              "      gap: 12px;\n",
              "    }\n",
              "\n",
              "    .colab-df-convert {\n",
              "      background-color: #E8F0FE;\n",
              "      border: none;\n",
              "      border-radius: 50%;\n",
              "      cursor: pointer;\n",
              "      display: none;\n",
              "      fill: #1967D2;\n",
              "      height: 32px;\n",
              "      padding: 0 0 0 0;\n",
              "      width: 32px;\n",
              "    }\n",
              "\n",
              "    .colab-df-convert:hover {\n",
              "      background-color: #E2EBFA;\n",
              "      box-shadow: 0px 1px 2px rgba(60, 64, 67, 0.3), 0px 1px 3px 1px rgba(60, 64, 67, 0.15);\n",
              "      fill: #174EA6;\n",
              "    }\n",
              "\n",
              "    [theme=dark] .colab-df-convert {\n",
              "      background-color: #3B4455;\n",
              "      fill: #D2E3FC;\n",
              "    }\n",
              "\n",
              "    [theme=dark] .colab-df-convert:hover {\n",
              "      background-color: #434B5C;\n",
              "      box-shadow: 0px 1px 3px 1px rgba(0, 0, 0, 0.15);\n",
              "      filter: drop-shadow(0px 1px 2px rgba(0, 0, 0, 0.3));\n",
              "      fill: #FFFFFF;\n",
              "    }\n",
              "  </style>\n",
              "\n",
              "      <script>\n",
              "        const buttonEl =\n",
              "          document.querySelector('#df-2a82ade5-1445-4bb5-9765-8839b30f1d0f button.colab-df-convert');\n",
              "        buttonEl.style.display =\n",
              "          google.colab.kernel.accessAllowed ? 'block' : 'none';\n",
              "\n",
              "        async function convertToInteractive(key) {\n",
              "          const element = document.querySelector('#df-2a82ade5-1445-4bb5-9765-8839b30f1d0f');\n",
              "          const dataTable =\n",
              "            await google.colab.kernel.invokeFunction('convertToInteractive',\n",
              "                                                     [key], {});\n",
              "          if (!dataTable) return;\n",
              "\n",
              "          const docLinkHtml = 'Like what you see? Visit the ' +\n",
              "            '<a target=\"_blank\" href=https://colab.research.google.com/notebooks/data_table.ipynb>data table notebook</a>'\n",
              "            + ' to learn more about interactive tables.';\n",
              "          element.innerHTML = '';\n",
              "          dataTable['output_type'] = 'display_data';\n",
              "          await google.colab.output.renderOutput(dataTable, element);\n",
              "          const docLink = document.createElement('div');\n",
              "          docLink.innerHTML = docLinkHtml;\n",
              "          element.appendChild(docLink);\n",
              "        }\n",
              "      </script>\n",
              "    </div>\n",
              "  </div>\n",
              "  "
            ]
          },
          "metadata": {},
          "execution_count": 73
        }
      ]
    },
    {
      "cell_type": "markdown",
      "source": [
        "# Data Modelling: Hierachical clustering"
      ],
      "metadata": {
        "id": "uwtWzpQPhbCj"
      },
      "id": "uwtWzpQPhbCj"
    },
    {
      "cell_type": "code",
      "source": [
        "from sklearn.cluster import AgglomerativeClustering\n",
        "from yellowbrick.cluster import KElbowVisualizer\n",
        "import matplotlib.pyplot as plt\n",
        "import seaborn as sns"
      ],
      "metadata": {
        "id": "mg1lxUN-hZPC"
      },
      "id": "mg1lxUN-hZPC",
      "execution_count": 74,
      "outputs": []
    },
    {
      "cell_type": "markdown",
      "source": [
        "## Elbow method to decide on the number of clusters"
      ],
      "metadata": {
        "id": "lJt0j5b2himj"
      },
      "id": "lJt0j5b2himj"
    },
    {
      "cell_type": "code",
      "source": [
        "model = AgglomerativeClustering()\n",
        "# k is range of number of clusters.\n",
        "visualizer = KElbowVisualizer(model, k=(2,30), timings=False)\n",
        "# Fit data to visualizer\n",
        "visualizer.fit(df_parigi_encoded)\n",
        "# Finalize and render figure\n",
        "visualizer.show()"
      ],
      "metadata": {
        "id": "6M5lXptPhg8L"
      },
      "id": "6M5lXptPhg8L",
      "execution_count": null,
      "outputs": []
    }
  ],
  "metadata": {
    "kernelspec": {
      "display_name": "Python 3.9.12 ('base')",
      "language": "python",
      "name": "python3"
    },
    "language_info": {
      "codemirror_mode": {
        "name": "ipython",
        "version": 3
      },
      "file_extension": ".py",
      "mimetype": "text/x-python",
      "name": "python",
      "nbconvert_exporter": "python",
      "pygments_lexer": "ipython3",
      "version": "3.9.12"
    },
    "vscode": {
      "interpreter": {
        "hash": "76c27dc517e18060693f9f4b95872dd65e97431863ddf701dd22ecd46900d9b4"
      }
    },
    "colab": {
      "provenance": [],
      "include_colab_link": true
    }
  },
  "nbformat": 4,
  "nbformat_minor": 5
}