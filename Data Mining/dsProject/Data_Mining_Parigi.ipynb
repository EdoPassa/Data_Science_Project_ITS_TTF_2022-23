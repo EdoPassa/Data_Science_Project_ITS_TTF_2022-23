{
  "cells": [
    {
      "cell_type": "markdown",
      "id": "385c69cc-8d3d-4462-a04e-dd5f9ff0e734",
      "metadata": {
        "id": "385c69cc-8d3d-4462-a04e-dd5f9ff0e734"
      },
      "source": [
        "# Data Wrangling"
      ]
    },
    {
      "cell_type": "code",
      "execution_count": 83,
      "id": "6c90c189-3595-488a-9ac4-62f37e71c7c5",
      "metadata": {
        "id": "6c90c189-3595-488a-9ac4-62f37e71c7c5"
      },
      "outputs": [],
      "source": [
        "import mysql.connector as connection\n",
        "import numpy as np\n",
        "import pandas as pd"
      ]
    },
    {
      "cell_type": "code",
      "execution_count": 84,
      "id": "afdc912a-f622-4e25-bc5a-127f86bfea3e",
      "metadata": {
        "id": "afdc912a-f622-4e25-bc5a-127f86bfea3e"
      },
      "outputs": [],
      "source": [
        "mydb = connection.connect(host='ttfprojectdb.cdjjwxlk5ujc.eu-central-1.rds.amazonaws.com',\n",
        "                        database='database-data-science-project-its-ttf-2022-23',\n",
        "                        user='edoardo',\n",
        "                        password='PG8Io90EcKBVEg2iKLgi')"
      ]
    },
    {
      "cell_type": "code",
      "execution_count": 85,
      "id": "4a02bfa7",
      "metadata": {
        "id": "4a02bfa7"
      },
      "outputs": [],
      "source": [
        "query_metro_parcheggi = \"Select * from Acessi_metro_e_parcheggi_per_metro_parigi;\"\n",
        "df_metro_parcheggi = pd.read_sql(query_metro_parcheggi,mydb)\n",
        "\n",
        "query_parcheggi_su_strada_e_diritti_di_passaggio_parigi = \"select * from parcheggi_su_strada_e_diritti_di_passaggio_parigi\"\n",
        "df_parcheggi_su_strada_parigi = pd.read_sql(query_parcheggi_su_strada_e_diritti_di_passaggio_parigi,mydb)\n",
        "\n",
        "query_piste_ciclabili_e_percorsi_degli_autobus_parigi = \"select * from piste_ciclabili_e_percorsi_degli_autobus_parigi\"\n",
        "df_piste_cic_percorsi_autobus = pd.read_sql(query_piste_ciclabili_e_percorsi_degli_autobus_parigi,mydb)\n",
        "\n",
        "query_scuole_elementari_parigi = \"select * from scuole_elementari_parigi\"\n",
        "df_elementari_parigi = pd.read_sql(query_scuole_elementari_parigi,mydb)\n",
        "\n",
        "query_scuole_materne_asili_parigi = \"select * from scuole_materne_asili\"\n",
        "df_scuole_materne_asili_parigi = pd.read_sql(query_scuole_materne_asili_parigi,mydb)\n",
        "\n",
        "query_strade_e_trasporti_parigi = \"select * from strade_e_trasporti_parigi \"\n",
        "df_stra_trasporti_parigi = pd.read_sql(query_strade_e_trasporti_parigi,mydb)\n",
        "\n",
        "query_stazioni_servizio_parigi = \"select * from stazioni_servizio_veicoli_parigi\"\n",
        "df_staz_servizio_parigi = pd.read_sql(query_stazioni_servizio_parigi,mydb)\n",
        "\n",
        "query_Taxi_parigi = \"select * from Taxi_parigi\"\n",
        "df_taxi_parigi = pd.read_sql(query_Taxi_parigi,mydb)\n",
        "\n",
        "query_terreni_costruibili_e_non_parigi = \"select * from terreni_costruibili_e_non_costruibili_parigi\"\n",
        "df_terreni_parigi = pd.read_sql(query_terreni_costruibili_e_non_parigi,mydb)"
      ]
    },
    {
      "cell_type": "markdown",
      "id": "9d20a3b9",
      "metadata": {
        "id": "9d20a3b9"
      },
      "source": [
        "### Prep the data for the clustering"
      ]
    },
    {
      "cell_type": "markdown",
      "source": [
        "#### parcheggi metro"
      ],
      "metadata": {
        "id": "FYmfMd_Z6lrO"
      },
      "id": "FYmfMd_Z6lrO"
    },
    {
      "cell_type": "code",
      "execution_count": 86,
      "id": "73072967",
      "metadata": {
        "id": "73072967"
      },
      "outputs": [],
      "source": [
        "df_metro_parcheggi_parigi_mod = df_metro_parcheggi['geo_point_2d'].str.split(',', expand=True)\n",
        "df_metro_parcheggi_parigi_mod = df_metro_parcheggi_parigi_mod.rename(columns={0: 'Ylocation', 1: 'Xlocation'})\n",
        "df_metro_parcheggi_parigi_mod['Type'] = 'Parcheggi metro'"
      ]
    },
    {
      "cell_type": "markdown",
      "source": [
        "#### parcheggi su strada"
      ],
      "metadata": {
        "id": "9GFMxQ0T61s-"
      },
      "id": "9GFMxQ0T61s-"
    },
    {
      "cell_type": "code",
      "execution_count": 87,
      "id": "3123fb15",
      "metadata": {
        "id": "3123fb15"
      },
      "outputs": [],
      "source": [
        "df_parcheggi_su_strada_parigi_mod = df_parcheggi_su_strada_parigi['geo_point_2d'].str.split(',', expand=True)\n",
        "df_parcheggi_su_strada_parigi_mod = df_parcheggi_su_strada_parigi_mod.rename(columns={0: 'Ylocation', 1: 'Xlocation'})\n",
        "df_parcheggi_su_strada_parigi_mod['Type'] = 'Parcheggi pubblici'"
      ]
    },
    {
      "cell_type": "markdown",
      "source": [
        "#### piste ciclabili e percorsi autobus"
      ],
      "metadata": {
        "id": "iORR8GTd65gO"
      },
      "id": "iORR8GTd65gO"
    },
    {
      "cell_type": "code",
      "execution_count": 88,
      "id": "ba3ae741",
      "metadata": {
        "id": "ba3ae741"
      },
      "outputs": [],
      "source": [
        "df_piste_cic_percorsi_autobus_mod = df_piste_cic_percorsi_autobus['geo_point_2d'].str.split(',', expand=True)\n",
        "df_piste_cic_percorsi_autobus_mod = df_piste_cic_percorsi_autobus_mod.rename(columns={0: 'Ylocation', 1: 'Xlocation'})\n",
        "df_piste_cic_percorsi_autobus_mod['Type'] = 'Piste ciclabili / Percorsi autobus'"
      ]
    },
    {
      "cell_type": "markdown",
      "source": [
        "#### scuole elementari"
      ],
      "metadata": {
        "id": "VTMJDvr67B9O"
      },
      "id": "VTMJDvr67B9O"
    },
    {
      "cell_type": "code",
      "execution_count": 89,
      "id": "c61ba144",
      "metadata": {
        "id": "c61ba144"
      },
      "outputs": [],
      "source": [
        "df_elementari_parigi_mod = df_elementari_parigi['geo_point_2d'].str.split(',', expand=True)\n",
        "df_elementari_parigi_mod = df_elementari_parigi_mod.rename(columns={0: 'Ylocation', 1: 'Xlocation'})\n",
        "df_elementari_parigi_mod['Type'] = 'Scuole elementari'"
      ]
    },
    {
      "cell_type": "markdown",
      "source": [
        "#### scuole materne"
      ],
      "metadata": {
        "id": "A5HURYko7Eam"
      },
      "id": "A5HURYko7Eam"
    },
    {
      "cell_type": "code",
      "execution_count": 90,
      "id": "0dd99294",
      "metadata": {
        "id": "0dd99294"
      },
      "outputs": [],
      "source": [
        "df_scuole_materne_asili_parig_mod = df_scuole_materne_asili_parigi['geo_point_2d'].str.split(',', expand=True)\n",
        "df_scuole_materne_asili_parig_mod = df_scuole_materne_asili_parig_mod.rename(columns={0: 'Ylocation', 1: 'Xlocation'})\n",
        "df_scuole_materne_asili_parig_mod['Type'] = 'Scuole materne e asili'"
      ]
    },
    {
      "cell_type": "markdown",
      "source": [
        "#### strade trasporti"
      ],
      "metadata": {
        "id": "S4ZAUOEw7JGP"
      },
      "id": "S4ZAUOEw7JGP"
    },
    {
      "cell_type": "code",
      "execution_count": 91,
      "id": "a330f5b8",
      "metadata": {
        "id": "a330f5b8"
      },
      "outputs": [],
      "source": [
        "df_stra_trasporti_parigi_mod = df_stra_trasporti_parigi['geo_point_2d'].str.split(',', expand=True)\n",
        "df_stra_trasporti_parigi_mod = df_stra_trasporti_parigi_mod.rename(columns={0: 'Ylocation', 1: 'Xlocation'})\n",
        "df_stra_trasporti_parigi_mod['Type'] = 'Strade trasporti' "
      ]
    },
    {
      "cell_type": "markdown",
      "source": [
        "#### stazioni servizio"
      ],
      "metadata": {
        "id": "_RfeA8in7Nd1"
      },
      "id": "_RfeA8in7Nd1"
    },
    {
      "cell_type": "code",
      "execution_count": 92,
      "id": "8ef8e0fc",
      "metadata": {
        "id": "8ef8e0fc"
      },
      "outputs": [],
      "source": [
        "df_staz_servizio_parigi_mod = df_staz_servizio_parigi['geo_point_2d'].str.split(',', expand=True)\n",
        "df_staz_servizio_parigi_mod = df_staz_servizio_parigi_mod.rename(columns={0: 'Ylocation', 1: 'Xlocation'})\n",
        "df_staz_servizio_parigi_mod['Type'] = 'Stazioni di servizio'"
      ]
    },
    {
      "cell_type": "markdown",
      "source": [
        "#### taxi"
      ],
      "metadata": {
        "id": "TzZTc4Hk7Vde"
      },
      "id": "TzZTc4Hk7Vde"
    },
    {
      "cell_type": "code",
      "execution_count": 93,
      "id": "bc492bb8",
      "metadata": {
        "id": "bc492bb8"
      },
      "outputs": [],
      "source": [
        "df_taxi_parigi_mod = df_taxi_parigi['geo_point_2d'].str.split(',', expand=True)\n",
        "df_taxi_parigi_mod = df_taxi_parigi_mod.rename(columns={0: 'Ylocation', 1: 'Xlocation'})\n",
        "df_taxi_parigi_mod['Type'] = 'Taxi'"
      ]
    },
    {
      "cell_type": "markdown",
      "source": [
        "#### terreni parigi"
      ],
      "metadata": {
        "id": "zXZukr967amM"
      },
      "id": "zXZukr967amM"
    },
    {
      "cell_type": "code",
      "execution_count": 94,
      "id": "79e4962e",
      "metadata": {
        "id": "79e4962e"
      },
      "outputs": [],
      "source": [
        "df_terreni_parigi_cnat = df_terreni_parigi.drop(['ID', 'OBJECTID', 'X','Y', 'geo_point_2d'], axis=1)\n",
        "# Replace column value\n",
        "df_terreni_parigi_cnat = df_terreni_parigi_cnat.replace(['B','N','I'],['Terreno costruito','Terreno non costruito','Terreno sconosciuto'])\n",
        "df_terreni_parigi_cnat = df_terreni_parigi_cnat.rename(columns={'C_NAT': 'Type'})"
      ]
    },
    {
      "cell_type": "code",
      "execution_count": 95,
      "id": "5f622edd",
      "metadata": {
        "id": "5f622edd"
      },
      "outputs": [],
      "source": [
        "df_terreni_parigi_geo = df_terreni_parigi['geo_point_2d'].str.split(',', expand=True)\n",
        "df_terreni_parigi_geo = df_terreni_parigi_geo.rename(columns={0: 'Ylocation', 1: 'Xlocation'})"
      ]
    },
    {
      "cell_type": "code",
      "source": [
        "df_terreni_parigi_cnat.insert(0, 'ID', range(0, 0 + len(df_terreni_parigi_cnat)))\n",
        "df_terreni_parigi_geo.insert(0, 'ID', range(0, 0 + len(df_terreni_parigi_geo)))"
      ],
      "metadata": {
        "id": "J-MXjJr13r5G"
      },
      "id": "J-MXjJr13r5G",
      "execution_count": 96,
      "outputs": []
    },
    {
      "cell_type": "code",
      "source": [
        "df_terreni_parigi_mod = pd.merge(df_terreni_parigi_geo,df_terreni_parigi_cnat)\n",
        "df_terreni_parigi_mod = df_terreni_parigi_mod.drop(['ID'], axis=1)"
      ],
      "metadata": {
        "id": "sVYQ9xKj5AXS"
      },
      "id": "sVYQ9xKj5AXS",
      "execution_count": 97,
      "outputs": []
    },
    {
      "cell_type": "markdown",
      "source": [
        "### unisco i vari df in un unico dataframe"
      ],
      "metadata": {
        "id": "4-n2EviRDE0h"
      },
      "id": "4-n2EviRDE0h"
    },
    {
      "cell_type": "code",
      "source": [
        "df_parigi = df_metro_parcheggi_parigi_mod.append(df_parcheggi_su_strada_parigi_mod)"
      ],
      "metadata": {
        "id": "vvn2kpbsEPqv"
      },
      "id": "vvn2kpbsEPqv",
      "execution_count": 98,
      "outputs": []
    },
    {
      "cell_type": "code",
      "source": [
        "df_parigi = df_parigi.append(df_piste_cic_percorsi_autobus_mod)"
      ],
      "metadata": {
        "id": "y8opKPZTFU2-"
      },
      "id": "y8opKPZTFU2-",
      "execution_count": 99,
      "outputs": []
    },
    {
      "cell_type": "code",
      "source": [
        "df_parigi = df_parigi.append(df_scuole_materne_asili_parig_mod)"
      ],
      "metadata": {
        "id": "BN4WisUdFs3g"
      },
      "id": "BN4WisUdFs3g",
      "execution_count": 100,
      "outputs": []
    },
    {
      "cell_type": "code",
      "source": [
        "df_parigi = df_parigi.append(df_elementari_parigi_mod)"
      ],
      "metadata": {
        "id": "Q71vOLMwF6pt"
      },
      "id": "Q71vOLMwF6pt",
      "execution_count": 101,
      "outputs": []
    },
    {
      "cell_type": "code",
      "source": [
        "df_parigi = df_parigi.append(df_stra_trasporti_parigi_mod)"
      ],
      "metadata": {
        "id": "INBfaC2ZGE1s"
      },
      "id": "INBfaC2ZGE1s",
      "execution_count": 102,
      "outputs": []
    },
    {
      "cell_type": "code",
      "source": [
        "df_parigi = df_parigi.append(df_staz_servizio_parigi_mod)"
      ],
      "metadata": {
        "id": "EUD62c9IGJP4"
      },
      "id": "EUD62c9IGJP4",
      "execution_count": 103,
      "outputs": []
    },
    {
      "cell_type": "code",
      "source": [
        "df_parigi = df_parigi.append(df_taxi_parigi_mod)"
      ],
      "metadata": {
        "id": "4rAXC6evGOTM"
      },
      "id": "4rAXC6evGOTM",
      "execution_count": 104,
      "outputs": []
    },
    {
      "cell_type": "code",
      "source": [
        "df_parigi = df_parigi.append(df_terreni_parigi_mod)"
      ],
      "metadata": {
        "id": "1qW7jPFNGPd_"
      },
      "id": "1qW7jPFNGPd_",
      "execution_count": 105,
      "outputs": []
    },
    {
      "cell_type": "markdown",
      "source": [
        "### Cambio tipo cordinate str-->float\n",
        "#### ma prima controllo e elimino eventuali null"
      ],
      "metadata": {
        "id": "TDe0dwUt8l5j"
      },
      "id": "TDe0dwUt8l5j"
    },
    {
      "cell_type": "code",
      "source": [
        "df_parigi.isna().sum()"
      ],
      "metadata": {
        "id": "kxUhA1x3Gfk2"
      },
      "id": "kxUhA1x3Gfk2",
      "execution_count": null,
      "outputs": []
    },
    {
      "cell_type": "code",
      "source": [
        "df_parigi = df_parigi.dropna()"
      ],
      "metadata": {
        "id": "aWWca17hJT4J"
      },
      "id": "aWWca17hJT4J",
      "execution_count": 111,
      "outputs": []
    },
    {
      "cell_type": "code",
      "source": [
        "df_parigi.isna().sum()"
      ],
      "metadata": {
        "id": "x1nPI8n_Jgxi"
      },
      "id": "x1nPI8n_Jgxi",
      "execution_count": null,
      "outputs": []
    },
    {
      "cell_type": "code",
      "source": [
        "df_parigi['Xlocation'] = df_parigi['Xlocation'].astype(float)\n",
        "df_parigi['Ylocation'] = df_parigi['Ylocation'].astype(float)"
      ],
      "metadata": {
        "id": "C5lR2Xt1JvWS"
      },
      "id": "C5lR2Xt1JvWS",
      "execution_count": null,
      "outputs": []
    },
    {
      "cell_type": "code",
      "source": [
        "df_parigi.dtypes"
      ],
      "metadata": {
        "id": "94Jke-MdKg8t"
      },
      "id": "94Jke-MdKg8t",
      "execution_count": null,
      "outputs": []
    }
  ],
  "metadata": {
    "kernelspec": {
      "display_name": "Python 3.9.12 ('base')",
      "language": "python",
      "name": "python3"
    },
    "language_info": {
      "codemirror_mode": {
        "name": "ipython",
        "version": 3
      },
      "file_extension": ".py",
      "mimetype": "text/x-python",
      "name": "python",
      "nbconvert_exporter": "python",
      "pygments_lexer": "ipython3",
      "version": "3.9.12"
    },
    "vscode": {
      "interpreter": {
        "hash": "76c27dc517e18060693f9f4b95872dd65e97431863ddf701dd22ecd46900d9b4"
      }
    },
    "colab": {
      "provenance": []
    }
  },
  "nbformat": 4,
  "nbformat_minor": 5
}