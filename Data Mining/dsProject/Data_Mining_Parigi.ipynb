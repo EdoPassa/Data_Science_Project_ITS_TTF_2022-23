{
 "cells": [
  {
   "cell_type": "markdown",
   "id": "385c69cc-8d3d-4462-a04e-dd5f9ff0e734",
   "metadata": {},
   "source": [
    "# Data Wrangling"
   ]
  },
  {
   "cell_type": "code",
   "execution_count": 1,
   "id": "6c90c189-3595-488a-9ac4-62f37e71c7c5",
   "metadata": {},
   "outputs": [],
   "source": [
    "#Import Statment\n",
    "import mysql.connector as connection\n",
    "import numpy as np\n",
    "import pandas as pd"
   ]
  },
  {
   "cell_type": "code",
   "execution_count": 2,
   "id": "afdc912a-f622-4e25-bc5a-127f86bfea3e",
   "metadata": {},
   "outputs": [
    {
     "name": "stderr",
     "output_type": "stream",
     "text": [
      "c:\\Users\\Mattia\\anaconda3\\lib\\site-packages\\pandas\\io\\sql.py:761: UserWarning: pandas only support SQLAlchemy connectable(engine/connection) ordatabase string URI or sqlite3 DBAPI2 connectionother DBAPI2 objects are not tested, please consider using SQLAlchemy\n",
      "  warnings.warn(\n"
     ]
    }
   ],
   "source": [
    "mydb = connection.connect(host='ttfprojectdb.cdjjwxlk5ujc.eu-central-1.rds.amazonaws.com',\n",
    "                        database='database-data-science-project-its-ttf-2022-23',\n",
    "                        user='edoardo',\n",
    "                        password='PG8Io90EcKBVEg2iKLgi')\n",
    "query_fermate = \"Select * from fermate_metro_milano;\"\n",
    "df_fermate_milano = pd.read_sql(query_fermate,mydb)"
   ]
  }
 ],
 "metadata": {
  "kernelspec": {
   "display_name": "Python 3 (ipykernel)",
   "language": "python",
   "name": "python3"
  },
  "language_info": {
   "codemirror_mode": {
    "name": "ipython",
    "version": 3
   },
   "file_extension": ".py",
   "mimetype": "text/x-python",
   "name": "python",
   "nbconvert_exporter": "python",
   "pygments_lexer": "ipython3",
   "version": "3.9.12"
  }
 },
 "nbformat": 4,
 "nbformat_minor": 5
}
