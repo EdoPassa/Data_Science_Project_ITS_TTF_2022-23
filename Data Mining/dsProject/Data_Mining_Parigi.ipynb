{
 "cells": [
  {
   "cell_type": "markdown",
   "id": "385c69cc-8d3d-4462-a04e-dd5f9ff0e734",
   "metadata": {},
   "source": [
    "# Data Wrangling"
   ]
  },
  {
   "cell_type": "code",
   "execution_count": 3,
   "id": "6c90c189-3595-488a-9ac4-62f37e71c7c5",
   "metadata": {},
   "outputs": [],
   "source": [
    "#Import Statment\n",
    "import mysql.connector as connection\n",
    "import numpy as np\n",
    "import pandas as pd"
   ]
  },
  {
   "cell_type": "code",
   "execution_count": 4,
   "id": "afdc912a-f622-4e25-bc5a-127f86bfea3e",
   "metadata": {},
   "outputs": [],
   "source": [
    "mydb = connection.connect(host='ttfprojectdb.cdjjwxlk5ujc.eu-central-1.rds.amazonaws.com',\n",
    "                        database='database-data-science-project-its-ttf-2022-23',\n",
    "                        user='edoardo',\n",
    "                        password='PG8Io90EcKBVEg2iKLgi')"
   ]
  },
  {
   "cell_type": "code",
   "execution_count": 5,
   "id": "4a02bfa7",
   "metadata": {},
   "outputs": [
    {
     "name": "stderr",
     "output_type": "stream",
     "text": [
      "c:\\Users\\Mattia\\anaconda3\\lib\\site-packages\\pandas\\io\\sql.py:761: UserWarning: pandas only support SQLAlchemy connectable(engine/connection) ordatabase string URI or sqlite3 DBAPI2 connectionother DBAPI2 objects are not tested, please consider using SQLAlchemy\n",
      "  warnings.warn(\n",
      "c:\\Users\\Mattia\\anaconda3\\lib\\site-packages\\pandas\\io\\sql.py:761: UserWarning: pandas only support SQLAlchemy connectable(engine/connection) ordatabase string URI or sqlite3 DBAPI2 connectionother DBAPI2 objects are not tested, please consider using SQLAlchemy\n",
      "  warnings.warn(\n",
      "c:\\Users\\Mattia\\anaconda3\\lib\\site-packages\\pandas\\io\\sql.py:761: UserWarning: pandas only support SQLAlchemy connectable(engine/connection) ordatabase string URI or sqlite3 DBAPI2 connectionother DBAPI2 objects are not tested, please consider using SQLAlchemy\n",
      "  warnings.warn(\n",
      "c:\\Users\\Mattia\\anaconda3\\lib\\site-packages\\pandas\\io\\sql.py:761: UserWarning: pandas only support SQLAlchemy connectable(engine/connection) ordatabase string URI or sqlite3 DBAPI2 connectionother DBAPI2 objects are not tested, please consider using SQLAlchemy\n",
      "  warnings.warn(\n",
      "c:\\Users\\Mattia\\anaconda3\\lib\\site-packages\\pandas\\io\\sql.py:761: UserWarning: pandas only support SQLAlchemy connectable(engine/connection) ordatabase string URI or sqlite3 DBAPI2 connectionother DBAPI2 objects are not tested, please consider using SQLAlchemy\n",
      "  warnings.warn(\n",
      "c:\\Users\\Mattia\\anaconda3\\lib\\site-packages\\pandas\\io\\sql.py:761: UserWarning: pandas only support SQLAlchemy connectable(engine/connection) ordatabase string URI or sqlite3 DBAPI2 connectionother DBAPI2 objects are not tested, please consider using SQLAlchemy\n",
      "  warnings.warn(\n",
      "c:\\Users\\Mattia\\anaconda3\\lib\\site-packages\\pandas\\io\\sql.py:761: UserWarning: pandas only support SQLAlchemy connectable(engine/connection) ordatabase string URI or sqlite3 DBAPI2 connectionother DBAPI2 objects are not tested, please consider using SQLAlchemy\n",
      "  warnings.warn(\n",
      "c:\\Users\\Mattia\\anaconda3\\lib\\site-packages\\pandas\\io\\sql.py:761: UserWarning: pandas only support SQLAlchemy connectable(engine/connection) ordatabase string URI or sqlite3 DBAPI2 connectionother DBAPI2 objects are not tested, please consider using SQLAlchemy\n",
      "  warnings.warn(\n",
      "c:\\Users\\Mattia\\anaconda3\\lib\\site-packages\\pandas\\io\\sql.py:761: UserWarning: pandas only support SQLAlchemy connectable(engine/connection) ordatabase string URI or sqlite3 DBAPI2 connectionother DBAPI2 objects are not tested, please consider using SQLAlchemy\n",
      "  warnings.warn(\n"
     ]
    }
   ],
   "source": [
    "query_metro_parcheggi = \"Select * from Acessi_metro_e_parcheggi_per_metro_parigi;\"\n",
    "df_metro_parcheggi = pd.read_sql(query_metro_parcheggi,mydb)\n",
    "\n",
    "query_parcheggi_su_strada_e_diritti_di_passaggio_parigi = \"select * from parcheggi_su_strada_e_diritti_di_passaggio_parigi\"\n",
    "df_parcheggi_su_strada_parigi = pd.read_sql(query_parcheggi_su_strada_e_diritti_di_passaggio_parigi,mydb)\n",
    "\n",
    "query_piste_ciclabili_e_percorsi_degli_autobus_parigi = \"select * from piste_ciclabili_e_percorsi_degli_autobus_parigi\"\n",
    "df_piste_cic_percorsi_autobus = pd.read_sql(query_piste_ciclabili_e_percorsi_degli_autobus_parigi,mydb)\n",
    "\n",
    "query_scuole_elementari_parigi = \"select * from scuole_elementari_parigi\"\n",
    "df_elementari_parigi = pd.read_sql(query_scuole_elementari_parigi,mydb)\n",
    "\n",
    "query_scuole_materne_asili_parigi = \"select * from scuole_materne_asili\"\n",
    "df_scuole_materne_asili_parigi = pd.read_sql(query_scuole_materne_asili_parigi,mydb)\n",
    "\n",
    "query_strade_e_trasporti_parigi = \"select * from strade_e_trasporti_parigi \"\n",
    "df_stra_trasporti_parigi = pd.read_sql(query_strade_e_trasporti_parigi,mydb)\n",
    "\n",
    "query_stazioni_servizio_parigi = \"select * from stazioni_servizio_veicoli_parigi\"\n",
    "df_staz_servizio_parigi = pd.read_sql(query_stazioni_servizio_parigi,mydb)\n",
    "\n",
    "query_Taxi_parigi = \"select * from Taxi_parigi\"\n",
    "df_taxi_parigi = pd.read_sql(query_Taxi_parigi,mydb)\n",
    "\n",
    "query_terreni_costruibili_e_non_parigi = \"select * from terreni_costruibili_e_non_costruibili_parigi\"\n",
    "df_terreni_parigi = pd.read_sql(query_terreni_costruibili_e_non_parigi,mydb)"
   ]
  },
  {
   "cell_type": "markdown",
   "id": "9d20a3b9",
   "metadata": {},
   "source": [
    "### Prep the data for the clustering"
   ]
  },
  {
   "cell_type": "code",
   "execution_count": 6,
   "id": "73072967",
   "metadata": {},
   "outputs": [],
   "source": [
    "df_metro_parcheggi_parigi_mod = df_metro_parcheggi['geo_point_2d'].str.split(',', expand=True)\n",
    "df_metro_parcheggi_parigi_mod = df_metro_parcheggi_parigi_mod.rename(columns={0: 'Ylocation', 1: 'Xlocation'})\n",
    "df_metro_parcheggi_parigi_mod['Type'] = 'Parcheggi metro'"
   ]
  },
  {
   "cell_type": "code",
   "execution_count": 7,
   "id": "3123fb15",
   "metadata": {},
   "outputs": [],
   "source": [
    "df_parcheggi_su_strada_parigi_mod = df_parcheggi_su_strada_parigi['geo_point_2d'].str.split(',', expand=True)\n",
    "df_parcheggi_su_strada_parigi_mod = df_parcheggi_su_strada_parigi_mod.rename(columns={0: 'Ylocation', 1: 'Xlocation'})\n",
    "df_parcheggi_su_strada_parigi_mod['Type'] = 'Parcheggi pubblici'"
   ]
  },
  {
   "cell_type": "code",
   "execution_count": 11,
   "id": "ba3ae741",
   "metadata": {},
   "outputs": [],
   "source": [
    "df_piste_cic_percorsi_autobus_mod = df_piste_cic_percorsi_autobus['geo_point_2d'].str.split(',', expand=True)\n",
    "df_piste_cic_percorsi_autobus_mod = df_piste_cic_percorsi_autobus_mod.rename(columns={0: 'Ylocation', 1: 'Xlocation'})\n",
    "df_piste_cic_percorsi_autobus_mod['Type'] = 'Piste ciclabili / Percorsi autobus'"
   ]
  },
  {
   "cell_type": "code",
   "execution_count": 13,
   "id": "c61ba144",
   "metadata": {},
   "outputs": [],
   "source": [
    "df_elementari_parigi_mod = df_elementari_parigi['geo_point_2d'].str.split(',', expand=True)\n",
    "df_elementari_parigi_mod = df_elementari_parigi_mod.rename(columns={0: 'Ylocation', 1: 'Xlocation'})\n",
    "df_elementari_parigi_mod['Type'] = 'Scuole elementari'"
   ]
  },
  {
   "cell_type": "code",
   "execution_count": 15,
   "id": "0dd99294",
   "metadata": {},
   "outputs": [],
   "source": [
    "df_scuole_materne_asili_parig_mod = df_scuole_materne_asili_parigi['geo_point_2d'].str.split(',', expand=True)\n",
    "df_scuole_materne_asili_parig_mod = df_scuole_materne_asili_parig_mod.rename(columns={0: 'Ylocation', 1: 'Xlocation'})\n",
    "df_scuole_materne_asili_parig_mod['Type'] = 'Scuole materne e asili'"
   ]
  },
  {
   "cell_type": "code",
   "execution_count": 18,
   "id": "a330f5b8",
   "metadata": {},
   "outputs": [],
   "source": [
    "df_stra_trasporti_parigi_mod = df_stra_trasporti_parigi['geo_point_2d'].str.split(',', expand=True)\n",
    "df_stra_trasporti_parigi_mod = df_stra_trasporti_parigi_mod.rename(columns={0: 'Ylocation', 1: 'Xlocation'})\n",
    "df_stra_trasporti_parigi_mod['Type'] = 'Strade trasporti' "
   ]
  },
  {
   "cell_type": "code",
   "execution_count": 20,
   "id": "8ef8e0fc",
   "metadata": {},
   "outputs": [],
   "source": [
    "df_staz_servizio_parigi_mod = df_staz_servizio_parigi['geo_point_2d'].str.split(',', expand=True)\n",
    "df_staz_servizio_parigi_mod = df_staz_servizio_parigi_mod.rename(columns={0: 'Ylocation', 1: 'Xlocation'})\n",
    "df_staz_servizio_parigi_mod['Type'] = 'Stazioni di servizio'"
   ]
  },
  {
   "cell_type": "code",
   "execution_count": null,
   "id": "bc492bb8",
   "metadata": {},
   "outputs": [],
   "source": [
    "df_taxi_parigi_mod = df_taxi_parigi['geo_point_2d'].str.split(',', expand=True)\n",
    "df_taxi_parigi_mod = df_taxi_parigi_mod.rename(columns={0: 'Ylocation', 1: 'Xlocation'})\n",
    "df_taxi_parigi_mod['Type'] = 'Taxi'"
   ]
  },
  {
   "cell_type": "code",
   "execution_count": 44,
   "id": "79e4962e",
   "metadata": {},
   "outputs": [],
   "source": [
    "df_terreni_parigi_cnat = df_terreni_parigi.drop(['ID', 'OBJECTID', 'X','Y', 'geo_point_2d'], axis=1)\n",
    "# Replace column value\n",
    "df_terreni_parigi_cnat = df_terreni_parigi_cnat.replace(['B','N','I'],['Terreno costruito','Terreno non costruito','Terreno sconosciuto'])\n",
    "df_terreni_parigi_cnat = df_terreni_parigi_cnat.rename(columns={'C_NAT': 'Type'})"
   ]
  },
  {
   "cell_type": "code",
   "execution_count": 46,
   "id": "5f622edd",
   "metadata": {},
   "outputs": [],
   "source": [
    "df_terreni_parigi_geo = df_terreni_parigi['geo_point_2d'].str.split(',', expand=True)\n",
    "df_terreni_parigi_geo = df_terreni_parigi_geo.rename(columns={0: 'Ylocation', 1: 'Xlocation'})"
   ]
  }
 ],
 "metadata": {
  "kernelspec": {
   "display_name": "Python 3.9.12 ('base')",
   "language": "python",
   "name": "python3"
  },
  "language_info": {
   "codemirror_mode": {
    "name": "ipython",
    "version": 3
   },
   "file_extension": ".py",
   "mimetype": "text/x-python",
   "name": "python",
   "nbconvert_exporter": "python",
   "pygments_lexer": "ipython3",
   "version": "3.9.12"
  },
  "vscode": {
   "interpreter": {
    "hash": "76c27dc517e18060693f9f4b95872dd65e97431863ddf701dd22ecd46900d9b4"
   }
  }
 },
 "nbformat": 4,
 "nbformat_minor": 5
}
