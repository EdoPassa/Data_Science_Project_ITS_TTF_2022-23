{
 "cells": [
  {
   "cell_type": "markdown",
   "source": [
    "# Data wrangling"
   ],
   "metadata": {
    "collapsed": false
   }
  },
  {
   "cell_type": "code",
   "execution_count": 2,
   "metadata": {
    "collapsed": true
   },
   "outputs": [],
   "source": [
    "#import statement\n",
    "import mysql.connector as connection\n",
    "import pandas as pd"
   ]
  },
  {
   "cell_type": "code",
   "execution_count": 3,
   "outputs": [
    {
     "name": "stderr",
     "output_type": "stream",
     "text": [
      "C:\\Users\\edoar\\anaconda3\\lib\\site-packages\\pandas\\io\\sql.py:761: UserWarning: pandas only support SQLAlchemy connectable(engine/connection) ordatabase string URI or sqlite3 DBAPI2 connectionother DBAPI2 objects are not tested, please consider using SQLAlchemy\n",
      "  warnings.warn(\n"
     ]
    }
   ],
   "source": [
    "\n",
    "mydb = connection.connect(host=\"database-data-science-project-its-ttf-2022-23.cdjjwxlk5ujc.eu-central-1.rds.amazonaws.com\", database = 'database-data-science-project-its-ttf-2022-23',user=\"edoardo\", passwd=\"PG8Io90EcKBVEg2iKLgi\",use_pure=True)\n",
    "query = \"Select * from ospedali_milano;\"\n",
    "df_ospedali = pd.read_sql(query,mydb)\n",
    "mydb.close() #close the connection\n"
   ],
   "metadata": {
    "collapsed": false,
    "pycharm": {
     "name": "#%%\n"
    }
   }
  },
  {
   "cell_type": "code",
   "execution_count": 4,
   "outputs": [
    {
     "data": {
      "text/plain": "       ID                          DENOM_STRUTTURA  \\\n0       1             OSPEDALE BOLOGNINI - SERIATE   \n1       2  OSPEDALE CROTTA OLTROCCHI-VAPRIO D'ADDA   \n2       3      OSP. GENERALE PROVINCIALE - SARONNO   \n3       4  OSPEDALE M. O. ANTONIO LOCATELLI-PIARIO   \n4       5    OSP.LE SS.CAPITANIO E GEROSA - LOVERE   \n..    ...                                      ...   \n211  9149                    OSPEDALE DI DESENZANO   \n212  9150                      OSPEDALE DI CREMONA   \n213  9151             PRESIDIO OSPEDALIERO - ASOLA   \n214  9152         OSPEDALE C. CANTU' ABBIATEGRASSO   \n215  9153                        OSPEDALE OGLIO PO   \n\n                        INDIRIZZO    CAP             LOCALITA  \n0                  VIA PADERNO 21  24068              SERIATE  \n1              VIA DON MOLETTA 22  20069        VAPRIO D'ADDA  \n2              PIAZZALE BORELLA 1  21047              SARONNO  \n3                  VIA GROPPINI22  24020               PIARIO  \n4                VIA MARTINOLI 9A  24065               LOVERE  \n..                            ...    ...                  ...  \n211               LOC. MONTECROCE  25015  DESENZANO DEL GARDA  \n212            VIA LARGO PRIORI 1  26100              CREMONA  \n213         PIAZZA 80� FANTERIA 1  46041                ASOLA  \n214  PIAZZA B. CAZZAMINI MUSSI  1  20081        ABBIATEGRASSO  \n215   VIA STAFFOLO 51-VICOMOSCANO  26041        CASALMAGGIORE  \n\n[216 rows x 5 columns]",
      "text/html": "<div>\n<style scoped>\n    .dataframe tbody tr th:only-of-type {\n        vertical-align: middle;\n    }\n\n    .dataframe tbody tr th {\n        vertical-align: top;\n    }\n\n    .dataframe thead th {\n        text-align: right;\n    }\n</style>\n<table border=\"1\" class=\"dataframe\">\n  <thead>\n    <tr style=\"text-align: right;\">\n      <th></th>\n      <th>ID</th>\n      <th>DENOM_STRUTTURA</th>\n      <th>INDIRIZZO</th>\n      <th>CAP</th>\n      <th>LOCALITA</th>\n    </tr>\n  </thead>\n  <tbody>\n    <tr>\n      <th>0</th>\n      <td>1</td>\n      <td>OSPEDALE BOLOGNINI - SERIATE</td>\n      <td>VIA PADERNO 21</td>\n      <td>24068</td>\n      <td>SERIATE</td>\n    </tr>\n    <tr>\n      <th>1</th>\n      <td>2</td>\n      <td>OSPEDALE CROTTA OLTROCCHI-VAPRIO D'ADDA</td>\n      <td>VIA DON MOLETTA 22</td>\n      <td>20069</td>\n      <td>VAPRIO D'ADDA</td>\n    </tr>\n    <tr>\n      <th>2</th>\n      <td>3</td>\n      <td>OSP. GENERALE PROVINCIALE - SARONNO</td>\n      <td>PIAZZALE BORELLA 1</td>\n      <td>21047</td>\n      <td>SARONNO</td>\n    </tr>\n    <tr>\n      <th>3</th>\n      <td>4</td>\n      <td>OSPEDALE M. O. ANTONIO LOCATELLI-PIARIO</td>\n      <td>VIA GROPPINI22</td>\n      <td>24020</td>\n      <td>PIARIO</td>\n    </tr>\n    <tr>\n      <th>4</th>\n      <td>5</td>\n      <td>OSP.LE SS.CAPITANIO E GEROSA - LOVERE</td>\n      <td>VIA MARTINOLI 9A</td>\n      <td>24065</td>\n      <td>LOVERE</td>\n    </tr>\n    <tr>\n      <th>...</th>\n      <td>...</td>\n      <td>...</td>\n      <td>...</td>\n      <td>...</td>\n      <td>...</td>\n    </tr>\n    <tr>\n      <th>211</th>\n      <td>9149</td>\n      <td>OSPEDALE DI DESENZANO</td>\n      <td>LOC. MONTECROCE</td>\n      <td>25015</td>\n      <td>DESENZANO DEL GARDA</td>\n    </tr>\n    <tr>\n      <th>212</th>\n      <td>9150</td>\n      <td>OSPEDALE DI CREMONA</td>\n      <td>VIA LARGO PRIORI 1</td>\n      <td>26100</td>\n      <td>CREMONA</td>\n    </tr>\n    <tr>\n      <th>213</th>\n      <td>9151</td>\n      <td>PRESIDIO OSPEDALIERO - ASOLA</td>\n      <td>PIAZZA 80� FANTERIA 1</td>\n      <td>46041</td>\n      <td>ASOLA</td>\n    </tr>\n    <tr>\n      <th>214</th>\n      <td>9152</td>\n      <td>OSPEDALE C. CANTU' ABBIATEGRASSO</td>\n      <td>PIAZZA B. CAZZAMINI MUSSI  1</td>\n      <td>20081</td>\n      <td>ABBIATEGRASSO</td>\n    </tr>\n    <tr>\n      <th>215</th>\n      <td>9153</td>\n      <td>OSPEDALE OGLIO PO</td>\n      <td>VIA STAFFOLO 51-VICOMOSCANO</td>\n      <td>26041</td>\n      <td>CASALMAGGIORE</td>\n    </tr>\n  </tbody>\n</table>\n<p>216 rows × 5 columns</p>\n</div>"
     },
     "execution_count": 4,
     "metadata": {},
     "output_type": "execute_result"
    }
   ],
   "source": [
    "df_ospedali"
   ],
   "metadata": {
    "collapsed": false,
    "pycharm": {
     "name": "#%%\n"
    }
   }
  },
  {
   "cell_type": "code",
   "execution_count": 5,
   "outputs": [
    {
     "data": {
      "text/plain": "       ID                                    DENOM_STRUTTURA  \\\n5       6                         OSPEDALE S. PAOLO - MILANO   \n16     17          ISTITUTO ORTOPEDICO GAETANO PINI - MILANO   \n19     20                         OSPEDALE L. SACCO - MILANO   \n24     25  FONDAZ.IRCCS CA' GRANDA - OSPEDALE MAGGIORE PO...   \n44     45         \"FOND.IRCCS \"\"ISTIT.NAZ.LE TUMORI\"\"MILANO\"   \n49     50     OSPEDALE FATEBENEFRATELLI E OFTALMICO - MILANO   \n58     59      FOND.IRCCS IST.NAZ.NEUROLOGICO C.BESTA-MILANO   \n64     65                OSPEDALE S. CARLO BORROMEO - MILANO   \n75     76              OSPEDALE CA' GRANDA-NIGUARDA - MILANO   \n78     79     P.O. CENTRO TRAUMATOLOGICO ORTOPEDICO - MILANO   \n83     84                  PRESIDIO OSPED. V. BUZZI - MILANO   \n90     91                       OSPEDALE M. MELLONI - MILANO   \n113  9051                         OSPEDALE S. PAOLO - MILANO   \n124  9062          ISTITUTO ORTOPEDICO GAETANO PINI - MILANO   \n127  9065                         OSPEDALE L. SACCO - MILANO   \n132  9070  FONDAZ.IRCCS CA' GRANDA - OSPEDALE MAGGIORE PO...   \n152  9090         \"FOND.IRCCS \"\"ISTIT.NAZ.LE TUMORI\"\"MILANO\"   \n157  9095     OSPEDALE FATEBENEFRATELLI E OFTALMICO - MILANO   \n166  9104      FOND.IRCCS IST.NAZ.NEUROLOGICO C.BESTA-MILANO   \n172  9110                OSPEDALE S. CARLO BORROMEO - MILANO   \n183  9121              OSPEDALE CA' GRANDA-NIGUARDA - MILANO   \n186  9124     P.O. CENTRO TRAUMATOLOGICO ORTOPEDICO - MILANO   \n191  9129                  PRESIDIO OSPED. V. BUZZI - MILANO   \n198  9136                       OSPEDALE M. MELLONI - MILANO   \n\n                         INDIRIZZO    CAP LOCALITA  \n5              VIA A. DI RUDINI' 8  20142   MILANO  \n16    PIAZZA A. CARDINAL FERRARI 1  20122   MILANO  \n19   VIA GIOVAN BATTISTA GRASSI 74  20157   MILANO  \n24         VIA FRANCESCO SFORZA 28  20122   MILANO  \n44                  VIA VENEZIAN 1  20133   MILANO  \n49   PIAZZA PRINCIPESSA CLOTILDE 3  20121   MILANO  \n58                  VIA CELORIA 11  20133   MILANO  \n64                    VIA PIO II 3  20153   MILANO  \n75      PIAZZA OSPEDALE MAGGIORE 3  20162   MILANO  \n78                   VIA BIGNAMI 1  20126   MILANO  \n83              VIA CASTELVETRO 32  20154   MILANO  \n90        VIA MACEDONIO MELLONI 52  20129   MILANO  \n113            VIA A. DI RUDINI' 8  20142   MILANO  \n124   PIAZZA A. CARDINAL FERRARI 1  20122   MILANO  \n127  VIA GIOVAN BATTISTA GRASSI 74  20157   MILANO  \n132        VIA FRANCESCO SFORZA 28  20122   MILANO  \n152                 VIA VENEZIAN 1  20133   MILANO  \n157  PIAZZA PRINCIPESSA CLOTILDE 3  20121   MILANO  \n166                 VIA CELORIA 11  20133   MILANO  \n172                   VIA PIO II 3  20153   MILANO  \n183     PIAZZA OSPEDALE MAGGIORE 3  20162   MILANO  \n186                  VIA BIGNAMI 1  20126   MILANO  \n191             VIA CASTELVETRO 32  20154   MILANO  \n198       VIA MACEDONIO MELLONI 52  20129   MILANO  ",
      "text/html": "<div>\n<style scoped>\n    .dataframe tbody tr th:only-of-type {\n        vertical-align: middle;\n    }\n\n    .dataframe tbody tr th {\n        vertical-align: top;\n    }\n\n    .dataframe thead th {\n        text-align: right;\n    }\n</style>\n<table border=\"1\" class=\"dataframe\">\n  <thead>\n    <tr style=\"text-align: right;\">\n      <th></th>\n      <th>ID</th>\n      <th>DENOM_STRUTTURA</th>\n      <th>INDIRIZZO</th>\n      <th>CAP</th>\n      <th>LOCALITA</th>\n    </tr>\n  </thead>\n  <tbody>\n    <tr>\n      <th>5</th>\n      <td>6</td>\n      <td>OSPEDALE S. PAOLO - MILANO</td>\n      <td>VIA A. DI RUDINI' 8</td>\n      <td>20142</td>\n      <td>MILANO</td>\n    </tr>\n    <tr>\n      <th>16</th>\n      <td>17</td>\n      <td>ISTITUTO ORTOPEDICO GAETANO PINI - MILANO</td>\n      <td>PIAZZA A. CARDINAL FERRARI 1</td>\n      <td>20122</td>\n      <td>MILANO</td>\n    </tr>\n    <tr>\n      <th>19</th>\n      <td>20</td>\n      <td>OSPEDALE L. SACCO - MILANO</td>\n      <td>VIA GIOVAN BATTISTA GRASSI 74</td>\n      <td>20157</td>\n      <td>MILANO</td>\n    </tr>\n    <tr>\n      <th>24</th>\n      <td>25</td>\n      <td>FONDAZ.IRCCS CA' GRANDA - OSPEDALE MAGGIORE PO...</td>\n      <td>VIA FRANCESCO SFORZA 28</td>\n      <td>20122</td>\n      <td>MILANO</td>\n    </tr>\n    <tr>\n      <th>44</th>\n      <td>45</td>\n      <td>\"FOND.IRCCS \"\"ISTIT.NAZ.LE TUMORI\"\"MILANO\"</td>\n      <td>VIA VENEZIAN 1</td>\n      <td>20133</td>\n      <td>MILANO</td>\n    </tr>\n    <tr>\n      <th>49</th>\n      <td>50</td>\n      <td>OSPEDALE FATEBENEFRATELLI E OFTALMICO - MILANO</td>\n      <td>PIAZZA PRINCIPESSA CLOTILDE 3</td>\n      <td>20121</td>\n      <td>MILANO</td>\n    </tr>\n    <tr>\n      <th>58</th>\n      <td>59</td>\n      <td>FOND.IRCCS IST.NAZ.NEUROLOGICO C.BESTA-MILANO</td>\n      <td>VIA CELORIA 11</td>\n      <td>20133</td>\n      <td>MILANO</td>\n    </tr>\n    <tr>\n      <th>64</th>\n      <td>65</td>\n      <td>OSPEDALE S. CARLO BORROMEO - MILANO</td>\n      <td>VIA PIO II 3</td>\n      <td>20153</td>\n      <td>MILANO</td>\n    </tr>\n    <tr>\n      <th>75</th>\n      <td>76</td>\n      <td>OSPEDALE CA' GRANDA-NIGUARDA - MILANO</td>\n      <td>PIAZZA OSPEDALE MAGGIORE 3</td>\n      <td>20162</td>\n      <td>MILANO</td>\n    </tr>\n    <tr>\n      <th>78</th>\n      <td>79</td>\n      <td>P.O. CENTRO TRAUMATOLOGICO ORTOPEDICO - MILANO</td>\n      <td>VIA BIGNAMI 1</td>\n      <td>20126</td>\n      <td>MILANO</td>\n    </tr>\n    <tr>\n      <th>83</th>\n      <td>84</td>\n      <td>PRESIDIO OSPED. V. BUZZI - MILANO</td>\n      <td>VIA CASTELVETRO 32</td>\n      <td>20154</td>\n      <td>MILANO</td>\n    </tr>\n    <tr>\n      <th>90</th>\n      <td>91</td>\n      <td>OSPEDALE M. MELLONI - MILANO</td>\n      <td>VIA MACEDONIO MELLONI 52</td>\n      <td>20129</td>\n      <td>MILANO</td>\n    </tr>\n    <tr>\n      <th>113</th>\n      <td>9051</td>\n      <td>OSPEDALE S. PAOLO - MILANO</td>\n      <td>VIA A. DI RUDINI' 8</td>\n      <td>20142</td>\n      <td>MILANO</td>\n    </tr>\n    <tr>\n      <th>124</th>\n      <td>9062</td>\n      <td>ISTITUTO ORTOPEDICO GAETANO PINI - MILANO</td>\n      <td>PIAZZA A. CARDINAL FERRARI 1</td>\n      <td>20122</td>\n      <td>MILANO</td>\n    </tr>\n    <tr>\n      <th>127</th>\n      <td>9065</td>\n      <td>OSPEDALE L. SACCO - MILANO</td>\n      <td>VIA GIOVAN BATTISTA GRASSI 74</td>\n      <td>20157</td>\n      <td>MILANO</td>\n    </tr>\n    <tr>\n      <th>132</th>\n      <td>9070</td>\n      <td>FONDAZ.IRCCS CA' GRANDA - OSPEDALE MAGGIORE PO...</td>\n      <td>VIA FRANCESCO SFORZA 28</td>\n      <td>20122</td>\n      <td>MILANO</td>\n    </tr>\n    <tr>\n      <th>152</th>\n      <td>9090</td>\n      <td>\"FOND.IRCCS \"\"ISTIT.NAZ.LE TUMORI\"\"MILANO\"</td>\n      <td>VIA VENEZIAN 1</td>\n      <td>20133</td>\n      <td>MILANO</td>\n    </tr>\n    <tr>\n      <th>157</th>\n      <td>9095</td>\n      <td>OSPEDALE FATEBENEFRATELLI E OFTALMICO - MILANO</td>\n      <td>PIAZZA PRINCIPESSA CLOTILDE 3</td>\n      <td>20121</td>\n      <td>MILANO</td>\n    </tr>\n    <tr>\n      <th>166</th>\n      <td>9104</td>\n      <td>FOND.IRCCS IST.NAZ.NEUROLOGICO C.BESTA-MILANO</td>\n      <td>VIA CELORIA 11</td>\n      <td>20133</td>\n      <td>MILANO</td>\n    </tr>\n    <tr>\n      <th>172</th>\n      <td>9110</td>\n      <td>OSPEDALE S. CARLO BORROMEO - MILANO</td>\n      <td>VIA PIO II 3</td>\n      <td>20153</td>\n      <td>MILANO</td>\n    </tr>\n    <tr>\n      <th>183</th>\n      <td>9121</td>\n      <td>OSPEDALE CA' GRANDA-NIGUARDA - MILANO</td>\n      <td>PIAZZA OSPEDALE MAGGIORE 3</td>\n      <td>20162</td>\n      <td>MILANO</td>\n    </tr>\n    <tr>\n      <th>186</th>\n      <td>9124</td>\n      <td>P.O. CENTRO TRAUMATOLOGICO ORTOPEDICO - MILANO</td>\n      <td>VIA BIGNAMI 1</td>\n      <td>20126</td>\n      <td>MILANO</td>\n    </tr>\n    <tr>\n      <th>191</th>\n      <td>9129</td>\n      <td>PRESIDIO OSPED. V. BUZZI - MILANO</td>\n      <td>VIA CASTELVETRO 32</td>\n      <td>20154</td>\n      <td>MILANO</td>\n    </tr>\n    <tr>\n      <th>198</th>\n      <td>9136</td>\n      <td>OSPEDALE M. MELLONI - MILANO</td>\n      <td>VIA MACEDONIO MELLONI 52</td>\n      <td>20129</td>\n      <td>MILANO</td>\n    </tr>\n  </tbody>\n</table>\n</div>"
     },
     "execution_count": 5,
     "metadata": {},
     "output_type": "execute_result"
    }
   ],
   "source": [
    "df_ospedali_milano = df_ospedali[df_ospedali['LOCALITA'] == 'MILANO' ]\n",
    "df_ospedali_milano"
   ],
   "metadata": {
    "collapsed": false,
    "pycharm": {
     "name": "#%%\n"
    }
   }
  },
  {
   "cell_type": "code",
   "execution_count": 6,
   "outputs": [
    {
     "name": "stderr",
     "output_type": "stream",
     "text": [
      "C:\\Users\\edoar\\anaconda3\\lib\\site-packages\\pandas\\io\\sql.py:761: UserWarning: pandas only support SQLAlchemy connectable(engine/connection) ordatabase string URI or sqlite3 DBAPI2 connectionother DBAPI2 objects are not tested, please consider using SQLAlchemy\n",
      "  warnings.warn(\n"
     ]
    }
   ],
   "source": [
    "mydb = connection.connect(host=\"database-data-science-project-its-ttf-2022-23.cdjjwxlk5ujc.eu-central-1.rds.amazonaws.com\", database = 'database-data-science-project-its-ttf-2022-23',user=\"edoardo\", passwd=\"PG8Io90EcKBVEg2iKLgi\",use_pure=True)\n",
    "query = \"Select * from scuole_primarie_milano;\"\n",
    "df_scuole_primarie_milano = pd.read_sql(query,mydb)\n",
    "mydb.close() #close the connection"
   ],
   "metadata": {
    "collapsed": false,
    "pycharm": {
     "name": "#%%\n"
    }
   }
  },
  {
   "cell_type": "code",
   "execution_count": 7,
   "outputs": [
    {
     "data": {
      "text/plain": "         ID                TIPO  CODVIA  MUNICIPIO  ID_NIL  \\\n0         1             Statale  2456.0        2.0      16   \n1         2  Ente privato laico  5182.0        1.0       6   \n2         3             Statale  5092.0        1.0       7   \n3         4      Ente religioso   647.0        1.0       7   \n4         5      Ente religioso   604.0        1.0       7   \n...     ...                 ...     ...        ...     ...   \n3463  10883             Statale  6315.0        7.0      56   \n3464  10884  Ente privato laico  1108.0        2.0      10   \n3465  10885  Ente privato laico  7158.0        8.0      67   \n3466  10886  Ente privato laico  2118.0        2.0      10   \n3467  10887  Ente privato laico  2310.0        2.0      20   \n\n                                      NIL  LONG_X_4326   LAT_Y_4326  \\\n0                        GORLA - PRECOTTO  9,22648E+11  4,55063E+11   \n1     PORTA TICINESE - CONCA DEL NAVIGLIO  9,17935E+11  4,54559E+11   \n2                    MAGENTA - S. VITTORE  9,17328E+11  45458854609   \n3                    MAGENTA - S. VITTORE  91696323647  4,54634E+11   \n4                    MAGENTA - S. VITTORE  9,16977E+11  4,54656E+11   \n...                                   ...          ...          ...   \n3463                         FORZE ARMATE  9,11795E+11  4,54714E+11   \n3464     STAZIONE CENTRALE - PONTE SEVESO  9,19911E+15  4,54876E+15   \n3465                             PORTELLO  9,15355E+11  45486489268   \n3466     STAZIONE CENTRALE - PONTE SEVESO  9,20132E+11    4,548E+11   \n3467            LORETO - CASORETTO - NOLO  9,22282E+11  4,54916E+11   \n\n                                     Location  \n0             (45.5063408362 / 9.22648224656)  \n1             (45.4558715769 / 9.17935340899)  \n2              (45.458854609 / 9.17327758799)  \n3              (45.4634431499 / 9.1696323647)  \n4             (45.4655815315 / 9.16977229797)  \n...                                       ...  \n3463          (45.4713505544 / 9.11794852426)  \n3464  (45.48757490917477 / 9.199107041386837)  \n3465           (45.486489268 / 9.15355479206)  \n3466          (45.4799613221 / 9.20131587291)  \n3467          (45.4915847841 / 9.22281742113)  \n\n[3468 rows x 9 columns]",
      "text/html": "<div>\n<style scoped>\n    .dataframe tbody tr th:only-of-type {\n        vertical-align: middle;\n    }\n\n    .dataframe tbody tr th {\n        vertical-align: top;\n    }\n\n    .dataframe thead th {\n        text-align: right;\n    }\n</style>\n<table border=\"1\" class=\"dataframe\">\n  <thead>\n    <tr style=\"text-align: right;\">\n      <th></th>\n      <th>ID</th>\n      <th>TIPO</th>\n      <th>CODVIA</th>\n      <th>MUNICIPIO</th>\n      <th>ID_NIL</th>\n      <th>NIL</th>\n      <th>LONG_X_4326</th>\n      <th>LAT_Y_4326</th>\n      <th>Location</th>\n    </tr>\n  </thead>\n  <tbody>\n    <tr>\n      <th>0</th>\n      <td>1</td>\n      <td>Statale</td>\n      <td>2456.0</td>\n      <td>2.0</td>\n      <td>16</td>\n      <td>GORLA - PRECOTTO</td>\n      <td>9,22648E+11</td>\n      <td>4,55063E+11</td>\n      <td>(45.5063408362 / 9.22648224656)</td>\n    </tr>\n    <tr>\n      <th>1</th>\n      <td>2</td>\n      <td>Ente privato laico</td>\n      <td>5182.0</td>\n      <td>1.0</td>\n      <td>6</td>\n      <td>PORTA TICINESE - CONCA DEL NAVIGLIO</td>\n      <td>9,17935E+11</td>\n      <td>4,54559E+11</td>\n      <td>(45.4558715769 / 9.17935340899)</td>\n    </tr>\n    <tr>\n      <th>2</th>\n      <td>3</td>\n      <td>Statale</td>\n      <td>5092.0</td>\n      <td>1.0</td>\n      <td>7</td>\n      <td>MAGENTA - S. VITTORE</td>\n      <td>9,17328E+11</td>\n      <td>45458854609</td>\n      <td>(45.458854609 / 9.17327758799)</td>\n    </tr>\n    <tr>\n      <th>3</th>\n      <td>4</td>\n      <td>Ente religioso</td>\n      <td>647.0</td>\n      <td>1.0</td>\n      <td>7</td>\n      <td>MAGENTA - S. VITTORE</td>\n      <td>91696323647</td>\n      <td>4,54634E+11</td>\n      <td>(45.4634431499 / 9.1696323647)</td>\n    </tr>\n    <tr>\n      <th>4</th>\n      <td>5</td>\n      <td>Ente religioso</td>\n      <td>604.0</td>\n      <td>1.0</td>\n      <td>7</td>\n      <td>MAGENTA - S. VITTORE</td>\n      <td>9,16977E+11</td>\n      <td>4,54656E+11</td>\n      <td>(45.4655815315 / 9.16977229797)</td>\n    </tr>\n    <tr>\n      <th>...</th>\n      <td>...</td>\n      <td>...</td>\n      <td>...</td>\n      <td>...</td>\n      <td>...</td>\n      <td>...</td>\n      <td>...</td>\n      <td>...</td>\n      <td>...</td>\n    </tr>\n    <tr>\n      <th>3463</th>\n      <td>10883</td>\n      <td>Statale</td>\n      <td>6315.0</td>\n      <td>7.0</td>\n      <td>56</td>\n      <td>FORZE ARMATE</td>\n      <td>9,11795E+11</td>\n      <td>4,54714E+11</td>\n      <td>(45.4713505544 / 9.11794852426)</td>\n    </tr>\n    <tr>\n      <th>3464</th>\n      <td>10884</td>\n      <td>Ente privato laico</td>\n      <td>1108.0</td>\n      <td>2.0</td>\n      <td>10</td>\n      <td>STAZIONE CENTRALE - PONTE SEVESO</td>\n      <td>9,19911E+15</td>\n      <td>4,54876E+15</td>\n      <td>(45.48757490917477 / 9.199107041386837)</td>\n    </tr>\n    <tr>\n      <th>3465</th>\n      <td>10885</td>\n      <td>Ente privato laico</td>\n      <td>7158.0</td>\n      <td>8.0</td>\n      <td>67</td>\n      <td>PORTELLO</td>\n      <td>9,15355E+11</td>\n      <td>45486489268</td>\n      <td>(45.486489268 / 9.15355479206)</td>\n    </tr>\n    <tr>\n      <th>3466</th>\n      <td>10886</td>\n      <td>Ente privato laico</td>\n      <td>2118.0</td>\n      <td>2.0</td>\n      <td>10</td>\n      <td>STAZIONE CENTRALE - PONTE SEVESO</td>\n      <td>9,20132E+11</td>\n      <td>4,548E+11</td>\n      <td>(45.4799613221 / 9.20131587291)</td>\n    </tr>\n    <tr>\n      <th>3467</th>\n      <td>10887</td>\n      <td>Ente privato laico</td>\n      <td>2310.0</td>\n      <td>2.0</td>\n      <td>20</td>\n      <td>LORETO - CASORETTO - NOLO</td>\n      <td>9,22282E+11</td>\n      <td>4,54916E+11</td>\n      <td>(45.4915847841 / 9.22281742113)</td>\n    </tr>\n  </tbody>\n</table>\n<p>3468 rows × 9 columns</p>\n</div>"
     },
     "execution_count": 7,
     "metadata": {},
     "output_type": "execute_result"
    }
   ],
   "source": [
    "df_scuole_primarie_milano"
   ],
   "metadata": {
    "collapsed": false,
    "pycharm": {
     "name": "#%%\n"
    }
   }
  },
  {
   "cell_type": "code",
   "execution_count": 8,
   "outputs": [
    {
     "name": "stderr",
     "output_type": "stream",
     "text": [
      "C:\\Users\\edoar\\anaconda3\\lib\\site-packages\\pandas\\io\\sql.py:761: UserWarning: pandas only support SQLAlchemy connectable(engine/connection) ordatabase string URI or sqlite3 DBAPI2 connectionother DBAPI2 objects are not tested, please consider using SQLAlchemy\n",
      "  warnings.warn(\n"
     ]
    }
   ],
   "source": [
    "mydb = connection.connect(host=\"database-data-science-project-its-ttf-2022-23.cdjjwxlk5ujc.eu-central-1.rds.amazonaws.com\", database = 'database-data-science-project-its-ttf-2022-23',user=\"edoardo\", passwd=\"PG8Io90EcKBVEg2iKLgi\",use_pure=True)\n",
    "query = \"Select * from scuole_infanzia_milano;\"\n",
    "df_scuole_infanzia_milano = pd.read_sql(query,mydb)\n",
    "mydb.close() #close the connection"
   ],
   "metadata": {
    "collapsed": false,
    "pycharm": {
     "name": "#%%\n"
    }
   }
  },
  {
   "cell_type": "code",
   "execution_count": 9,
   "outputs": [
    {
     "name": "stderr",
     "output_type": "stream",
     "text": [
      "C:\\Users\\edoar\\anaconda3\\lib\\site-packages\\pandas\\io\\sql.py:761: UserWarning: pandas only support SQLAlchemy connectable(engine/connection) ordatabase string URI or sqlite3 DBAPI2 connectionother DBAPI2 objects are not tested, please consider using SQLAlchemy\n",
      "  warnings.warn(\n"
     ]
    }
   ],
   "source": [
    "mydb = connection.connect(host=\"database-data-science-project-its-ttf-2022-23.cdjjwxlk5ujc.eu-central-1.rds.amazonaws.com\", database = 'database-data-science-project-its-ttf-2022-23',user=\"edoardo\", passwd=\"PG8Io90EcKBVEg2iKLgi\",use_pure=True)\n",
    "query = \"Select * from scuole_secondarie_milano;\"\n",
    "df_scuole_secondarie_milano = pd.read_sql(query,mydb)\n",
    "mydb.close() #close the connection"
   ],
   "metadata": {
    "collapsed": false,
    "pycharm": {
     "name": "#%%\n"
    }
   }
  },
  {
   "cell_type": "code",
   "execution_count": null,
   "outputs": [],
   "source": [],
   "metadata": {
    "collapsed": false,
    "pycharm": {
     "name": "#%%\n"
    }
   }
  }
 ],
 "metadata": {
  "kernelspec": {
   "display_name": "Python 3",
   "language": "python",
   "name": "python3"
  },
  "language_info": {
   "codemirror_mode": {
    "name": "ipython",
    "version": 2
   },
   "file_extension": ".py",
   "mimetype": "text/x-python",
   "name": "python",
   "nbconvert_exporter": "python",
   "pygments_lexer": "ipython2",
   "version": "2.7.6"
  }
 },
 "nbformat": 4,
 "nbformat_minor": 0
}