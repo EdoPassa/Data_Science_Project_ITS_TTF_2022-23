{
 "cells": [
  {
   "cell_type": "markdown",
   "id": "92f978dd-441a-4d44-a84a-7e902cea0326",
   "metadata": {},
   "source": [
    "# Data Wrangling"
   ]
  },
  {
   "cell_type": "code",
   "execution_count": 8,
   "id": "a6d4b30f-a7c7-4bfc-aff0-b859806edb7e",
   "metadata": {},
   "outputs": [],
   "source": [
    "#Import Statment\n",
    "import mysql.connector as connection\n",
    "import numpy as np\n",
    "import pandas as pd"
   ]
  },
  {
   "cell_type": "code",
   "execution_count": 9,
   "id": "40a6dad5-b9cb-4bd7-90c2-e6754f5b6788",
   "metadata": {},
   "outputs": [
    {
     "name": "stderr",
     "output_type": "stream",
     "text": [
      "C:\\Users\\edoar\\anaconda3\\lib\\site-packages\\pandas\\io\\sql.py:761: UserWarning: pandas only support SQLAlchemy connectable(engine/connection) ordatabase string URI or sqlite3 DBAPI2 connectionother DBAPI2 objects are not tested, please consider using SQLAlchemy\n",
      "  warnings.warn(\n"
     ]
    }
   ],
   "source": [
    "mydb = connection.connect(host='ttfprojectdb.cdjjwxlk5ujc.eu-central-1.rds.amazonaws.com',\n",
    "                        database='database-data-science-project-its-ttf-2022-23',\n",
    "                        user='edoardo',\n",
    "                        password='PG8Io90EcKBVEg2iKLgi')\n",
    "query_fermate = \"Select * from fermate_metro_milano;\"\n",
    "df_fermate_milano = pd.read_sql(query_fermate,mydb)\n",
    "query_ferrovie = \"Select * from ferrovie_milano\"\n",
    "df_ferrovie_milano = pd.read_sql(query_ferrovie,mydb)\n",
    "query_mezzi_urbani = \"Select * from mezzi_urbani\"\n",
    "df_mezzi_urbani = pd.read_sql(query_mezzi_urbani,mydb)\n",
    "query_percorsi_metro = \"Select * from percorsi_metro_milano\"\n",
    "df_percorsi_metro_milano = pd.read_sql(query_percorsi_metro,mydb)\n",
    "query_stazioni_bikemi = \"Select * from stazioni_bikemi\"\n",
    "df_bikemi = pd.read_sql(query_stazioni_bikemi,mydb)\n",
    "query_sosta_bike = \"Select * from sosta_bike\"\n",
    "df_sosta_bike = pd.read_sql(query_sosta_bike,mydb)\n",
    "query_parcheggi_pub = \"Select * from parcheggi_pubblici\"\n",
    "df_parcheggi_pub = pd.read_sql(query_parcheggi_pub,mydb)\n",
    "\n",
    "mydb.close() #close the connection"
   ]
  },
  {
   "cell_type": "code",
   "execution_count": 10,
   "id": "21453faf-49c6-4742-9ca9-e42440449934",
   "metadata": {},
   "outputs": [
    {
     "data": {
      "text/html": [
       "<div>\n",
       "<style scoped>\n",
       "    .dataframe tbody tr th:only-of-type {\n",
       "        vertical-align: middle;\n",
       "    }\n",
       "\n",
       "    .dataframe tbody tr th {\n",
       "        vertical-align: top;\n",
       "    }\n",
       "\n",
       "    .dataframe thead th {\n",
       "        text-align: right;\n",
       "    }\n",
       "</style>\n",
       "<table border=\"1\" class=\"dataframe\">\n",
       "  <thead>\n",
       "    <tr style=\"text-align: right;\">\n",
       "      <th></th>\n",
       "      <th>id_amat</th>\n",
       "      <th>nome</th>\n",
       "      <th>LONG_X_4326</th>\n",
       "      <th>LAT_Y_4326</th>\n",
       "    </tr>\n",
       "  </thead>\n",
       "  <tbody>\n",
       "    <tr>\n",
       "      <th>0</th>\n",
       "      <td>889</td>\n",
       "      <td>TRE TORRI</td>\n",
       "      <td>9.15667532734003</td>\n",
       "      <td>45.4781401846813</td>\n",
       "    </tr>\n",
       "    <tr>\n",
       "      <th>1</th>\n",
       "      <td>890</td>\n",
       "      <td>ZARA</td>\n",
       "      <td>9.1926011078845</td>\n",
       "      <td>45.4926644010357</td>\n",
       "    </tr>\n",
       "    <tr>\n",
       "      <th>2</th>\n",
       "      <td>891</td>\n",
       "      <td>WAGNER</td>\n",
       "      <td>9.15591440789603</td>\n",
       "      <td>45.4679501010405</td>\n",
       "    </tr>\n",
       "    <tr>\n",
       "      <th>3</th>\n",
       "      <td>892</td>\n",
       "      <td>VIMODRONE</td>\n",
       "      <td>9.28598910784986</td>\n",
       "      <td>45.5157833010269</td>\n",
       "    </tr>\n",
       "    <tr>\n",
       "      <th>4</th>\n",
       "      <td>893</td>\n",
       "      <td>VILLA S.G.</td>\n",
       "      <td>9.22613020787426</td>\n",
       "      <td>45.517454501031</td>\n",
       "    </tr>\n",
       "    <tr>\n",
       "      <th>...</th>\n",
       "      <td>...</td>\n",
       "      <td>...</td>\n",
       "      <td>...</td>\n",
       "      <td>...</td>\n",
       "    </tr>\n",
       "    <tr>\n",
       "      <th>105</th>\n",
       "      <td>995</td>\n",
       "      <td>ASSAGO MILANOFIORI FORUM</td>\n",
       "      <td>9.14553880789143</td>\n",
       "      <td>45.4017485010472</td>\n",
       "    </tr>\n",
       "    <tr>\n",
       "      <th>106</th>\n",
       "      <td>996</td>\n",
       "      <td>AMENDOLA</td>\n",
       "      <td>9.15096930789879</td>\n",
       "      <td>45.4736789010404</td>\n",
       "    </tr>\n",
       "    <tr>\n",
       "      <th>107</th>\n",
       "      <td>997</td>\n",
       "      <td>AFFORI FN</td>\n",
       "      <td>9.1682516078982</td>\n",
       "      <td>45.5216818010349</td>\n",
       "    </tr>\n",
       "    <tr>\n",
       "      <th>108</th>\n",
       "      <td>998</td>\n",
       "      <td>AFFORI CENTRO</td>\n",
       "      <td>9.1739799078948</td>\n",
       "      <td>45.5135543010351</td>\n",
       "    </tr>\n",
       "    <tr>\n",
       "      <th>109</th>\n",
       "      <td>999</td>\n",
       "      <td>ABBIATEGRASSO</td>\n",
       "      <td>9.17732280788234</td>\n",
       "      <td>45.4299949010423</td>\n",
       "    </tr>\n",
       "  </tbody>\n",
       "</table>\n",
       "<p>110 rows × 4 columns</p>\n",
       "</div>"
      ],
      "text/plain": [
       "     id_amat                      nome       LONG_X_4326        LAT_Y_4326\n",
       "0        889                 TRE TORRI  9.15667532734003  45.4781401846813\n",
       "1        890                      ZARA   9.1926011078845  45.4926644010357\n",
       "2        891                    WAGNER  9.15591440789603  45.4679501010405\n",
       "3        892                 VIMODRONE  9.28598910784986  45.5157833010269\n",
       "4        893                VILLA S.G.  9.22613020787426   45.517454501031\n",
       "..       ...                       ...               ...               ...\n",
       "105      995  ASSAGO MILANOFIORI FORUM  9.14553880789143  45.4017485010472\n",
       "106      996                  AMENDOLA  9.15096930789879  45.4736789010404\n",
       "107      997                 AFFORI FN   9.1682516078982  45.5216818010349\n",
       "108      998             AFFORI CENTRO   9.1739799078948  45.5135543010351\n",
       "109      999             ABBIATEGRASSO  9.17732280788234  45.4299949010423\n",
       "\n",
       "[110 rows x 4 columns]"
      ]
     },
     "execution_count": 10,
     "metadata": {},
     "output_type": "execute_result"
    }
   ],
   "source": [
    "df_fermate_milano"
   ]
  },
  {
   "cell_type": "code",
   "execution_count": null,
   "id": "c4c294b9-9914-4123-9d15-af5769fe0e9b",
   "metadata": {},
   "outputs": [],
   "source": []
  }
 ],
 "metadata": {
  "kernelspec": {
   "display_name": "Python 3 (ipykernel)",
   "language": "python",
   "name": "python3"
  },
  "language_info": {
   "codemirror_mode": {
    "name": "ipython",
    "version": 3
   },
   "file_extension": ".py",
   "mimetype": "text/x-python",
   "name": "python",
   "nbconvert_exporter": "python",
   "pygments_lexer": "ipython3",
   "version": "3.9.12"
  }
 },
 "nbformat": 4,
 "nbformat_minor": 5
}
