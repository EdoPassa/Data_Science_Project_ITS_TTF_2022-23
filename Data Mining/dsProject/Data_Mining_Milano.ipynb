{
 "cells": [
  {
   "cell_type": "markdown",
   "source": [
    "# Data wrangling"
   ],
   "metadata": {
    "collapsed": false
   }
  },
  {
   "cell_type": "code",
   "execution_count": 1,
   "metadata": {
    "collapsed": true
   },
   "outputs": [],
   "source": [
    "#import statement\n",
    "import mysql.connector as connection\n",
    "import pandas as pd"
   ]
  },
  {
   "cell_type": "code",
   "execution_count": 2,
   "outputs": [
    {
     "name": "stderr",
     "output_type": "stream",
     "text": [
      "C:\\Users\\edoar\\anaconda3\\lib\\site-packages\\pandas\\io\\sql.py:761: UserWarning: pandas only support SQLAlchemy connectable(engine/connection) ordatabase string URI or sqlite3 DBAPI2 connectionother DBAPI2 objects are not tested, please consider using SQLAlchemy\n",
      "  warnings.warn(\n"
     ]
    }
   ],
   "source": [
    "\n",
    "mydb = connection.connect(host=\"database-data-science-project-its-ttf-2022-23.cdjjwxlk5ujc.eu-central-1.rds.amazonaws.com\", database = 'database-data-science-project-its-ttf-2022-23',user=\"edoardo\", passwd=\"PG8Io90EcKBVEg2iKLgi\",use_pure=True)\n",
    "query = \"Select * from ospedali_milano;\"\n",
    "df_ospedali = pd.read_sql(query,mydb)\n",
    "mydb.close() #close the connection\n"
   ],
   "metadata": {
    "collapsed": false,
    "pycharm": {
     "name": "#%%\n"
    }
   }
  },
  {
   "cell_type": "code",
   "execution_count": 3,
   "outputs": [
    {
     "data": {
      "text/plain": "     null                          DENOM_STRUTTURA  \\\n0       1             OSPEDALE BOLOGNINI - SERIATE   \n1       2  OSPEDALE CROTTA OLTROCCHI-VAPRIO D'ADDA   \n2       3      OSP. GENERALE PROVINCIALE - SARONNO   \n3       4  OSPEDALE M. O. ANTONIO LOCATELLI-PIARIO   \n4       5    OSP.LE SS.CAPITANIO E GEROSA - LOVERE   \n..    ...                                      ...   \n103   104                    OSPEDALE DI DESENZANO   \n104   105                      OSPEDALE DI CREMONA   \n105   106             PRESIDIO OSPEDALIERO - ASOLA   \n106   107         OSPEDALE C. CANTU' ABBIATEGRASSO   \n107   108                        OSPEDALE OGLIO PO   \n\n                        INDIRIZZO    CAP             LOCALITA  \n0                  VIA PADERNO 21  24068              SERIATE  \n1              VIA DON MOLETTA 22  20069        VAPRIO D'ADDA  \n2              PIAZZALE BORELLA 1  21047              SARONNO  \n3                  VIA GROPPINI22  24020               PIARIO  \n4                VIA MARTINOLI 9A  24065               LOVERE  \n..                            ...    ...                  ...  \n103               LOC. MONTECROCE  25015  DESENZANO DEL GARDA  \n104            VIA LARGO PRIORI 1  26100              CREMONA  \n105         PIAZZA 80� FANTERIA 1  46041                ASOLA  \n106  PIAZZA B. CAZZAMINI MUSSI  1  20081        ABBIATEGRASSO  \n107   VIA STAFFOLO 51-VICOMOSCANO  26041        CASALMAGGIORE  \n\n[108 rows x 5 columns]",
      "text/html": "<div>\n<style scoped>\n    .dataframe tbody tr th:only-of-type {\n        vertical-align: middle;\n    }\n\n    .dataframe tbody tr th {\n        vertical-align: top;\n    }\n\n    .dataframe thead th {\n        text-align: right;\n    }\n</style>\n<table border=\"1\" class=\"dataframe\">\n  <thead>\n    <tr style=\"text-align: right;\">\n      <th></th>\n      <th>null</th>\n      <th>DENOM_STRUTTURA</th>\n      <th>INDIRIZZO</th>\n      <th>CAP</th>\n      <th>LOCALITA</th>\n    </tr>\n  </thead>\n  <tbody>\n    <tr>\n      <th>0</th>\n      <td>1</td>\n      <td>OSPEDALE BOLOGNINI - SERIATE</td>\n      <td>VIA PADERNO 21</td>\n      <td>24068</td>\n      <td>SERIATE</td>\n    </tr>\n    <tr>\n      <th>1</th>\n      <td>2</td>\n      <td>OSPEDALE CROTTA OLTROCCHI-VAPRIO D'ADDA</td>\n      <td>VIA DON MOLETTA 22</td>\n      <td>20069</td>\n      <td>VAPRIO D'ADDA</td>\n    </tr>\n    <tr>\n      <th>2</th>\n      <td>3</td>\n      <td>OSP. GENERALE PROVINCIALE - SARONNO</td>\n      <td>PIAZZALE BORELLA 1</td>\n      <td>21047</td>\n      <td>SARONNO</td>\n    </tr>\n    <tr>\n      <th>3</th>\n      <td>4</td>\n      <td>OSPEDALE M. O. ANTONIO LOCATELLI-PIARIO</td>\n      <td>VIA GROPPINI22</td>\n      <td>24020</td>\n      <td>PIARIO</td>\n    </tr>\n    <tr>\n      <th>4</th>\n      <td>5</td>\n      <td>OSP.LE SS.CAPITANIO E GEROSA - LOVERE</td>\n      <td>VIA MARTINOLI 9A</td>\n      <td>24065</td>\n      <td>LOVERE</td>\n    </tr>\n    <tr>\n      <th>...</th>\n      <td>...</td>\n      <td>...</td>\n      <td>...</td>\n      <td>...</td>\n      <td>...</td>\n    </tr>\n    <tr>\n      <th>103</th>\n      <td>104</td>\n      <td>OSPEDALE DI DESENZANO</td>\n      <td>LOC. MONTECROCE</td>\n      <td>25015</td>\n      <td>DESENZANO DEL GARDA</td>\n    </tr>\n    <tr>\n      <th>104</th>\n      <td>105</td>\n      <td>OSPEDALE DI CREMONA</td>\n      <td>VIA LARGO PRIORI 1</td>\n      <td>26100</td>\n      <td>CREMONA</td>\n    </tr>\n    <tr>\n      <th>105</th>\n      <td>106</td>\n      <td>PRESIDIO OSPEDALIERO - ASOLA</td>\n      <td>PIAZZA 80� FANTERIA 1</td>\n      <td>46041</td>\n      <td>ASOLA</td>\n    </tr>\n    <tr>\n      <th>106</th>\n      <td>107</td>\n      <td>OSPEDALE C. CANTU' ABBIATEGRASSO</td>\n      <td>PIAZZA B. CAZZAMINI MUSSI  1</td>\n      <td>20081</td>\n      <td>ABBIATEGRASSO</td>\n    </tr>\n    <tr>\n      <th>107</th>\n      <td>108</td>\n      <td>OSPEDALE OGLIO PO</td>\n      <td>VIA STAFFOLO 51-VICOMOSCANO</td>\n      <td>26041</td>\n      <td>CASALMAGGIORE</td>\n    </tr>\n  </tbody>\n</table>\n<p>108 rows × 5 columns</p>\n</div>"
     },
     "execution_count": 3,
     "metadata": {},
     "output_type": "execute_result"
    }
   ],
   "source": [
    "df_ospedali"
   ],
   "metadata": {
    "collapsed": false,
    "pycharm": {
     "name": "#%%\n"
    }
   }
  },
  {
   "cell_type": "code",
   "execution_count": null,
   "outputs": [],
   "source": [],
   "metadata": {
    "collapsed": false,
    "pycharm": {
     "name": "#%%\n"
    }
   }
  }
 ],
 "metadata": {
  "kernelspec": {
   "display_name": "Python 3",
   "language": "python",
   "name": "python3"
  },
  "language_info": {
   "codemirror_mode": {
    "name": "ipython",
    "version": 2
   },
   "file_extension": ".py",
   "mimetype": "text/x-python",
   "name": "python",
   "nbconvert_exporter": "python",
   "pygments_lexer": "ipython2",
   "version": "2.7.6"
  }
 },
 "nbformat": 4,
 "nbformat_minor": 0
}