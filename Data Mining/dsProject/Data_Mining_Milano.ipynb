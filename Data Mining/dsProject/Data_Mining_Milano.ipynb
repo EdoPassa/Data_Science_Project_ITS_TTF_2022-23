{
 "cells": [
  {
   "cell_type": "markdown",
   "metadata": {
    "collapsed": false
   },
   "source": [
    "# Data wrangling"
   ]
  },
  {
   "cell_type": "code",
   "execution_count": 1,
   "metadata": {
    "collapsed": true
   },
   "outputs": [],
   "source": [
    "#import statement\n",
    "import mysql.connector as connection\n",
    "import pandas as pd"
   ]
  },
  {
   "cell_type": "code",
   "execution_count": 2,
   "metadata": {
    "collapsed": false,
    "pycharm": {
     "name": "#%%\n"
    }
   },
   "outputs": [
    {
     "name": "stderr",
     "output_type": "stream",
     "text": [
      "C:\\Users\\Mattia\\AppData\\Local\\Packages\\PythonSoftwareFoundation.Python.3.10_qbz5n2kfra8p0\\LocalCache\\local-packages\\Python310\\site-packages\\pandas\\io\\sql.py:761: UserWarning: pandas only support SQLAlchemy connectable(engine/connection) ordatabase string URI or sqlite3 DBAPI2 connectionother DBAPI2 objects are not tested, please consider using SQLAlchemy\n",
      "  warnings.warn(\n"
     ]
    }
   ],
   "source": [
    "\n",
    "mydb = connection.connect(host=\"database-data-science-project-its-ttf-2022-23.cdjjwxlk5ujc.eu-central-1.rds.amazonaws.com\", database = 'database-data-science-project-its-ttf-2022-23',user=\"edoardo\", passwd=\"PG8Io90EcKBVEg2iKLgi\",use_pure=True)\n",
    "query = \"Select * from ospedali_milano;\"\n",
    "df_ospedali = pd.read_sql(query,mydb)\n",
    "mydb.close() #close the connection\n"
   ]
  },
  {
   "cell_type": "code",
   "execution_count": 3,
   "metadata": {
    "collapsed": false,
    "pycharm": {
     "name": "#%%\n"
    }
   },
   "outputs": [
    {
     "data": {
      "text/html": [
       "<div>\n",
       "<style scoped>\n",
       "    .dataframe tbody tr th:only-of-type {\n",
       "        vertical-align: middle;\n",
       "    }\n",
       "\n",
       "    .dataframe tbody tr th {\n",
       "        vertical-align: top;\n",
       "    }\n",
       "\n",
       "    .dataframe thead th {\n",
       "        text-align: right;\n",
       "    }\n",
       "</style>\n",
       "<table border=\"1\" class=\"dataframe\">\n",
       "  <thead>\n",
       "    <tr style=\"text-align: right;\">\n",
       "      <th></th>\n",
       "      <th>ID</th>\n",
       "      <th>DENOM_STRUTTURA</th>\n",
       "      <th>INDIRIZZO</th>\n",
       "      <th>CAP</th>\n",
       "      <th>LOCALITA</th>\n",
       "    </tr>\n",
       "  </thead>\n",
       "  <tbody>\n",
       "    <tr>\n",
       "      <th>0</th>\n",
       "      <td>1</td>\n",
       "      <td>OSPEDALE BOLOGNINI - SERIATE</td>\n",
       "      <td>VIA PADERNO 21</td>\n",
       "      <td>24068</td>\n",
       "      <td>SERIATE</td>\n",
       "    </tr>\n",
       "    <tr>\n",
       "      <th>1</th>\n",
       "      <td>2</td>\n",
       "      <td>OSPEDALE CROTTA OLTROCCHI-VAPRIO D'ADDA</td>\n",
       "      <td>VIA DON MOLETTA 22</td>\n",
       "      <td>20069</td>\n",
       "      <td>VAPRIO D'ADDA</td>\n",
       "    </tr>\n",
       "    <tr>\n",
       "      <th>2</th>\n",
       "      <td>3</td>\n",
       "      <td>OSP. GENERALE PROVINCIALE - SARONNO</td>\n",
       "      <td>PIAZZALE BORELLA 1</td>\n",
       "      <td>21047</td>\n",
       "      <td>SARONNO</td>\n",
       "    </tr>\n",
       "    <tr>\n",
       "      <th>3</th>\n",
       "      <td>4</td>\n",
       "      <td>OSPEDALE M. O. ANTONIO LOCATELLI-PIARIO</td>\n",
       "      <td>VIA GROPPINI22</td>\n",
       "      <td>24020</td>\n",
       "      <td>PIARIO</td>\n",
       "    </tr>\n",
       "    <tr>\n",
       "      <th>4</th>\n",
       "      <td>5</td>\n",
       "      <td>OSP.LE SS.CAPITANIO E GEROSA - LOVERE</td>\n",
       "      <td>VIA MARTINOLI 9A</td>\n",
       "      <td>24065</td>\n",
       "      <td>LOVERE</td>\n",
       "    </tr>\n",
       "    <tr>\n",
       "      <th>...</th>\n",
       "      <td>...</td>\n",
       "      <td>...</td>\n",
       "      <td>...</td>\n",
       "      <td>...</td>\n",
       "      <td>...</td>\n",
       "    </tr>\n",
       "    <tr>\n",
       "      <th>211</th>\n",
       "      <td>9149</td>\n",
       "      <td>OSPEDALE DI DESENZANO</td>\n",
       "      <td>LOC. MONTECROCE</td>\n",
       "      <td>25015</td>\n",
       "      <td>DESENZANO DEL GARDA</td>\n",
       "    </tr>\n",
       "    <tr>\n",
       "      <th>212</th>\n",
       "      <td>9150</td>\n",
       "      <td>OSPEDALE DI CREMONA</td>\n",
       "      <td>VIA LARGO PRIORI 1</td>\n",
       "      <td>26100</td>\n",
       "      <td>CREMONA</td>\n",
       "    </tr>\n",
       "    <tr>\n",
       "      <th>213</th>\n",
       "      <td>9151</td>\n",
       "      <td>PRESIDIO OSPEDALIERO - ASOLA</td>\n",
       "      <td>PIAZZA 80� FANTERIA 1</td>\n",
       "      <td>46041</td>\n",
       "      <td>ASOLA</td>\n",
       "    </tr>\n",
       "    <tr>\n",
       "      <th>214</th>\n",
       "      <td>9152</td>\n",
       "      <td>OSPEDALE C. CANTU' ABBIATEGRASSO</td>\n",
       "      <td>PIAZZA B. CAZZAMINI MUSSI  1</td>\n",
       "      <td>20081</td>\n",
       "      <td>ABBIATEGRASSO</td>\n",
       "    </tr>\n",
       "    <tr>\n",
       "      <th>215</th>\n",
       "      <td>9153</td>\n",
       "      <td>OSPEDALE OGLIO PO</td>\n",
       "      <td>VIA STAFFOLO 51-VICOMOSCANO</td>\n",
       "      <td>26041</td>\n",
       "      <td>CASALMAGGIORE</td>\n",
       "    </tr>\n",
       "  </tbody>\n",
       "</table>\n",
       "<p>216 rows × 5 columns</p>\n",
       "</div>"
      ],
      "text/plain": [
       "       ID                          DENOM_STRUTTURA  \\\n",
       "0       1             OSPEDALE BOLOGNINI - SERIATE   \n",
       "1       2  OSPEDALE CROTTA OLTROCCHI-VAPRIO D'ADDA   \n",
       "2       3      OSP. GENERALE PROVINCIALE - SARONNO   \n",
       "3       4  OSPEDALE M. O. ANTONIO LOCATELLI-PIARIO   \n",
       "4       5    OSP.LE SS.CAPITANIO E GEROSA - LOVERE   \n",
       "..    ...                                      ...   \n",
       "211  9149                    OSPEDALE DI DESENZANO   \n",
       "212  9150                      OSPEDALE DI CREMONA   \n",
       "213  9151             PRESIDIO OSPEDALIERO - ASOLA   \n",
       "214  9152         OSPEDALE C. CANTU' ABBIATEGRASSO   \n",
       "215  9153                        OSPEDALE OGLIO PO   \n",
       "\n",
       "                        INDIRIZZO    CAP             LOCALITA  \n",
       "0                  VIA PADERNO 21  24068              SERIATE  \n",
       "1              VIA DON MOLETTA 22  20069        VAPRIO D'ADDA  \n",
       "2              PIAZZALE BORELLA 1  21047              SARONNO  \n",
       "3                  VIA GROPPINI22  24020               PIARIO  \n",
       "4                VIA MARTINOLI 9A  24065               LOVERE  \n",
       "..                            ...    ...                  ...  \n",
       "211               LOC. MONTECROCE  25015  DESENZANO DEL GARDA  \n",
       "212            VIA LARGO PRIORI 1  26100              CREMONA  \n",
       "213         PIAZZA 80� FANTERIA 1  46041                ASOLA  \n",
       "214  PIAZZA B. CAZZAMINI MUSSI  1  20081        ABBIATEGRASSO  \n",
       "215   VIA STAFFOLO 51-VICOMOSCANO  26041        CASALMAGGIORE  \n",
       "\n",
       "[216 rows x 5 columns]"
      ]
     },
     "execution_count": 3,
     "metadata": {},
     "output_type": "execute_result"
    }
   ],
   "source": [
    "df_ospedali"
   ]
  },
  {
   "cell_type": "code",
   "execution_count": null,
   "metadata": {
    "collapsed": false,
    "pycharm": {
     "name": "#%%\n"
    }
   },
   "outputs": [],
   "source": []
  }
 ],
 "metadata": {
  "kernelspec": {
   "display_name": "Python 3.10.8 64-bit (microsoft store)",
   "language": "python",
   "name": "python3"
  },
  "language_info": {
   "codemirror_mode": {
    "name": "ipython",
    "version": 3
   },
   "file_extension": ".py",
   "mimetype": "text/x-python",
   "name": "python",
   "nbconvert_exporter": "python",
   "pygments_lexer": "ipython3",
   "version": "3.10.8"
  },
  "vscode": {
   "interpreter": {
    "hash": "08726412a4e6d0a05a49c869075e7dcc767f548732c15bec18dceeefd15bf216"
   }
  }
 },
 "nbformat": 4,
 "nbformat_minor": 0
}
