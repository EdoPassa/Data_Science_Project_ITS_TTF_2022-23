{
  "cells": [
    {
      "cell_type": "markdown",
      "metadata": {
        "id": "view-in-github",
        "colab_type": "text"
      },
      "source": [
        "<a href=\"https://colab.research.google.com/github/EdoPassa/Data_Science_Project_ITS_TTF_2022-23/blob/main/Data%20Mining/dsProject/Data_Mining_Milano.ipynb\" target=\"_parent\"><img src=\"https://colab.research.google.com/assets/colab-badge.svg\" alt=\"Open In Colab\"/></a>"
      ]
    },
    {
      "cell_type": "markdown",
      "id": "92f978dd-441a-4d44-a84a-7e902cea0326",
      "metadata": {
        "id": "92f978dd-441a-4d44-a84a-7e902cea0326"
      },
      "source": [
        "# Data Wrangling"
      ]
    },
    {
      "cell_type": "code",
      "source": [
        "pip install"
      ],
      "metadata": {
        "id": "QQJFark7xyPz"
      },
      "id": "QQJFark7xyPz",
      "execution_count": null,
      "outputs": []
    },
    {
      "cell_type": "code",
      "execution_count": 1,
      "id": "a6d4b30f-a7c7-4bfc-aff0-b859806edb7e",
      "metadata": {
        "id": "a6d4b30f-a7c7-4bfc-aff0-b859806edb7e",
        "outputId": "b2ab0d9d-7958-4137-9d3f-4adb51e0d053",
        "colab": {
          "base_uri": "https://localhost:8080/",
          "height": 339
        }
      },
      "outputs": [
        {
          "output_type": "error",
          "ename": "ModuleNotFoundError",
          "evalue": "ignored",
          "traceback": [
            "\u001b[0;31m---------------------------------------------------------------------------\u001b[0m",
            "\u001b[0;31mModuleNotFoundError\u001b[0m                       Traceback (most recent call last)",
            "\u001b[0;32m<ipython-input-1-6756a4313976>\u001b[0m in \u001b[0;36m<module>\u001b[0;34m\u001b[0m\n\u001b[1;32m      1\u001b[0m \u001b[0;31m#Import Statment\u001b[0m\u001b[0;34m\u001b[0m\u001b[0;34m\u001b[0m\u001b[0;34m\u001b[0m\u001b[0m\n\u001b[0;32m----> 2\u001b[0;31m \u001b[0;32mimport\u001b[0m \u001b[0mmysql\u001b[0m\u001b[0;34m.\u001b[0m\u001b[0mconnector\u001b[0m \u001b[0;32mas\u001b[0m \u001b[0mconnection\u001b[0m\u001b[0;34m\u001b[0m\u001b[0;34m\u001b[0m\u001b[0m\n\u001b[0m\u001b[1;32m      3\u001b[0m \u001b[0;32mimport\u001b[0m \u001b[0mnumpy\u001b[0m \u001b[0;32mas\u001b[0m \u001b[0mnp\u001b[0m\u001b[0;34m\u001b[0m\u001b[0;34m\u001b[0m\u001b[0m\n",
            "\u001b[0;31mModuleNotFoundError\u001b[0m: No module named 'mysql'",
            "",
            "\u001b[0;31m---------------------------------------------------------------------------\u001b[0;32m\nNOTE: If your import is failing due to a missing package, you can\nmanually install dependencies using either !pip or !apt.\n\nTo view examples of installing some common dependencies, click the\n\"Open Examples\" button below.\n\u001b[0;31m---------------------------------------------------------------------------\u001b[0m\n"
          ],
          "errorDetails": {
            "actions": [
              {
                "action": "open_url",
                "actionText": "Open Examples",
                "url": "/notebooks/snippets/importing_libraries.ipynb"
              }
            ]
          }
        }
      ],
      "source": [
        "#Import Statment\n",
        "import mysql.connector as connection\n",
        "import numpy as np\n"
      ]
    },
    {
      "cell_type": "markdown",
      "id": "339040b6-b74f-4c02-ab43-aecc279e9a64",
      "metadata": {
        "id": "339040b6-b74f-4c02-ab43-aecc279e9a64"
      },
      "source": [
        "## Import tables from MySQL to pandas' dataframes"
      ]
    },
    {
      "cell_type": "code",
      "execution_count": null,
      "id": "40a6dad5-b9cb-4bd7-90c2-e6754f5b6788",
      "metadata": {
        "id": "40a6dad5-b9cb-4bd7-90c2-e6754f5b6788",
        "outputId": "2ecb0d25-37b1-4c71-c5c7-2038a17b5f43"
      },
      "outputs": [
        {
          "name": "stderr",
          "output_type": "stream",
          "text": [
            "c:\\Users\\Mattia\\anaconda3\\lib\\site-packages\\pandas\\io\\sql.py:761: UserWarning: pandas only support SQLAlchemy connectable(engine/connection) ordatabase string URI or sqlite3 DBAPI2 connectionother DBAPI2 objects are not tested, please consider using SQLAlchemy\n",
            "  warnings.warn(\n",
            "c:\\Users\\Mattia\\anaconda3\\lib\\site-packages\\pandas\\io\\sql.py:761: UserWarning: pandas only support SQLAlchemy connectable(engine/connection) ordatabase string URI or sqlite3 DBAPI2 connectionother DBAPI2 objects are not tested, please consider using SQLAlchemy\n",
            "  warnings.warn(\n",
            "c:\\Users\\Mattia\\anaconda3\\lib\\site-packages\\pandas\\io\\sql.py:761: UserWarning: pandas only support SQLAlchemy connectable(engine/connection) ordatabase string URI or sqlite3 DBAPI2 connectionother DBAPI2 objects are not tested, please consider using SQLAlchemy\n",
            "  warnings.warn(\n",
            "c:\\Users\\Mattia\\anaconda3\\lib\\site-packages\\pandas\\io\\sql.py:761: UserWarning: pandas only support SQLAlchemy connectable(engine/connection) ordatabase string URI or sqlite3 DBAPI2 connectionother DBAPI2 objects are not tested, please consider using SQLAlchemy\n",
            "  warnings.warn(\n",
            "c:\\Users\\Mattia\\anaconda3\\lib\\site-packages\\pandas\\io\\sql.py:761: UserWarning: pandas only support SQLAlchemy connectable(engine/connection) ordatabase string URI or sqlite3 DBAPI2 connectionother DBAPI2 objects are not tested, please consider using SQLAlchemy\n",
            "  warnings.warn(\n",
            "c:\\Users\\Mattia\\anaconda3\\lib\\site-packages\\pandas\\io\\sql.py:761: UserWarning: pandas only support SQLAlchemy connectable(engine/connection) ordatabase string URI or sqlite3 DBAPI2 connectionother DBAPI2 objects are not tested, please consider using SQLAlchemy\n",
            "  warnings.warn(\n",
            "c:\\Users\\Mattia\\anaconda3\\lib\\site-packages\\pandas\\io\\sql.py:761: UserWarning: pandas only support SQLAlchemy connectable(engine/connection) ordatabase string URI or sqlite3 DBAPI2 connectionother DBAPI2 objects are not tested, please consider using SQLAlchemy\n",
            "  warnings.warn(\n",
            "c:\\Users\\Mattia\\anaconda3\\lib\\site-packages\\pandas\\io\\sql.py:761: UserWarning: pandas only support SQLAlchemy connectable(engine/connection) ordatabase string URI or sqlite3 DBAPI2 connectionother DBAPI2 objects are not tested, please consider using SQLAlchemy\n",
            "  warnings.warn(\n",
            "c:\\Users\\Mattia\\anaconda3\\lib\\site-packages\\pandas\\io\\sql.py:761: UserWarning: pandas only support SQLAlchemy connectable(engine/connection) ordatabase string URI or sqlite3 DBAPI2 connectionother DBAPI2 objects are not tested, please consider using SQLAlchemy\n",
            "  warnings.warn(\n",
            "c:\\Users\\Mattia\\anaconda3\\lib\\site-packages\\pandas\\io\\sql.py:761: UserWarning: pandas only support SQLAlchemy connectable(engine/connection) ordatabase string URI or sqlite3 DBAPI2 connectionother DBAPI2 objects are not tested, please consider using SQLAlchemy\n",
            "  warnings.warn(\n",
            "c:\\Users\\Mattia\\anaconda3\\lib\\site-packages\\pandas\\io\\sql.py:761: UserWarning: pandas only support SQLAlchemy connectable(engine/connection) ordatabase string URI or sqlite3 DBAPI2 connectionother DBAPI2 objects are not tested, please consider using SQLAlchemy\n",
            "  warnings.warn(\n",
            "c:\\Users\\Mattia\\anaconda3\\lib\\site-packages\\pandas\\io\\sql.py:761: UserWarning: pandas only support SQLAlchemy connectable(engine/connection) ordatabase string URI or sqlite3 DBAPI2 connectionother DBAPI2 objects are not tested, please consider using SQLAlchemy\n",
            "  warnings.warn(\n",
            "c:\\Users\\Mattia\\anaconda3\\lib\\site-packages\\pandas\\io\\sql.py:761: UserWarning: pandas only support SQLAlchemy connectable(engine/connection) ordatabase string URI or sqlite3 DBAPI2 connectionother DBAPI2 objects are not tested, please consider using SQLAlchemy\n",
            "  warnings.warn(\n"
          ]
        }
      ],
      "source": [
        "mydb = connection.connect(host='ttfprojectdb.cdjjwxlk5ujc.eu-central-1.rds.amazonaws.com',\n",
        "                        database='database-data-science-project-its-ttf-2022-23',\n",
        "                        user='edoardo',\n",
        "                        password='PG8Io90EcKBVEg2iKLgi')\n",
        "query_fermate = \"Select * from fermate_metro_milano;\"\n",
        "df_fermate_milano = pd.read_sql(query_fermate,mydb)\n",
        "\n",
        "query_ferrovie = \"Select * from ferrovie_milano\"\n",
        "df_ferrovie_milano = pd.read_sql(query_ferrovie,mydb)\n",
        "\n",
        "query_mezzi_urbani = \"Select * from mezzi_urbani\"\n",
        "df_mezzi_urbani = pd.read_sql(query_mezzi_urbani,mydb)\n",
        "\n",
        "query_percorsi_metro = \"Select * from percorsi_metro_milano\"\n",
        "df_percorsi_metro_milano = pd.read_sql(query_percorsi_metro,mydb)\n",
        "\n",
        "query_stazioni_bikemi = \"Select * from stazioni_bikemi\"\n",
        "df_bikemi = pd.read_sql(query_stazioni_bikemi,mydb)\n",
        "\n",
        "query_sosta_bike = \"Select * from sosta_bike\"\n",
        "df_sosta_bike = pd.read_sql(query_sosta_bike,mydb)\n",
        "\n",
        "query_parcheggi_pub = \"Select * from parcheggi_pubblici\"\n",
        "df_parcheggi_pub = pd.read_sql(query_parcheggi_pub,mydb)\n",
        "query_parcheggi_intrscambio = \"Select * from parcheggi_interscambio\"\n",
        "df_parcheggi_inter = pd.read_sql(query_parcheggi_intrscambio,mydb)\n",
        "query_scuole_secondarie_milano = \"Select * from scuole_secondarie_milano\"\n",
        "df_scuole_secondarie = pd.read_sql(query_scuole_secondarie_milano,mydb)\n",
        "query_scuole_primarie_milano = \"Select * from scuole_primarie_milano\"\n",
        "df_scuol_primarie = pd.read_sql(query_scuole_primarie_milano,mydb)\n",
        "query_scuole_infanzia_milano = \"Select * from scuole_infanzia_milano\"\n",
        "df_scuole_infanzia = pd.read_sql(query_scuole_infanzia_milano,mydb)\n",
        "query_ospedali_milano = \"select * from ospedali_milano\"\n",
        "df_ospedali_milano = pd.read_sql(query_ospedali_milano,mydb)\n",
        "query_svago_milano = \"select * from svago_milano\"\n",
        "df_svago_milano =  pd.read_sql(query_svago_milano,mydb)\n",
        "\n",
        "mydb.close() #close the connection"
      ]
    },
    {
      "cell_type": "markdown",
      "id": "7e852068-9a7d-4b58-be48-698dac420e29",
      "metadata": {
        "id": "7e852068-9a7d-4b58-be48-698dac420e29"
      },
      "source": [
        "## Cleaning and Prepping the data for the Clustering"
      ]
    },
    {
      "cell_type": "markdown",
      "id": "556e96b1-5ae6-439e-ac33-507163d47161",
      "metadata": {
        "id": "556e96b1-5ae6-439e-ac33-507163d47161"
      },
      "source": [
        "### Hospital"
      ]
    },
    {
      "cell_type": "code",
      "execution_count": null,
      "id": "c4c294b9-9914-4123-9d15-af5769fe0e9b",
      "metadata": {
        "id": "c4c294b9-9914-4123-9d15-af5769fe0e9b",
        "outputId": "fec3637d-5723-496e-9e0a-1ccd3dd56cb4"
      },
      "outputs": [
        {
          "data": {
            "text/html": [
              "<div>\n",
              "<style scoped>\n",
              "    .dataframe tbody tr th:only-of-type {\n",
              "        vertical-align: middle;\n",
              "    }\n",
              "\n",
              "    .dataframe tbody tr th {\n",
              "        vertical-align: top;\n",
              "    }\n",
              "\n",
              "    .dataframe thead th {\n",
              "        text-align: right;\n",
              "    }\n",
              "</style>\n",
              "<table border=\"1\" class=\"dataframe\">\n",
              "  <thead>\n",
              "    <tr style=\"text-align: right;\">\n",
              "      <th></th>\n",
              "      <th>ID</th>\n",
              "      <th>DENOM_STRUTTURA</th>\n",
              "      <th>INDIRIZZO</th>\n",
              "      <th>CAP</th>\n",
              "      <th>LOCALITA</th>\n",
              "    </tr>\n",
              "  </thead>\n",
              "  <tbody>\n",
              "    <tr>\n",
              "      <th>5</th>\n",
              "      <td>6</td>\n",
              "      <td>OSPEDALE S. PAOLO - MILANO</td>\n",
              "      <td>VIA A. DI RUDINI' 8</td>\n",
              "      <td>20142</td>\n",
              "      <td>MILANO</td>\n",
              "    </tr>\n",
              "    <tr>\n",
              "      <th>16</th>\n",
              "      <td>17</td>\n",
              "      <td>ISTITUTO ORTOPEDICO GAETANO PINI - MILANO</td>\n",
              "      <td>PIAZZA A. CARDINAL FERRARI 1</td>\n",
              "      <td>20122</td>\n",
              "      <td>MILANO</td>\n",
              "    </tr>\n",
              "    <tr>\n",
              "      <th>19</th>\n",
              "      <td>20</td>\n",
              "      <td>OSPEDALE L. SACCO - MILANO</td>\n",
              "      <td>VIA GIOVAN BATTISTA GRASSI 74</td>\n",
              "      <td>20157</td>\n",
              "      <td>MILANO</td>\n",
              "    </tr>\n",
              "    <tr>\n",
              "      <th>24</th>\n",
              "      <td>25</td>\n",
              "      <td>FONDAZ.IRCCS CA' GRANDA - OSPEDALE MAGGIORE PO...</td>\n",
              "      <td>VIA FRANCESCO SFORZA 28</td>\n",
              "      <td>20122</td>\n",
              "      <td>MILANO</td>\n",
              "    </tr>\n",
              "    <tr>\n",
              "      <th>44</th>\n",
              "      <td>45</td>\n",
              "      <td>\"FOND.IRCCS \"\"ISTIT.NAZ.LE TUMORI\"\"MILANO\"</td>\n",
              "      <td>VIA VENEZIAN 1</td>\n",
              "      <td>20133</td>\n",
              "      <td>MILANO</td>\n",
              "    </tr>\n",
              "    <tr>\n",
              "      <th>49</th>\n",
              "      <td>50</td>\n",
              "      <td>OSPEDALE FATEBENEFRATELLI E OFTALMICO - MILANO</td>\n",
              "      <td>PIAZZA PRINCIPESSA CLOTILDE 3</td>\n",
              "      <td>20121</td>\n",
              "      <td>MILANO</td>\n",
              "    </tr>\n",
              "    <tr>\n",
              "      <th>58</th>\n",
              "      <td>59</td>\n",
              "      <td>FOND.IRCCS IST.NAZ.NEUROLOGICO C.BESTA-MILANO</td>\n",
              "      <td>VIA CELORIA 11</td>\n",
              "      <td>20133</td>\n",
              "      <td>MILANO</td>\n",
              "    </tr>\n",
              "    <tr>\n",
              "      <th>64</th>\n",
              "      <td>65</td>\n",
              "      <td>OSPEDALE S. CARLO BORROMEO - MILANO</td>\n",
              "      <td>VIA PIO II 3</td>\n",
              "      <td>20153</td>\n",
              "      <td>MILANO</td>\n",
              "    </tr>\n",
              "    <tr>\n",
              "      <th>75</th>\n",
              "      <td>76</td>\n",
              "      <td>OSPEDALE CA' GRANDA-NIGUARDA - MILANO</td>\n",
              "      <td>PIAZZA OSPEDALE MAGGIORE 3</td>\n",
              "      <td>20162</td>\n",
              "      <td>MILANO</td>\n",
              "    </tr>\n",
              "    <tr>\n",
              "      <th>78</th>\n",
              "      <td>79</td>\n",
              "      <td>P.O. CENTRO TRAUMATOLOGICO ORTOPEDICO - MILANO</td>\n",
              "      <td>VIA BIGNAMI 1</td>\n",
              "      <td>20126</td>\n",
              "      <td>MILANO</td>\n",
              "    </tr>\n",
              "    <tr>\n",
              "      <th>83</th>\n",
              "      <td>84</td>\n",
              "      <td>PRESIDIO OSPED. V. BUZZI - MILANO</td>\n",
              "      <td>VIA CASTELVETRO 32</td>\n",
              "      <td>20154</td>\n",
              "      <td>MILANO</td>\n",
              "    </tr>\n",
              "    <tr>\n",
              "      <th>90</th>\n",
              "      <td>91</td>\n",
              "      <td>OSPEDALE M. MELLONI - MILANO</td>\n",
              "      <td>VIA MACEDONIO MELLONI 52</td>\n",
              "      <td>20129</td>\n",
              "      <td>MILANO</td>\n",
              "    </tr>\n",
              "  </tbody>\n",
              "</table>\n",
              "</div>"
            ],
            "text/plain": [
              "    ID                                    DENOM_STRUTTURA  \\\n",
              "5    6                         OSPEDALE S. PAOLO - MILANO   \n",
              "16  17          ISTITUTO ORTOPEDICO GAETANO PINI - MILANO   \n",
              "19  20                         OSPEDALE L. SACCO - MILANO   \n",
              "24  25  FONDAZ.IRCCS CA' GRANDA - OSPEDALE MAGGIORE PO...   \n",
              "44  45         \"FOND.IRCCS \"\"ISTIT.NAZ.LE TUMORI\"\"MILANO\"   \n",
              "49  50     OSPEDALE FATEBENEFRATELLI E OFTALMICO - MILANO   \n",
              "58  59      FOND.IRCCS IST.NAZ.NEUROLOGICO C.BESTA-MILANO   \n",
              "64  65                OSPEDALE S. CARLO BORROMEO - MILANO   \n",
              "75  76              OSPEDALE CA' GRANDA-NIGUARDA - MILANO   \n",
              "78  79     P.O. CENTRO TRAUMATOLOGICO ORTOPEDICO - MILANO   \n",
              "83  84                  PRESIDIO OSPED. V. BUZZI - MILANO   \n",
              "90  91                       OSPEDALE M. MELLONI - MILANO   \n",
              "\n",
              "                        INDIRIZZO    CAP LOCALITA  \n",
              "5             VIA A. DI RUDINI' 8  20142   MILANO  \n",
              "16   PIAZZA A. CARDINAL FERRARI 1  20122   MILANO  \n",
              "19  VIA GIOVAN BATTISTA GRASSI 74  20157   MILANO  \n",
              "24        VIA FRANCESCO SFORZA 28  20122   MILANO  \n",
              "44                 VIA VENEZIAN 1  20133   MILANO  \n",
              "49  PIAZZA PRINCIPESSA CLOTILDE 3  20121   MILANO  \n",
              "58                 VIA CELORIA 11  20133   MILANO  \n",
              "64                   VIA PIO II 3  20153   MILANO  \n",
              "75     PIAZZA OSPEDALE MAGGIORE 3  20162   MILANO  \n",
              "78                  VIA BIGNAMI 1  20126   MILANO  \n",
              "83             VIA CASTELVETRO 32  20154   MILANO  \n",
              "90       VIA MACEDONIO MELLONI 52  20129   MILANO  "
            ]
          },
          "execution_count": 4,
          "metadata": {},
          "output_type": "execute_result"
        }
      ],
      "source": [
        "#Filtering to get only the data for Milan\n",
        "df_ospedali_milano = df_ospedali_milano[df_ospedali_milano.LOCALITA == \"MILANO\"]\n",
        "df_ospedali_milano"
      ]
    },
    {
      "cell_type": "markdown",
      "id": "b3dbc59e-c12c-4207-be49-951a3747d117",
      "metadata": {
        "id": "b3dbc59e-c12c-4207-be49-951a3747d117"
      },
      "source": [
        "We need to add the lati and long to the data "
      ]
    },
    {
      "cell_type": "code",
      "execution_count": null,
      "id": "e571f1cf",
      "metadata": {
        "id": "e571f1cf"
      },
      "outputs": [],
      "source": [
        "Ylocation = [45.434434224802374, 45.45502231363184, 45.519052444626695, 45.45899971302602, \n",
        "             45.474744262235824, 45.478247350543796, 45.47845013153815, 45.4695588314831, \n",
        "             45.51041400570228, 45.525862594524824, 45.491441001265905, 45.466274466033695]\n",
        "\n",
        "Xlocation = [9.160272740334113, 9.19358879013831,  9.122691755211346, 9.1949594687018, \n",
        "             9.232133395688374, 9.190623211031243, 9.23031347608294, 9.11421265520928, \n",
        "             9.187337988230386, 9.214076602544718, 9.167446384259028, 9.219088797537811]"
      ]
    },
    {
      "cell_type": "code",
      "execution_count": null,
      "id": "9b8b79df-79a1-401e-80f8-bd39b3414b12",
      "metadata": {
        "id": "9b8b79df-79a1-401e-80f8-bd39b3414b12"
      },
      "outputs": [],
      "source": [
        "df_ospedali_milano['Xlocation'] = Xlocation\n",
        "df_ospedali_milano['Ylocation'] = Ylocation\n",
        "df_ospedali_milano_mod = df_ospedali_milano.drop(['ID','LOCALITA', 'CAP', 'DENOM_STRUTTURA', 'INDIRIZZO'], axis=1)"
      ]
    },
    {
      "cell_type": "markdown",
      "id": "ef5c6fa7-d2de-4cfe-9eee-4d804295e04c",
      "metadata": {
        "id": "ef5c6fa7-d2de-4cfe-9eee-4d804295e04c"
      },
      "source": [
        "Now we prep the data for the clustering"
      ]
    },
    {
      "cell_type": "code",
      "execution_count": null,
      "id": "bb0efce4",
      "metadata": {
        "id": "bb0efce4"
      },
      "outputs": [],
      "source": [
        "df_ospedali_milano_mod['Type'] = 'Ospedale'"
      ]
    },
    {
      "cell_type": "code",
      "execution_count": null,
      "id": "9185cbff-353f-4d99-a614-42820276605a",
      "metadata": {
        "id": "9185cbff-353f-4d99-a614-42820276605a",
        "outputId": "2735e4d4-0b0b-4da7-b2cf-bbe71f245ce5"
      },
      "outputs": [
        {
          "data": {
            "text/html": [
              "<div>\n",
              "<style scoped>\n",
              "    .dataframe tbody tr th:only-of-type {\n",
              "        vertical-align: middle;\n",
              "    }\n",
              "\n",
              "    .dataframe tbody tr th {\n",
              "        vertical-align: top;\n",
              "    }\n",
              "\n",
              "    .dataframe thead th {\n",
              "        text-align: right;\n",
              "    }\n",
              "</style>\n",
              "<table border=\"1\" class=\"dataframe\">\n",
              "  <thead>\n",
              "    <tr style=\"text-align: right;\">\n",
              "      <th></th>\n",
              "      <th>Xlocation</th>\n",
              "      <th>Ylocation</th>\n",
              "      <th>Type</th>\n",
              "    </tr>\n",
              "  </thead>\n",
              "  <tbody>\n",
              "    <tr>\n",
              "      <th>5</th>\n",
              "      <td>9.160273</td>\n",
              "      <td>45.434434</td>\n",
              "      <td>Ospedale</td>\n",
              "    </tr>\n",
              "    <tr>\n",
              "      <th>16</th>\n",
              "      <td>9.193589</td>\n",
              "      <td>45.455022</td>\n",
              "      <td>Ospedale</td>\n",
              "    </tr>\n",
              "    <tr>\n",
              "      <th>19</th>\n",
              "      <td>9.122692</td>\n",
              "      <td>45.519052</td>\n",
              "      <td>Ospedale</td>\n",
              "    </tr>\n",
              "    <tr>\n",
              "      <th>24</th>\n",
              "      <td>9.194959</td>\n",
              "      <td>45.459000</td>\n",
              "      <td>Ospedale</td>\n",
              "    </tr>\n",
              "    <tr>\n",
              "      <th>44</th>\n",
              "      <td>9.232133</td>\n",
              "      <td>45.474744</td>\n",
              "      <td>Ospedale</td>\n",
              "    </tr>\n",
              "    <tr>\n",
              "      <th>49</th>\n",
              "      <td>9.190623</td>\n",
              "      <td>45.478247</td>\n",
              "      <td>Ospedale</td>\n",
              "    </tr>\n",
              "    <tr>\n",
              "      <th>58</th>\n",
              "      <td>9.230313</td>\n",
              "      <td>45.478450</td>\n",
              "      <td>Ospedale</td>\n",
              "    </tr>\n",
              "    <tr>\n",
              "      <th>64</th>\n",
              "      <td>9.114213</td>\n",
              "      <td>45.469559</td>\n",
              "      <td>Ospedale</td>\n",
              "    </tr>\n",
              "    <tr>\n",
              "      <th>75</th>\n",
              "      <td>9.187338</td>\n",
              "      <td>45.510414</td>\n",
              "      <td>Ospedale</td>\n",
              "    </tr>\n",
              "    <tr>\n",
              "      <th>78</th>\n",
              "      <td>9.214077</td>\n",
              "      <td>45.525863</td>\n",
              "      <td>Ospedale</td>\n",
              "    </tr>\n",
              "    <tr>\n",
              "      <th>83</th>\n",
              "      <td>9.167446</td>\n",
              "      <td>45.491441</td>\n",
              "      <td>Ospedale</td>\n",
              "    </tr>\n",
              "    <tr>\n",
              "      <th>90</th>\n",
              "      <td>9.219089</td>\n",
              "      <td>45.466274</td>\n",
              "      <td>Ospedale</td>\n",
              "    </tr>\n",
              "  </tbody>\n",
              "</table>\n",
              "</div>"
            ],
            "text/plain": [
              "    Xlocation  Ylocation      Type\n",
              "5    9.160273  45.434434  Ospedale\n",
              "16   9.193589  45.455022  Ospedale\n",
              "19   9.122692  45.519052  Ospedale\n",
              "24   9.194959  45.459000  Ospedale\n",
              "44   9.232133  45.474744  Ospedale\n",
              "49   9.190623  45.478247  Ospedale\n",
              "58   9.230313  45.478450  Ospedale\n",
              "64   9.114213  45.469559  Ospedale\n",
              "75   9.187338  45.510414  Ospedale\n",
              "78   9.214077  45.525863  Ospedale\n",
              "83   9.167446  45.491441  Ospedale\n",
              "90   9.219089  45.466274  Ospedale"
            ]
          },
          "execution_count": 8,
          "metadata": {},
          "output_type": "execute_result"
        }
      ],
      "source": [
        "df_ospedali_milano_mod"
      ]
    },
    {
      "cell_type": "markdown",
      "id": "cce4aca8-a496-4497-b105-6dc686ba37d7",
      "metadata": {
        "id": "cce4aca8-a496-4497-b105-6dc686ba37d7"
      },
      "source": [
        "### Subway stations"
      ]
    },
    {
      "cell_type": "code",
      "execution_count": null,
      "id": "c5df0f55-6562-49cc-b86e-9487af8332c1",
      "metadata": {
        "id": "c5df0f55-6562-49cc-b86e-9487af8332c1"
      },
      "outputs": [],
      "source": [
        "df_fermate_milano_mod = df_fermate_milano.drop(['id_amat','nome'], axis=1)"
      ]
    },
    {
      "cell_type": "code",
      "execution_count": null,
      "id": "7d997fe9-ed40-4a57-b32c-cf4d15cca156",
      "metadata": {
        "id": "7d997fe9-ed40-4a57-b32c-cf4d15cca156"
      },
      "outputs": [],
      "source": [
        "df_fermate_milano_mod = df_fermate_milano_mod.rename(columns={'LONG_X_4326': 'Xlocation', 'LAT_Y_4326': 'Ylocation'})"
      ]
    },
    {
      "cell_type": "code",
      "execution_count": null,
      "metadata": {
        "pycharm": {
          "name": "#%%\n"
        },
        "id": "YgYGgVhzwLtO"
      },
      "outputs": [],
      "source": [
        "df_fermate_milano_mod['Type'] = 'Fermate_Metro'"
      ],
      "id": "YgYGgVhzwLtO"
    },
    {
      "cell_type": "markdown",
      "metadata": {
        "collapsed": false,
        "pycharm": {
          "name": "#%% md\n"
        },
        "id": "2TCzFKPBwLtP"
      },
      "source": [
        "### Railway Stations"
      ],
      "id": "2TCzFKPBwLtP"
    },
    {
      "cell_type": "code",
      "execution_count": null,
      "metadata": {
        "pycharm": {
          "name": "#%%\n"
        },
        "id": "JJXopjatwLtP"
      },
      "outputs": [],
      "source": [
        "df_ferrovie_milano_mod = df_ferrovie_milano.drop(['null', 'Stazione', 'ID_NIL', 'NIL', 'Location'], axis=1)"
      ],
      "id": "JJXopjatwLtP"
    },
    {
      "cell_type": "code",
      "execution_count": null,
      "metadata": {
        "pycharm": {
          "name": "#%%\n"
        },
        "id": "TBh1kup4wLtP"
      },
      "outputs": [],
      "source": [
        "df_fermate_milano_mod = df_fermate_milano_mod.rename(columns={'LONG_X_4326': 'Xlocation', 'LAT_Y_4326': 'Ylocation'})"
      ],
      "id": "TBh1kup4wLtP"
    },
    {
      "cell_type": "code",
      "execution_count": null,
      "metadata": {
        "pycharm": {
          "name": "#%%\n"
        },
        "id": "sY4yBBWlwLtP"
      },
      "outputs": [],
      "source": [
        "df_fermate_milano_mod['Type'] = 'Ferrovie'"
      ],
      "id": "sY4yBBWlwLtP"
    },
    {
      "cell_type": "code",
      "execution_count": null,
      "metadata": {
        "pycharm": {
          "name": "#%%\n"
        },
        "id": "lTL--gMDwLtP",
        "outputId": "774f6630-8b39-4182-dea9-71f07e1cf88a"
      },
      "outputs": [
        {
          "data": {
            "text/html": [
              "<div>\n",
              "<style scoped>\n",
              "    .dataframe tbody tr th:only-of-type {\n",
              "        vertical-align: middle;\n",
              "    }\n",
              "\n",
              "    .dataframe tbody tr th {\n",
              "        vertical-align: top;\n",
              "    }\n",
              "\n",
              "    .dataframe thead th {\n",
              "        text-align: right;\n",
              "    }\n",
              "</style>\n",
              "<table border=\"1\" class=\"dataframe\">\n",
              "  <thead>\n",
              "    <tr style=\"text-align: right;\">\n",
              "      <th></th>\n",
              "      <th>Xlocation</th>\n",
              "      <th>Ylocation</th>\n",
              "      <th>Type</th>\n",
              "    </tr>\n",
              "  </thead>\n",
              "  <tbody>\n",
              "    <tr>\n",
              "      <th>0</th>\n",
              "      <td>9.15667532734003</td>\n",
              "      <td>45.4781401846813</td>\n",
              "      <td>Ferrovie</td>\n",
              "    </tr>\n",
              "    <tr>\n",
              "      <th>1</th>\n",
              "      <td>9.1926011078845</td>\n",
              "      <td>45.4926644010357</td>\n",
              "      <td>Ferrovie</td>\n",
              "    </tr>\n",
              "    <tr>\n",
              "      <th>2</th>\n",
              "      <td>9.15591440789603</td>\n",
              "      <td>45.4679501010405</td>\n",
              "      <td>Ferrovie</td>\n",
              "    </tr>\n",
              "    <tr>\n",
              "      <th>3</th>\n",
              "      <td>9.28598910784986</td>\n",
              "      <td>45.5157833010269</td>\n",
              "      <td>Ferrovie</td>\n",
              "    </tr>\n",
              "    <tr>\n",
              "      <th>4</th>\n",
              "      <td>9.22613020787426</td>\n",
              "      <td>45.517454501031</td>\n",
              "      <td>Ferrovie</td>\n",
              "    </tr>\n",
              "    <tr>\n",
              "      <th>...</th>\n",
              "      <td>...</td>\n",
              "      <td>...</td>\n",
              "      <td>...</td>\n",
              "    </tr>\n",
              "    <tr>\n",
              "      <th>105</th>\n",
              "      <td>9.14553880789143</td>\n",
              "      <td>45.4017485010472</td>\n",
              "      <td>Ferrovie</td>\n",
              "    </tr>\n",
              "    <tr>\n",
              "      <th>106</th>\n",
              "      <td>9.15096930789879</td>\n",
              "      <td>45.4736789010404</td>\n",
              "      <td>Ferrovie</td>\n",
              "    </tr>\n",
              "    <tr>\n",
              "      <th>107</th>\n",
              "      <td>9.1682516078982</td>\n",
              "      <td>45.5216818010349</td>\n",
              "      <td>Ferrovie</td>\n",
              "    </tr>\n",
              "    <tr>\n",
              "      <th>108</th>\n",
              "      <td>9.1739799078948</td>\n",
              "      <td>45.5135543010351</td>\n",
              "      <td>Ferrovie</td>\n",
              "    </tr>\n",
              "    <tr>\n",
              "      <th>109</th>\n",
              "      <td>9.17732280788234</td>\n",
              "      <td>45.4299949010423</td>\n",
              "      <td>Ferrovie</td>\n",
              "    </tr>\n",
              "  </tbody>\n",
              "</table>\n",
              "<p>110 rows × 3 columns</p>\n",
              "</div>"
            ],
            "text/plain": [
              "            Xlocation         Ylocation      Type\n",
              "0    9.15667532734003  45.4781401846813  Ferrovie\n",
              "1     9.1926011078845  45.4926644010357  Ferrovie\n",
              "2    9.15591440789603  45.4679501010405  Ferrovie\n",
              "3    9.28598910784986  45.5157833010269  Ferrovie\n",
              "4    9.22613020787426   45.517454501031  Ferrovie\n",
              "..                ...               ...       ...\n",
              "105  9.14553880789143  45.4017485010472  Ferrovie\n",
              "106  9.15096930789879  45.4736789010404  Ferrovie\n",
              "107   9.1682516078982  45.5216818010349  Ferrovie\n",
              "108   9.1739799078948  45.5135543010351  Ferrovie\n",
              "109  9.17732280788234  45.4299949010423  Ferrovie\n",
              "\n",
              "[110 rows x 3 columns]"
            ]
          },
          "execution_count": 15,
          "metadata": {},
          "output_type": "execute_result"
        }
      ],
      "source": [
        "df_fermate_milano_mod"
      ],
      "id": "lTL--gMDwLtP"
    },
    {
      "cell_type": "markdown",
      "metadata": {
        "collapsed": false,
        "id": "M9lD9FPgwLtP"
      },
      "source": [
        "### Public Transport"
      ],
      "id": "M9lD9FPgwLtP"
    },
    {
      "cell_type": "code",
      "execution_count": null,
      "metadata": {
        "pycharm": {
          "name": "#%%\n"
        },
        "id": "vKRdfbuUwLtQ"
      },
      "outputs": [],
      "source": [
        "df_mezzi_urbani_mod = df_mezzi_urbani.drop(['null', 'linea', 'mezzo', 'percorso', 'Location'], axis = 1)"
      ],
      "id": "vKRdfbuUwLtQ"
    },
    {
      "cell_type": "code",
      "execution_count": null,
      "metadata": {
        "pycharm": {
          "name": "#%%\n"
        },
        "id": "gNLYmeNtwLtQ"
      },
      "outputs": [],
      "source": [
        "df_mezzi_urbani_mod = df_mezzi_urbani_mod.rename(columns={'LONG_X_4326_CENTROID': 'Xlocation', 'LAT_Y_4326_CENTROID': 'Ylocation'})"
      ],
      "id": "gNLYmeNtwLtQ"
    },
    {
      "cell_type": "code",
      "execution_count": null,
      "metadata": {
        "pycharm": {
          "name": "#%%\n"
        },
        "id": "hOEXlI7owLtQ"
      },
      "outputs": [],
      "source": [
        "df_mezzi_urbani_mod['Type'] = df_mezzi_urbani['mezzo']"
      ],
      "id": "hOEXlI7owLtQ"
    },
    {
      "cell_type": "code",
      "execution_count": null,
      "metadata": {
        "pycharm": {
          "name": "#%%\n"
        },
        "id": "5Xeq9BMlwLtQ",
        "outputId": "99955821-7b41-4663-d60a-e345d0cc95c5"
      },
      "outputs": [
        {
          "data": {
            "text/html": [
              "<div>\n",
              "<style scoped>\n",
              "    .dataframe tbody tr th:only-of-type {\n",
              "        vertical-align: middle;\n",
              "    }\n",
              "\n",
              "    .dataframe tbody tr th {\n",
              "        vertical-align: top;\n",
              "    }\n",
              "\n",
              "    .dataframe thead th {\n",
              "        text-align: right;\n",
              "    }\n",
              "</style>\n",
              "<table border=\"1\" class=\"dataframe\">\n",
              "  <thead>\n",
              "    <tr style=\"text-align: right;\">\n",
              "      <th></th>\n",
              "      <th>Xlocation</th>\n",
              "      <th>Ylocation</th>\n",
              "      <th>Type</th>\n",
              "    </tr>\n",
              "  </thead>\n",
              "  <tbody>\n",
              "    <tr>\n",
              "      <th>0</th>\n",
              "      <td>9.16974100864076</td>\n",
              "      <td>45.4859750999689</td>\n",
              "      <td>TRAM</td>\n",
              "    </tr>\n",
              "    <tr>\n",
              "      <th>1</th>\n",
              "      <td>9.16941433348214</td>\n",
              "      <td>45.4863116993079</td>\n",
              "      <td>TRAM</td>\n",
              "    </tr>\n",
              "    <tr>\n",
              "      <th>2</th>\n",
              "      <td>9.17865796878257</td>\n",
              "      <td>45.4741964733908</td>\n",
              "      <td>TRAM</td>\n",
              "    </tr>\n",
              "    <tr>\n",
              "      <th>3</th>\n",
              "      <td>9.17849012195658</td>\n",
              "      <td>45.4739436104468</td>\n",
              "      <td>TRAM</td>\n",
              "    </tr>\n",
              "    <tr>\n",
              "      <th>4</th>\n",
              "      <td>9.17933222505233</td>\n",
              "      <td>45.4339331905281</td>\n",
              "      <td>BUS</td>\n",
              "    </tr>\n",
              "    <tr>\n",
              "      <th>...</th>\n",
              "      <td>...</td>\n",
              "      <td>...</td>\n",
              "      <td>...</td>\n",
              "    </tr>\n",
              "    <tr>\n",
              "      <th>357</th>\n",
              "      <td>9.19091339157383</td>\n",
              "      <td>45.4375149721899</td>\n",
              "      <td>BUS</td>\n",
              "    </tr>\n",
              "    <tr>\n",
              "      <th>358</th>\n",
              "      <td>9.14760127811239</td>\n",
              "      <td>45.451687543387</td>\n",
              "      <td>BUS</td>\n",
              "    </tr>\n",
              "    <tr>\n",
              "      <th>359</th>\n",
              "      <td>9.14627481764211</td>\n",
              "      <td>45.4532172137094</td>\n",
              "      <td>BUS</td>\n",
              "    </tr>\n",
              "    <tr>\n",
              "      <th>360</th>\n",
              "      <td>9.20781459471915</td>\n",
              "      <td>45.4061784992761</td>\n",
              "      <td>BUS</td>\n",
              "    </tr>\n",
              "    <tr>\n",
              "      <th>361</th>\n",
              "      <td>9.20809744057435</td>\n",
              "      <td>45.4043410360122</td>\n",
              "      <td>BUS</td>\n",
              "    </tr>\n",
              "  </tbody>\n",
              "</table>\n",
              "<p>362 rows × 3 columns</p>\n",
              "</div>"
            ],
            "text/plain": [
              "            Xlocation         Ylocation  Type\n",
              "0    9.16974100864076  45.4859750999689  TRAM\n",
              "1    9.16941433348214  45.4863116993079  TRAM\n",
              "2    9.17865796878257  45.4741964733908  TRAM\n",
              "3    9.17849012195658  45.4739436104468  TRAM\n",
              "4    9.17933222505233  45.4339331905281   BUS\n",
              "..                ...               ...   ...\n",
              "357  9.19091339157383  45.4375149721899   BUS\n",
              "358  9.14760127811239   45.451687543387   BUS\n",
              "359  9.14627481764211  45.4532172137094   BUS\n",
              "360  9.20781459471915  45.4061784992761   BUS\n",
              "361  9.20809744057435  45.4043410360122   BUS\n",
              "\n",
              "[362 rows x 3 columns]"
            ]
          },
          "execution_count": 19,
          "metadata": {},
          "output_type": "execute_result"
        }
      ],
      "source": [
        "df_mezzi_urbani_mod"
      ],
      "id": "5Xeq9BMlwLtQ"
    },
    {
      "cell_type": "markdown",
      "metadata": {
        "collapsed": false,
        "id": "4z_3DVoLwLtQ"
      },
      "source": [
        "### Bikemi Stations(bike sharing)"
      ],
      "id": "4z_3DVoLwLtQ"
    },
    {
      "cell_type": "code",
      "execution_count": null,
      "metadata": {
        "pycharm": {
          "name": "#%%\n"
        },
        "id": "Q9KZ8xNWwLtQ"
      },
      "outputs": [],
      "source": [
        "df_bikemi_mod = df_bikemi.drop(['null', 'numero', 'nome', 'Location'], axis=1)"
      ],
      "id": "Q9KZ8xNWwLtQ"
    },
    {
      "cell_type": "code",
      "execution_count": null,
      "metadata": {
        "pycharm": {
          "name": "#%%\n"
        },
        "id": "99c7ypp6wLtQ"
      },
      "outputs": [],
      "source": [
        "df_bikemi_mod = df_bikemi_mod.rename(columns={'LONG_X_4326': 'Xlocation', 'LAT_Y_4326': 'Ylocation'})"
      ],
      "id": "99c7ypp6wLtQ"
    },
    {
      "cell_type": "code",
      "execution_count": null,
      "metadata": {
        "pycharm": {
          "name": "#%%\n"
        },
        "id": "ajmpAjLKwLtQ"
      },
      "outputs": [],
      "source": [
        "df_bikemi_mod['Type'] = 'Bikemi'"
      ],
      "id": "ajmpAjLKwLtQ"
    },
    {
      "cell_type": "code",
      "execution_count": null,
      "metadata": {
        "pycharm": {
          "name": "#%%\n"
        },
        "id": "4nEBjME8wLtR",
        "outputId": "be5d2efb-86a0-4fd6-e4b5-77a01e64dab1"
      },
      "outputs": [
        {
          "data": {
            "text/html": [
              "<div>\n",
              "<style scoped>\n",
              "    .dataframe tbody tr th:only-of-type {\n",
              "        vertical-align: middle;\n",
              "    }\n",
              "\n",
              "    .dataframe tbody tr th {\n",
              "        vertical-align: top;\n",
              "    }\n",
              "\n",
              "    .dataframe thead th {\n",
              "        text-align: right;\n",
              "    }\n",
              "</style>\n",
              "<table border=\"1\" class=\"dataframe\">\n",
              "  <thead>\n",
              "    <tr style=\"text-align: right;\">\n",
              "      <th></th>\n",
              "      <th>Xlocation</th>\n",
              "      <th>Ylocation</th>\n",
              "      <th>Type</th>\n",
              "    </tr>\n",
              "  </thead>\n",
              "  <tbody>\n",
              "    <tr>\n",
              "      <th>0</th>\n",
              "      <td>9.18914146264194</td>\n",
              "      <td>45.4647459734151</td>\n",
              "      <td>Bikemi</td>\n",
              "    </tr>\n",
              "    <tr>\n",
              "      <th>1</th>\n",
              "      <td>9.19725017347506</td>\n",
              "      <td>45.4662661365004</td>\n",
              "      <td>Bikemi</td>\n",
              "    </tr>\n",
              "    <tr>\n",
              "      <th>2</th>\n",
              "      <td>9.17566167305518</td>\n",
              "      <td>45.4680028649026</td>\n",
              "      <td>Bikemi</td>\n",
              "    </tr>\n",
              "    <tr>\n",
              "      <th>3</th>\n",
              "      <td>9.18197005904563</td>\n",
              "      <td>45.4722739800244</td>\n",
              "      <td>Bikemi</td>\n",
              "    </tr>\n",
              "    <tr>\n",
              "      <th>4</th>\n",
              "      <td>9.17641155359659</td>\n",
              "      <td>45.4631209673857</td>\n",
              "      <td>Bikemi</td>\n",
              "    </tr>\n",
              "    <tr>\n",
              "      <th>...</th>\n",
              "      <td>...</td>\n",
              "      <td>...</td>\n",
              "      <td>...</td>\n",
              "    </tr>\n",
              "    <tr>\n",
              "      <th>320</th>\n",
              "      <td>9.18965117128139</td>\n",
              "      <td>45.4621624711804</td>\n",
              "      <td>Bikemi</td>\n",
              "    </tr>\n",
              "    <tr>\n",
              "      <th>321</th>\n",
              "      <td>9.12625514582878</td>\n",
              "      <td>45.489537319048</td>\n",
              "      <td>Bikemi</td>\n",
              "    </tr>\n",
              "    <tr>\n",
              "      <th>322</th>\n",
              "      <td>9.22443406233413</td>\n",
              "      <td>45.4626385742104</td>\n",
              "      <td>Bikemi</td>\n",
              "    </tr>\n",
              "    <tr>\n",
              "      <th>323</th>\n",
              "      <td>9.2185021802409</td>\n",
              "      <td>45.4646127148941</td>\n",
              "      <td>Bikemi</td>\n",
              "    </tr>\n",
              "    <tr>\n",
              "      <th>324</th>\n",
              "      <td>9.19938370562119</td>\n",
              "      <td>45.4554785482603</td>\n",
              "      <td>Bikemi</td>\n",
              "    </tr>\n",
              "  </tbody>\n",
              "</table>\n",
              "<p>325 rows × 3 columns</p>\n",
              "</div>"
            ],
            "text/plain": [
              "            Xlocation         Ylocation    Type\n",
              "0    9.18914146264194  45.4647459734151  Bikemi\n",
              "1    9.19725017347506  45.4662661365004  Bikemi\n",
              "2    9.17566167305518  45.4680028649026  Bikemi\n",
              "3    9.18197005904563  45.4722739800244  Bikemi\n",
              "4    9.17641155359659  45.4631209673857  Bikemi\n",
              "..                ...               ...     ...\n",
              "320  9.18965117128139  45.4621624711804  Bikemi\n",
              "321  9.12625514582878   45.489537319048  Bikemi\n",
              "322  9.22443406233413  45.4626385742104  Bikemi\n",
              "323   9.2185021802409  45.4646127148941  Bikemi\n",
              "324  9.19938370562119  45.4554785482603  Bikemi\n",
              "\n",
              "[325 rows x 3 columns]"
            ]
          },
          "execution_count": 23,
          "metadata": {},
          "output_type": "execute_result"
        }
      ],
      "source": [
        "df_bikemi_mod"
      ],
      "id": "4nEBjME8wLtR"
    },
    {
      "cell_type": "markdown",
      "metadata": {
        "collapsed": false,
        "id": "Di_3AT_XwLtR"
      },
      "source": [
        "### Bike Parcking"
      ],
      "id": "Di_3AT_XwLtR"
    },
    {
      "cell_type": "code",
      "execution_count": null,
      "metadata": {
        "pycharm": {
          "name": "#%%\n"
        },
        "id": "NlkWc05OwLtR"
      },
      "outputs": [],
      "source": [
        "df_sosta_bike_mod = df_sosta_bike.drop(['null', 'stalli_per_manufatto', 'Location'], axis=1)"
      ],
      "id": "NlkWc05OwLtR"
    },
    {
      "cell_type": "code",
      "execution_count": null,
      "metadata": {
        "pycharm": {
          "name": "#%%\n"
        },
        "id": "FQO2US9SwLtR"
      },
      "outputs": [],
      "source": [
        "df_sosta_bike_mod = df_sosta_bike_mod.rename(columns={'LONG_X_4326': 'Xlocation', 'LAT_Y_4326': 'Ylocation'})"
      ],
      "id": "FQO2US9SwLtR"
    },
    {
      "cell_type": "code",
      "execution_count": null,
      "metadata": {
        "pycharm": {
          "name": "#%%\n"
        },
        "id": "t0bJTDL5wLtR"
      },
      "outputs": [],
      "source": [
        "df_sosta_bike_mod['Type'] = 'Sosta_Bike'"
      ],
      "id": "t0bJTDL5wLtR"
    },
    {
      "cell_type": "code",
      "execution_count": null,
      "metadata": {
        "pycharm": {
          "name": "#%%\n"
        },
        "id": "5m3vCjCawLtR",
        "outputId": "6a101d60-b46e-489f-f356-59800eb34b50"
      },
      "outputs": [
        {
          "data": {
            "text/html": [
              "<div>\n",
              "<style scoped>\n",
              "    .dataframe tbody tr th:only-of-type {\n",
              "        vertical-align: middle;\n",
              "    }\n",
              "\n",
              "    .dataframe tbody tr th {\n",
              "        vertical-align: top;\n",
              "    }\n",
              "\n",
              "    .dataframe thead th {\n",
              "        text-align: right;\n",
              "    }\n",
              "</style>\n",
              "<table border=\"1\" class=\"dataframe\">\n",
              "  <thead>\n",
              "    <tr style=\"text-align: right;\">\n",
              "      <th></th>\n",
              "      <th>Xlocation</th>\n",
              "      <th>Ylocation</th>\n",
              "      <th>Type</th>\n",
              "    </tr>\n",
              "  </thead>\n",
              "  <tbody>\n",
              "    <tr>\n",
              "      <th>0</th>\n",
              "      <td>9.17820648027966</td>\n",
              "      <td>45.4299105472126</td>\n",
              "      <td>Sosta_Bike</td>\n",
              "    </tr>\n",
              "    <tr>\n",
              "      <th>1</th>\n",
              "      <td>9.16829273293793</td>\n",
              "      <td>45.5169685144655</td>\n",
              "      <td>Sosta_Bike</td>\n",
              "    </tr>\n",
              "    <tr>\n",
              "      <th>2</th>\n",
              "      <td>9.08480114510265</td>\n",
              "      <td>45.4762825397617</td>\n",
              "      <td>Sosta_Bike</td>\n",
              "    </tr>\n",
              "    <tr>\n",
              "      <th>3</th>\n",
              "      <td>9.1567254420346</td>\n",
              "      <td>45.4822802973057</td>\n",
              "      <td>Sosta_Bike</td>\n",
              "    </tr>\n",
              "    <tr>\n",
              "      <th>4</th>\n",
              "      <td>9.12053839058196</td>\n",
              "      <td>45.4550596306546</td>\n",
              "      <td>Sosta_Bike</td>\n",
              "    </tr>\n",
              "    <tr>\n",
              "      <th>...</th>\n",
              "      <td>...</td>\n",
              "      <td>...</td>\n",
              "      <td>...</td>\n",
              "    </tr>\n",
              "    <tr>\n",
              "      <th>1517</th>\n",
              "      <td>9.16585551645715</td>\n",
              "      <td>45.5052976774305</td>\n",
              "      <td>Sosta_Bike</td>\n",
              "    </tr>\n",
              "    <tr>\n",
              "      <th>1518</th>\n",
              "      <td>9.16627579235099</td>\n",
              "      <td>45.5058429724411</td>\n",
              "      <td>Sosta_Bike</td>\n",
              "    </tr>\n",
              "    <tr>\n",
              "      <th>1519</th>\n",
              "      <td>9.16634057331879</td>\n",
              "      <td>45.5056823689494</td>\n",
              "      <td>Sosta_Bike</td>\n",
              "    </tr>\n",
              "    <tr>\n",
              "      <th>1520</th>\n",
              "      <td>9.16632570760665</td>\n",
              "      <td>45.5053234134312</td>\n",
              "      <td>Sosta_Bike</td>\n",
              "    </tr>\n",
              "    <tr>\n",
              "      <th>1521</th>\n",
              "      <td>9.21894720624011</td>\n",
              "      <td>45.4335587022628</td>\n",
              "      <td>Sosta_Bike</td>\n",
              "    </tr>\n",
              "  </tbody>\n",
              "</table>\n",
              "<p>1522 rows × 3 columns</p>\n",
              "</div>"
            ],
            "text/plain": [
              "             Xlocation         Ylocation        Type\n",
              "0     9.17820648027966  45.4299105472126  Sosta_Bike\n",
              "1     9.16829273293793  45.5169685144655  Sosta_Bike\n",
              "2     9.08480114510265  45.4762825397617  Sosta_Bike\n",
              "3      9.1567254420346  45.4822802973057  Sosta_Bike\n",
              "4     9.12053839058196  45.4550596306546  Sosta_Bike\n",
              "...                ...               ...         ...\n",
              "1517  9.16585551645715  45.5052976774305  Sosta_Bike\n",
              "1518  9.16627579235099  45.5058429724411  Sosta_Bike\n",
              "1519  9.16634057331879  45.5056823689494  Sosta_Bike\n",
              "1520  9.16632570760665  45.5053234134312  Sosta_Bike\n",
              "1521  9.21894720624011  45.4335587022628  Sosta_Bike\n",
              "\n",
              "[1522 rows x 3 columns]"
            ]
          },
          "execution_count": 27,
          "metadata": {},
          "output_type": "execute_result"
        }
      ],
      "source": [
        "df_sosta_bike_mod"
      ],
      "id": "5m3vCjCawLtR"
    },
    {
      "cell_type": "markdown",
      "metadata": {
        "collapsed": false,
        "id": "-SgLxDaZwLtR"
      },
      "source": [
        "### Public car parks"
      ],
      "id": "-SgLxDaZwLtR"
    },
    {
      "cell_type": "code",
      "execution_count": null,
      "metadata": {
        "pycharm": {
          "name": "#%%\n"
        },
        "id": "05mWVsL-wLtR"
      },
      "outputs": [],
      "source": [
        "df_parcheggi_pub_mod = df_parcheggi_pub.drop(['null', 'nome', 'n_posti', 'Location'], axis=1)"
      ],
      "id": "05mWVsL-wLtR"
    },
    {
      "cell_type": "code",
      "execution_count": null,
      "id": "e5f381c1",
      "metadata": {
        "id": "e5f381c1"
      },
      "outputs": [],
      "source": [
        "df_parcheggi_pub_mod = df_parcheggi_pub_mod.rename(columns={'LONG_X_4326': 'Xlocation', 'LAT_Y_4326': 'Ylocation'})"
      ]
    },
    {
      "cell_type": "code",
      "execution_count": null,
      "id": "047cb9df",
      "metadata": {
        "id": "047cb9df"
      },
      "outputs": [],
      "source": [
        "df_parcheggi_pub_mod['Type'] = 'Parcheggi_Pubblici'"
      ]
    },
    {
      "cell_type": "code",
      "execution_count": null,
      "id": "e3a8dccd",
      "metadata": {
        "id": "e3a8dccd"
      },
      "outputs": [],
      "source": [
        "df_parcheggi_pub_mod"
      ]
    }
  ],
  "metadata": {
    "kernelspec": {
      "display_name": "Python 3 (ipykernel)",
      "language": "python",
      "name": "python3"
    },
    "language_info": {
      "codemirror_mode": {
        "name": "ipython",
        "version": 3
      },
      "file_extension": ".py",
      "mimetype": "text/x-python",
      "name": "python",
      "nbconvert_exporter": "python",
      "pygments_lexer": "ipython3",
      "version": "3.9.12"
    },
    "vscode": {
      "interpreter": {
        "hash": "76c27dc517e18060693f9f4b95872dd65e97431863ddf701dd22ecd46900d9b4"
      }
    },
    "colab": {
      "provenance": [],
      "include_colab_link": true
    }
  },
  "nbformat": 4,
  "nbformat_minor": 5
}