{
 "cells": [
  {
   "cell_type": "markdown",
   "id": "92f978dd-441a-4d44-a84a-7e902cea0326",
   "metadata": {},
   "source": [
    "# Data Wrangling"
   ]
  },
  {
   "cell_type": "code",
   "execution_count": 1,
   "id": "a6d4b30f-a7c7-4bfc-aff0-b859806edb7e",
   "metadata": {},
   "outputs": [],
   "source": [
    "#Import Statment\n",
    "import mysql.connector\n",
    "import numpy as np\n",
    "import pandas as pd"
   ]
  },
  {
   "cell_type": "code",
   "execution_count": 2,
   "id": "40a6dad5-b9cb-4bd7-90c2-e6754f5b6788",
   "metadata": {},
   "outputs": [],
   "source": [
    "mysql = mysql.connector.connect(host='ttfprojectdb.cdjjwxlk5ujc.eu-central-1.rds.amazonaws.com',\n",
    "                        database='database-data-science-project-its-ttf-2022-23',\n",
    "                        user='edoardo',\n",
    "                        password='PG8Io90EcKBVEg2iKLgi')\n"
   ]
  },
  {
   "cell_type": "code",
   "execution_count": null,
   "id": "21453faf-49c6-4742-9ca9-e42440449934",
   "metadata": {},
   "outputs": [],
   "source": []
  }
 ],
 "metadata": {
  "kernelspec": {
   "display_name": "Python 3 (ipykernel)",
   "language": "python",
   "name": "python3"
  },
  "language_info": {
   "codemirror_mode": {
    "name": "ipython",
    "version": 3
   },
   "file_extension": ".py",
   "mimetype": "text/x-python",
   "name": "python",
   "nbconvert_exporter": "python",
   "pygments_lexer": "ipython3",
   "version": "3.9.12"
  }
 },
 "nbformat": 4,
 "nbformat_minor": 5
}
