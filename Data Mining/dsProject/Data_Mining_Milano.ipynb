{
 "cells": [
  {
   "cell_type": "markdown",
   "id": "92f978dd-441a-4d44-a84a-7e902cea0326",
   "metadata": {},
   "source": [
    "# Data Wrangling"
   ]
  },
  {
   "cell_type": "code",
   "execution_count": 1,
   "id": "a6d4b30f-a7c7-4bfc-aff0-b859806edb7e",
   "metadata": {},
   "outputs": [],
   "source": [
    "#Import Statment\n",
    "import mysql.connector as connection\n",
    "import numpy as np\n",
    "import pandas as pd"
   ]
  },
  {
   "cell_type": "markdown",
   "id": "339040b6-b74f-4c02-ab43-aecc279e9a64",
   "metadata": {},
   "source": [
    "## Import tables from MySQL to pandas' dataframes"
   ]
  },
  {
   "cell_type": "code",
   "execution_count": 2,
   "id": "40a6dad5-b9cb-4bd7-90c2-e6754f5b6788",
   "metadata": {},
   "outputs": [
    {
     "name": "stderr",
     "output_type": "stream",
     "text": [
      "C:\\Users\\edoar\\anaconda3\\lib\\site-packages\\pandas\\io\\sql.py:761: UserWarning: pandas only support SQLAlchemy connectable(engine/connection) ordatabase string URI or sqlite3 DBAPI2 connectionother DBAPI2 objects are not tested, please consider using SQLAlchemy\n",
      "  warnings.warn(\n",
      "C:\\Users\\edoar\\anaconda3\\lib\\site-packages\\pandas\\io\\sql.py:761: UserWarning: pandas only support SQLAlchemy connectable(engine/connection) ordatabase string URI or sqlite3 DBAPI2 connectionother DBAPI2 objects are not tested, please consider using SQLAlchemy\n",
      "  warnings.warn(\n",
      "C:\\Users\\edoar\\anaconda3\\lib\\site-packages\\pandas\\io\\sql.py:761: UserWarning: pandas only support SQLAlchemy connectable(engine/connection) ordatabase string URI or sqlite3 DBAPI2 connectionother DBAPI2 objects are not tested, please consider using SQLAlchemy\n",
      "  warnings.warn(\n",
      "C:\\Users\\edoar\\anaconda3\\lib\\site-packages\\pandas\\io\\sql.py:761: UserWarning: pandas only support SQLAlchemy connectable(engine/connection) ordatabase string URI or sqlite3 DBAPI2 connectionother DBAPI2 objects are not tested, please consider using SQLAlchemy\n",
      "  warnings.warn(\n",
      "C:\\Users\\edoar\\anaconda3\\lib\\site-packages\\pandas\\io\\sql.py:761: UserWarning: pandas only support SQLAlchemy connectable(engine/connection) ordatabase string URI or sqlite3 DBAPI2 connectionother DBAPI2 objects are not tested, please consider using SQLAlchemy\n",
      "  warnings.warn(\n",
      "C:\\Users\\edoar\\anaconda3\\lib\\site-packages\\pandas\\io\\sql.py:761: UserWarning: pandas only support SQLAlchemy connectable(engine/connection) ordatabase string URI or sqlite3 DBAPI2 connectionother DBAPI2 objects are not tested, please consider using SQLAlchemy\n",
      "  warnings.warn(\n",
      "C:\\Users\\edoar\\anaconda3\\lib\\site-packages\\pandas\\io\\sql.py:761: UserWarning: pandas only support SQLAlchemy connectable(engine/connection) ordatabase string URI or sqlite3 DBAPI2 connectionother DBAPI2 objects are not tested, please consider using SQLAlchemy\n",
      "  warnings.warn(\n",
      "C:\\Users\\edoar\\anaconda3\\lib\\site-packages\\pandas\\io\\sql.py:761: UserWarning: pandas only support SQLAlchemy connectable(engine/connection) ordatabase string URI or sqlite3 DBAPI2 connectionother DBAPI2 objects are not tested, please consider using SQLAlchemy\n",
      "  warnings.warn(\n",
      "C:\\Users\\edoar\\anaconda3\\lib\\site-packages\\pandas\\io\\sql.py:761: UserWarning: pandas only support SQLAlchemy connectable(engine/connection) ordatabase string URI or sqlite3 DBAPI2 connectionother DBAPI2 objects are not tested, please consider using SQLAlchemy\n",
      "  warnings.warn(\n",
      "C:\\Users\\edoar\\anaconda3\\lib\\site-packages\\pandas\\io\\sql.py:761: UserWarning: pandas only support SQLAlchemy connectable(engine/connection) ordatabase string URI or sqlite3 DBAPI2 connectionother DBAPI2 objects are not tested, please consider using SQLAlchemy\n",
      "  warnings.warn(\n",
      "C:\\Users\\edoar\\anaconda3\\lib\\site-packages\\pandas\\io\\sql.py:761: UserWarning: pandas only support SQLAlchemy connectable(engine/connection) ordatabase string URI or sqlite3 DBAPI2 connectionother DBAPI2 objects are not tested, please consider using SQLAlchemy\n",
      "  warnings.warn(\n",
      "C:\\Users\\edoar\\anaconda3\\lib\\site-packages\\pandas\\io\\sql.py:761: UserWarning: pandas only support SQLAlchemy connectable(engine/connection) ordatabase string URI or sqlite3 DBAPI2 connectionother DBAPI2 objects are not tested, please consider using SQLAlchemy\n",
      "  warnings.warn(\n",
      "C:\\Users\\edoar\\anaconda3\\lib\\site-packages\\pandas\\io\\sql.py:761: UserWarning: pandas only support SQLAlchemy connectable(engine/connection) ordatabase string URI or sqlite3 DBAPI2 connectionother DBAPI2 objects are not tested, please consider using SQLAlchemy\n",
      "  warnings.warn(\n"
     ]
    }
   ],
   "source": [
    "mydb = connection.connect(host='ttfprojectdb.cdjjwxlk5ujc.eu-central-1.rds.amazonaws.com',\n",
    "                        database='database-data-science-project-its-ttf-2022-23',\n",
    "                        user='edoardo',\n",
    "                        password='PG8Io90EcKBVEg2iKLgi')\n",
    "query_fermate = \"Select * from fermate_metro_milano;\"\n",
    "df_fermate_milano = pd.read_sql(query_fermate,mydb)\n",
    "\n",
    "query_ferrovie = \"Select * from ferrovie_milano\"\n",
    "df_ferrovie_milano = pd.read_sql(query_ferrovie,mydb)\n",
    "\n",
    "query_mezzi_urbani = \"Select * from mezzi_urbani\"\n",
    "df_mezzi_urbani = pd.read_sql(query_mezzi_urbani,mydb)\n",
    "\n",
    "query_percorsi_metro = \"Select * from percorsi_metro_milano\"\n",
    "df_percorsi_metro_milano = pd.read_sql(query_percorsi_metro,mydb)\n",
    "\n",
    "query_stazioni_bikemi = \"Select * from stazioni_bikemi\"\n",
    "df_bikemi = pd.read_sql(query_stazioni_bikemi,mydb)\n",
    "\n",
    "query_sosta_bike = \"Select * from sosta_bike\"\n",
    "df_sosta_bike = pd.read_sql(query_sosta_bike,mydb)\n",
    "query_parcheggi_pub = \"Select * from parcheggi_pubblici\"\n",
    "df_parcheggi_pub = pd.read_sql(query_parcheggi_pub,mydb)\n",
    "query_parcheggi_intrscambio = \"Select * from parcheggi_interscambio\"\n",
    "df_parcheggi_inter = pd.read_sql(query_parcheggi_intrscambio,mydb)\n",
    "query_scuole_secondarie_milano = \"Select * from scuole_secondarie_milano\"\n",
    "df_scuole_secondarie = pd.read_sql(query_scuole_secondarie_milano,mydb)\n",
    "query_scuole_primarie_milano = \"Select * from scuole_primarie_milano\"\n",
    "df_scuol_primarie = pd.read_sql(query_scuole_primarie_milano,mydb)\n",
    "query_scuole_infanzia_milano = \"Select * from scuole_infanzia_milano\"\n",
    "df_scuole_infanzia = pd.read_sql(query_scuole_infanzia_milano,mydb)\n",
    "query_ospedali_milano = \"select * from ospedali_milano\"\n",
    "df_ospedali_milano = pd.read_sql(query_ospedali_milano,mydb)\n",
    "query_svago_milano = \"select * from svago_milano\"\n",
    "df_svago_milano =  pd.read_sql(query_svago_milano,mydb)\n",
    "\n",
    "mydb.close() #close the connection"
   ]
  },
  {
   "cell_type": "markdown",
   "id": "7e852068-9a7d-4b58-be48-698dac420e29",
   "metadata": {},
   "source": [
    "## Cleaning and Prepping the data for the Clustering"
   ]
  },
  {
   "cell_type": "markdown",
   "id": "556e96b1-5ae6-439e-ac33-507163d47161",
   "metadata": {},
   "source": [
    "### Hospital"
   ]
  },
  {
   "cell_type": "code",
   "execution_count": 3,
   "id": "c4c294b9-9914-4123-9d15-af5769fe0e9b",
   "metadata": {},
   "outputs": [
    {
     "data": {
      "text/plain": "    ID                                    DENOM_STRUTTURA  \\\n5    6                         OSPEDALE S. PAOLO - MILANO   \n16  17          ISTITUTO ORTOPEDICO GAETANO PINI - MILANO   \n19  20                         OSPEDALE L. SACCO - MILANO   \n24  25  FONDAZ.IRCCS CA' GRANDA - OSPEDALE MAGGIORE PO...   \n44  45         \"FOND.IRCCS \"\"ISTIT.NAZ.LE TUMORI\"\"MILANO\"   \n49  50     OSPEDALE FATEBENEFRATELLI E OFTALMICO - MILANO   \n58  59      FOND.IRCCS IST.NAZ.NEUROLOGICO C.BESTA-MILANO   \n64  65                OSPEDALE S. CARLO BORROMEO - MILANO   \n75  76              OSPEDALE CA' GRANDA-NIGUARDA - MILANO   \n78  79     P.O. CENTRO TRAUMATOLOGICO ORTOPEDICO - MILANO   \n83  84                  PRESIDIO OSPED. V. BUZZI - MILANO   \n90  91                       OSPEDALE M. MELLONI - MILANO   \n\n                        INDIRIZZO    CAP LOCALITA  \n5             VIA A. DI RUDINI' 8  20142   MILANO  \n16   PIAZZA A. CARDINAL FERRARI 1  20122   MILANO  \n19  VIA GIOVAN BATTISTA GRASSI 74  20157   MILANO  \n24        VIA FRANCESCO SFORZA 28  20122   MILANO  \n44                 VIA VENEZIAN 1  20133   MILANO  \n49  PIAZZA PRINCIPESSA CLOTILDE 3  20121   MILANO  \n58                 VIA CELORIA 11  20133   MILANO  \n64                   VIA PIO II 3  20153   MILANO  \n75     PIAZZA OSPEDALE MAGGIORE 3  20162   MILANO  \n78                  VIA BIGNAMI 1  20126   MILANO  \n83             VIA CASTELVETRO 32  20154   MILANO  \n90       VIA MACEDONIO MELLONI 52  20129   MILANO  ",
      "text/html": "<div>\n<style scoped>\n    .dataframe tbody tr th:only-of-type {\n        vertical-align: middle;\n    }\n\n    .dataframe tbody tr th {\n        vertical-align: top;\n    }\n\n    .dataframe thead th {\n        text-align: right;\n    }\n</style>\n<table border=\"1\" class=\"dataframe\">\n  <thead>\n    <tr style=\"text-align: right;\">\n      <th></th>\n      <th>ID</th>\n      <th>DENOM_STRUTTURA</th>\n      <th>INDIRIZZO</th>\n      <th>CAP</th>\n      <th>LOCALITA</th>\n    </tr>\n  </thead>\n  <tbody>\n    <tr>\n      <th>5</th>\n      <td>6</td>\n      <td>OSPEDALE S. PAOLO - MILANO</td>\n      <td>VIA A. DI RUDINI' 8</td>\n      <td>20142</td>\n      <td>MILANO</td>\n    </tr>\n    <tr>\n      <th>16</th>\n      <td>17</td>\n      <td>ISTITUTO ORTOPEDICO GAETANO PINI - MILANO</td>\n      <td>PIAZZA A. CARDINAL FERRARI 1</td>\n      <td>20122</td>\n      <td>MILANO</td>\n    </tr>\n    <tr>\n      <th>19</th>\n      <td>20</td>\n      <td>OSPEDALE L. SACCO - MILANO</td>\n      <td>VIA GIOVAN BATTISTA GRASSI 74</td>\n      <td>20157</td>\n      <td>MILANO</td>\n    </tr>\n    <tr>\n      <th>24</th>\n      <td>25</td>\n      <td>FONDAZ.IRCCS CA' GRANDA - OSPEDALE MAGGIORE PO...</td>\n      <td>VIA FRANCESCO SFORZA 28</td>\n      <td>20122</td>\n      <td>MILANO</td>\n    </tr>\n    <tr>\n      <th>44</th>\n      <td>45</td>\n      <td>\"FOND.IRCCS \"\"ISTIT.NAZ.LE TUMORI\"\"MILANO\"</td>\n      <td>VIA VENEZIAN 1</td>\n      <td>20133</td>\n      <td>MILANO</td>\n    </tr>\n    <tr>\n      <th>49</th>\n      <td>50</td>\n      <td>OSPEDALE FATEBENEFRATELLI E OFTALMICO - MILANO</td>\n      <td>PIAZZA PRINCIPESSA CLOTILDE 3</td>\n      <td>20121</td>\n      <td>MILANO</td>\n    </tr>\n    <tr>\n      <th>58</th>\n      <td>59</td>\n      <td>FOND.IRCCS IST.NAZ.NEUROLOGICO C.BESTA-MILANO</td>\n      <td>VIA CELORIA 11</td>\n      <td>20133</td>\n      <td>MILANO</td>\n    </tr>\n    <tr>\n      <th>64</th>\n      <td>65</td>\n      <td>OSPEDALE S. CARLO BORROMEO - MILANO</td>\n      <td>VIA PIO II 3</td>\n      <td>20153</td>\n      <td>MILANO</td>\n    </tr>\n    <tr>\n      <th>75</th>\n      <td>76</td>\n      <td>OSPEDALE CA' GRANDA-NIGUARDA - MILANO</td>\n      <td>PIAZZA OSPEDALE MAGGIORE 3</td>\n      <td>20162</td>\n      <td>MILANO</td>\n    </tr>\n    <tr>\n      <th>78</th>\n      <td>79</td>\n      <td>P.O. CENTRO TRAUMATOLOGICO ORTOPEDICO - MILANO</td>\n      <td>VIA BIGNAMI 1</td>\n      <td>20126</td>\n      <td>MILANO</td>\n    </tr>\n    <tr>\n      <th>83</th>\n      <td>84</td>\n      <td>PRESIDIO OSPED. V. BUZZI - MILANO</td>\n      <td>VIA CASTELVETRO 32</td>\n      <td>20154</td>\n      <td>MILANO</td>\n    </tr>\n    <tr>\n      <th>90</th>\n      <td>91</td>\n      <td>OSPEDALE M. MELLONI - MILANO</td>\n      <td>VIA MACEDONIO MELLONI 52</td>\n      <td>20129</td>\n      <td>MILANO</td>\n    </tr>\n  </tbody>\n</table>\n</div>"
     },
     "execution_count": 3,
     "metadata": {},
     "output_type": "execute_result"
    }
   ],
   "source": [
    "#Filtering to get only the data for Milan\n",
    "df_ospedali_milano = df_ospedali_milano[df_ospedali_milano.LOCALITA == \"MILANO\"]\n",
    "df_ospedali_milano"
   ]
  },
  {
   "cell_type": "markdown",
   "id": "b3dbc59e-c12c-4207-be49-951a3747d117",
   "metadata": {},
   "source": [
    "We need to add the lati and long to the data "
   ]
  },
  {
   "cell_type": "code",
   "execution_count": 4,
   "id": "e571f1cf",
   "metadata": {},
   "outputs": [],
   "source": [
    "Ylocation = [45.434434224802374, 45.45502231363184, 45.519052444626695, 45.45899971302602, \n",
    "             45.474744262235824, 45.478247350543796, 45.47845013153815, 45.4695588314831, \n",
    "             45.51041400570228, 45.525862594524824, 45.491441001265905, 45.466274466033695]\n",
    "\n",
    "Xlocation = [9.160272740334113, 9.19358879013831,  9.122691755211346, 9.1949594687018, \n",
    "             9.232133395688374, 9.190623211031243, 9.23031347608294, 9.11421265520928, \n",
    "             9.187337988230386, 9.214076602544718, 9.167446384259028, 9.219088797537811]"
   ]
  },
  {
   "cell_type": "code",
   "execution_count": 5,
   "id": "9b8b79df-79a1-401e-80f8-bd39b3414b12",
   "metadata": {},
   "outputs": [],
   "source": [
    "df_ospedali_milano['Xlocation'] = Xlocation\n",
    "df_ospedali_milano['Ylocation'] = Ylocation\n",
    "df_ospedali_milano_mod = df_ospedali_milano.drop(['ID','LOCALITA', 'CAP', 'DENOM_STRUTTURA', 'INDIRIZZO'], axis=1)"
   ]
  },
  {
   "cell_type": "markdown",
   "id": "ef5c6fa7-d2de-4cfe-9eee-4d804295e04c",
   "metadata": {},
   "source": [
    "Now we prep the data for the clustering"
   ]
  },
  {
   "cell_type": "code",
   "execution_count": 6,
   "id": "bb0efce4",
   "metadata": {},
   "outputs": [],
   "source": [
    "df_ospedali_milano_mod['Type'] = 'Ospedale'"
   ]
  },
  {
   "cell_type": "code",
   "execution_count": 7,
   "id": "9185cbff-353f-4d99-a614-42820276605a",
   "metadata": {},
   "outputs": [
    {
     "data": {
      "text/plain": "    Xlocation  Ylocation      Type\n5    9.160273  45.434434  Ospedale\n16   9.193589  45.455022  Ospedale\n19   9.122692  45.519052  Ospedale\n24   9.194959  45.459000  Ospedale\n44   9.232133  45.474744  Ospedale\n49   9.190623  45.478247  Ospedale\n58   9.230313  45.478450  Ospedale\n64   9.114213  45.469559  Ospedale\n75   9.187338  45.510414  Ospedale\n78   9.214077  45.525863  Ospedale\n83   9.167446  45.491441  Ospedale\n90   9.219089  45.466274  Ospedale",
      "text/html": "<div>\n<style scoped>\n    .dataframe tbody tr th:only-of-type {\n        vertical-align: middle;\n    }\n\n    .dataframe tbody tr th {\n        vertical-align: top;\n    }\n\n    .dataframe thead th {\n        text-align: right;\n    }\n</style>\n<table border=\"1\" class=\"dataframe\">\n  <thead>\n    <tr style=\"text-align: right;\">\n      <th></th>\n      <th>Xlocation</th>\n      <th>Ylocation</th>\n      <th>Type</th>\n    </tr>\n  </thead>\n  <tbody>\n    <tr>\n      <th>5</th>\n      <td>9.160273</td>\n      <td>45.434434</td>\n      <td>Ospedale</td>\n    </tr>\n    <tr>\n      <th>16</th>\n      <td>9.193589</td>\n      <td>45.455022</td>\n      <td>Ospedale</td>\n    </tr>\n    <tr>\n      <th>19</th>\n      <td>9.122692</td>\n      <td>45.519052</td>\n      <td>Ospedale</td>\n    </tr>\n    <tr>\n      <th>24</th>\n      <td>9.194959</td>\n      <td>45.459000</td>\n      <td>Ospedale</td>\n    </tr>\n    <tr>\n      <th>44</th>\n      <td>9.232133</td>\n      <td>45.474744</td>\n      <td>Ospedale</td>\n    </tr>\n    <tr>\n      <th>49</th>\n      <td>9.190623</td>\n      <td>45.478247</td>\n      <td>Ospedale</td>\n    </tr>\n    <tr>\n      <th>58</th>\n      <td>9.230313</td>\n      <td>45.478450</td>\n      <td>Ospedale</td>\n    </tr>\n    <tr>\n      <th>64</th>\n      <td>9.114213</td>\n      <td>45.469559</td>\n      <td>Ospedale</td>\n    </tr>\n    <tr>\n      <th>75</th>\n      <td>9.187338</td>\n      <td>45.510414</td>\n      <td>Ospedale</td>\n    </tr>\n    <tr>\n      <th>78</th>\n      <td>9.214077</td>\n      <td>45.525863</td>\n      <td>Ospedale</td>\n    </tr>\n    <tr>\n      <th>83</th>\n      <td>9.167446</td>\n      <td>45.491441</td>\n      <td>Ospedale</td>\n    </tr>\n    <tr>\n      <th>90</th>\n      <td>9.219089</td>\n      <td>45.466274</td>\n      <td>Ospedale</td>\n    </tr>\n  </tbody>\n</table>\n</div>"
     },
     "execution_count": 7,
     "metadata": {},
     "output_type": "execute_result"
    }
   ],
   "source": [
    "df_ospedali_milano_mod"
   ]
  },
  {
   "cell_type": "markdown",
   "id": "cce4aca8-a496-4497-b105-6dc686ba37d7",
   "metadata": {},
   "source": [
    "### Subway stations"
   ]
  },
  {
   "cell_type": "code",
   "execution_count": 10,
   "id": "c5df0f55-6562-49cc-b86e-9487af8332c1",
   "metadata": {},
   "outputs": [],
   "source": [
    "df_fermate_milano_mod = df_fermate_milano.drop(['id_amat','nome'], axis=1)"
   ]
  },
  {
   "cell_type": "code",
   "execution_count": 13,
   "id": "7d997fe9-ed40-4a57-b32c-cf4d15cca156",
   "metadata": {},
   "outputs": [
    {
     "data": {
      "text/plain": "            Xlocation         Ylocation\n0    9.15667532734003  45.4781401846813\n1     9.1926011078845  45.4926644010357\n2    9.15591440789603  45.4679501010405\n3    9.28598910784986  45.5157833010269\n4    9.22613020787426   45.517454501031\n..                ...               ...\n105  9.14553880789143  45.4017485010472\n106  9.15096930789879  45.4736789010404\n107   9.1682516078982  45.5216818010349\n108   9.1739799078948  45.5135543010351\n109  9.17732280788234  45.4299949010423\n\n[110 rows x 2 columns]",
      "text/html": "<div>\n<style scoped>\n    .dataframe tbody tr th:only-of-type {\n        vertical-align: middle;\n    }\n\n    .dataframe tbody tr th {\n        vertical-align: top;\n    }\n\n    .dataframe thead th {\n        text-align: right;\n    }\n</style>\n<table border=\"1\" class=\"dataframe\">\n  <thead>\n    <tr style=\"text-align: right;\">\n      <th></th>\n      <th>Xlocation</th>\n      <th>Ylocation</th>\n    </tr>\n  </thead>\n  <tbody>\n    <tr>\n      <th>0</th>\n      <td>9.15667532734003</td>\n      <td>45.4781401846813</td>\n    </tr>\n    <tr>\n      <th>1</th>\n      <td>9.1926011078845</td>\n      <td>45.4926644010357</td>\n    </tr>\n    <tr>\n      <th>2</th>\n      <td>9.15591440789603</td>\n      <td>45.4679501010405</td>\n    </tr>\n    <tr>\n      <th>3</th>\n      <td>9.28598910784986</td>\n      <td>45.5157833010269</td>\n    </tr>\n    <tr>\n      <th>4</th>\n      <td>9.22613020787426</td>\n      <td>45.517454501031</td>\n    </tr>\n    <tr>\n      <th>...</th>\n      <td>...</td>\n      <td>...</td>\n    </tr>\n    <tr>\n      <th>105</th>\n      <td>9.14553880789143</td>\n      <td>45.4017485010472</td>\n    </tr>\n    <tr>\n      <th>106</th>\n      <td>9.15096930789879</td>\n      <td>45.4736789010404</td>\n    </tr>\n    <tr>\n      <th>107</th>\n      <td>9.1682516078982</td>\n      <td>45.5216818010349</td>\n    </tr>\n    <tr>\n      <th>108</th>\n      <td>9.1739799078948</td>\n      <td>45.5135543010351</td>\n    </tr>\n    <tr>\n      <th>109</th>\n      <td>9.17732280788234</td>\n      <td>45.4299949010423</td>\n    </tr>\n  </tbody>\n</table>\n<p>110 rows × 2 columns</p>\n</div>"
     },
     "execution_count": 13,
     "metadata": {},
     "output_type": "execute_result"
    }
   ],
   "source": [
    "df_fermate_milano_mod = df_fermate_milano_mod.rename(columns={'LONG_X_4326': 'Xlocation', 'LAT_Y_4326': 'Ylocation'})"
   ]
  },
  {
   "cell_type": "code",
   "execution_count": 14,
   "outputs": [],
   "source": [
    "df_fermate_milano_mod['Type'] = 'Fermate_Metro'"
   ],
   "metadata": {
    "collapsed": false,
    "pycharm": {
     "name": "#%%\n"
    }
   }
  },
  {
   "cell_type": "markdown",
   "source": [
    "### Railway Stations"
   ],
   "metadata": {
    "collapsed": false,
    "pycharm": {
     "name": "#%% md\n"
    }
   }
  },
  {
   "cell_type": "code",
   "execution_count": 16,
   "outputs": [],
   "source": [
    "df_ferrovie_milano_mod = df_ferrovie_milano.drop(['null', 'Stazione', 'ID_NIL', 'NIL', 'Location'], axis=1)"
   ],
   "metadata": {
    "collapsed": false,
    "pycharm": {
     "name": "#%%\n"
    }
   }
  },
  {
   "cell_type": "code",
   "execution_count": 17,
   "outputs": [],
   "source": [
    "df_fermate_milano_mod = df_fermate_milano_mod.rename(columns={'LONG_X_4326': 'Xlocation', 'LAT_Y_4326': 'Ylocation'})"
   ],
   "metadata": {
    "collapsed": false,
    "pycharm": {
     "name": "#%%\n"
    }
   }
  },
  {
   "cell_type": "code",
   "execution_count": 18,
   "outputs": [],
   "source": [
    "df_fermate_milano_mod['Type'] = 'Ferrovie'"
   ],
   "metadata": {
    "collapsed": false,
    "pycharm": {
     "name": "#%%\n"
    }
   }
  },
  {
   "cell_type": "code",
   "execution_count": 19,
   "outputs": [
    {
     "data": {
      "text/plain": "            Xlocation         Ylocation      Type\n0    9.15667532734003  45.4781401846813  Ferrovie\n1     9.1926011078845  45.4926644010357  Ferrovie\n2    9.15591440789603  45.4679501010405  Ferrovie\n3    9.28598910784986  45.5157833010269  Ferrovie\n4    9.22613020787426   45.517454501031  Ferrovie\n..                ...               ...       ...\n105  9.14553880789143  45.4017485010472  Ferrovie\n106  9.15096930789879  45.4736789010404  Ferrovie\n107   9.1682516078982  45.5216818010349  Ferrovie\n108   9.1739799078948  45.5135543010351  Ferrovie\n109  9.17732280788234  45.4299949010423  Ferrovie\n\n[110 rows x 3 columns]",
      "text/html": "<div>\n<style scoped>\n    .dataframe tbody tr th:only-of-type {\n        vertical-align: middle;\n    }\n\n    .dataframe tbody tr th {\n        vertical-align: top;\n    }\n\n    .dataframe thead th {\n        text-align: right;\n    }\n</style>\n<table border=\"1\" class=\"dataframe\">\n  <thead>\n    <tr style=\"text-align: right;\">\n      <th></th>\n      <th>Xlocation</th>\n      <th>Ylocation</th>\n      <th>Type</th>\n    </tr>\n  </thead>\n  <tbody>\n    <tr>\n      <th>0</th>\n      <td>9.15667532734003</td>\n      <td>45.4781401846813</td>\n      <td>Ferrovie</td>\n    </tr>\n    <tr>\n      <th>1</th>\n      <td>9.1926011078845</td>\n      <td>45.4926644010357</td>\n      <td>Ferrovie</td>\n    </tr>\n    <tr>\n      <th>2</th>\n      <td>9.15591440789603</td>\n      <td>45.4679501010405</td>\n      <td>Ferrovie</td>\n    </tr>\n    <tr>\n      <th>3</th>\n      <td>9.28598910784986</td>\n      <td>45.5157833010269</td>\n      <td>Ferrovie</td>\n    </tr>\n    <tr>\n      <th>4</th>\n      <td>9.22613020787426</td>\n      <td>45.517454501031</td>\n      <td>Ferrovie</td>\n    </tr>\n    <tr>\n      <th>...</th>\n      <td>...</td>\n      <td>...</td>\n      <td>...</td>\n    </tr>\n    <tr>\n      <th>105</th>\n      <td>9.14553880789143</td>\n      <td>45.4017485010472</td>\n      <td>Ferrovie</td>\n    </tr>\n    <tr>\n      <th>106</th>\n      <td>9.15096930789879</td>\n      <td>45.4736789010404</td>\n      <td>Ferrovie</td>\n    </tr>\n    <tr>\n      <th>107</th>\n      <td>9.1682516078982</td>\n      <td>45.5216818010349</td>\n      <td>Ferrovie</td>\n    </tr>\n    <tr>\n      <th>108</th>\n      <td>9.1739799078948</td>\n      <td>45.5135543010351</td>\n      <td>Ferrovie</td>\n    </tr>\n    <tr>\n      <th>109</th>\n      <td>9.17732280788234</td>\n      <td>45.4299949010423</td>\n      <td>Ferrovie</td>\n    </tr>\n  </tbody>\n</table>\n<p>110 rows × 3 columns</p>\n</div>"
     },
     "execution_count": 19,
     "metadata": {},
     "output_type": "execute_result"
    }
   ],
   "source": [
    "df_fermate_milano_mod"
   ],
   "metadata": {
    "collapsed": false,
    "pycharm": {
     "name": "#%%\n"
    }
   }
  },
  {
   "cell_type": "markdown",
   "source": [
    "### Public Transport"
   ],
   "metadata": {
    "collapsed": false
   }
  },
  {
   "cell_type": "code",
   "execution_count": 36,
   "outputs": [],
   "source": [
    "df_mezzi_urbani_mod = df_mezzi_urbani.drop(['null', 'linea', 'mezzo', 'percorso', 'Location'], axis = 1)"
   ],
   "metadata": {
    "collapsed": false,
    "pycharm": {
     "name": "#%%\n"
    }
   }
  },
  {
   "cell_type": "code",
   "execution_count": 37,
   "outputs": [],
   "source": [
    "df_mezzi_urbani_mod = df_mezzi_urbani_mod.rename(columns={'LONG_X_4326_CENTROID': 'Xlocation', 'LAT_Y_4326_CENTROID': 'Ylocation'})"
   ],
   "metadata": {
    "collapsed": false,
    "pycharm": {
     "name": "#%%\n"
    }
   }
  },
  {
   "cell_type": "code",
   "execution_count": 38,
   "outputs": [],
   "source": [
    "df_mezzi_urbani_mod['Type'] = df_mezzi_urbani['mezzo']"
   ],
   "metadata": {
    "collapsed": false,
    "pycharm": {
     "name": "#%%\n"
    }
   }
  },
  {
   "cell_type": "code",
   "execution_count": 39,
   "outputs": [
    {
     "data": {
      "text/plain": "            Xlocation         Ylocation  Type\n0    9.16974100864076  45.4859750999689  TRAM\n1    9.16941433348214  45.4863116993079  TRAM\n2    9.17865796878257  45.4741964733908  TRAM\n3    9.17849012195658  45.4739436104468  TRAM\n4    9.17933222505233  45.4339331905281   BUS\n..                ...               ...   ...\n357  9.19091339157383  45.4375149721899   BUS\n358  9.14760127811239   45.451687543387   BUS\n359  9.14627481764211  45.4532172137094   BUS\n360  9.20781459471915  45.4061784992761   BUS\n361  9.20809744057435  45.4043410360122   BUS\n\n[362 rows x 3 columns]",
      "text/html": "<div>\n<style scoped>\n    .dataframe tbody tr th:only-of-type {\n        vertical-align: middle;\n    }\n\n    .dataframe tbody tr th {\n        vertical-align: top;\n    }\n\n    .dataframe thead th {\n        text-align: right;\n    }\n</style>\n<table border=\"1\" class=\"dataframe\">\n  <thead>\n    <tr style=\"text-align: right;\">\n      <th></th>\n      <th>Xlocation</th>\n      <th>Ylocation</th>\n      <th>Type</th>\n    </tr>\n  </thead>\n  <tbody>\n    <tr>\n      <th>0</th>\n      <td>9.16974100864076</td>\n      <td>45.4859750999689</td>\n      <td>TRAM</td>\n    </tr>\n    <tr>\n      <th>1</th>\n      <td>9.16941433348214</td>\n      <td>45.4863116993079</td>\n      <td>TRAM</td>\n    </tr>\n    <tr>\n      <th>2</th>\n      <td>9.17865796878257</td>\n      <td>45.4741964733908</td>\n      <td>TRAM</td>\n    </tr>\n    <tr>\n      <th>3</th>\n      <td>9.17849012195658</td>\n      <td>45.4739436104468</td>\n      <td>TRAM</td>\n    </tr>\n    <tr>\n      <th>4</th>\n      <td>9.17933222505233</td>\n      <td>45.4339331905281</td>\n      <td>BUS</td>\n    </tr>\n    <tr>\n      <th>...</th>\n      <td>...</td>\n      <td>...</td>\n      <td>...</td>\n    </tr>\n    <tr>\n      <th>357</th>\n      <td>9.19091339157383</td>\n      <td>45.4375149721899</td>\n      <td>BUS</td>\n    </tr>\n    <tr>\n      <th>358</th>\n      <td>9.14760127811239</td>\n      <td>45.451687543387</td>\n      <td>BUS</td>\n    </tr>\n    <tr>\n      <th>359</th>\n      <td>9.14627481764211</td>\n      <td>45.4532172137094</td>\n      <td>BUS</td>\n    </tr>\n    <tr>\n      <th>360</th>\n      <td>9.20781459471915</td>\n      <td>45.4061784992761</td>\n      <td>BUS</td>\n    </tr>\n    <tr>\n      <th>361</th>\n      <td>9.20809744057435</td>\n      <td>45.4043410360122</td>\n      <td>BUS</td>\n    </tr>\n  </tbody>\n</table>\n<p>362 rows × 3 columns</p>\n</div>"
     },
     "execution_count": 39,
     "metadata": {},
     "output_type": "execute_result"
    }
   ],
   "source": [
    "df_mezzi_urbani_mod"
   ],
   "metadata": {
    "collapsed": false,
    "pycharm": {
     "name": "#%%\n"
    }
   }
  },
  {
   "cell_type": "markdown",
   "source": [
    "### Bikemi Stations(bike sharing)"
   ],
   "metadata": {
    "collapsed": false
   }
  },
  {
   "cell_type": "code",
   "execution_count": 44,
   "outputs": [],
   "source": [
    "df_bikemi_mod = df_bikemi.drop(['null', 'numero', 'nome', 'Location'], axis=1)"
   ],
   "metadata": {
    "collapsed": false,
    "pycharm": {
     "name": "#%%\n"
    }
   }
  },
  {
   "cell_type": "code",
   "execution_count": 45,
   "outputs": [],
   "source": [
    "df_bikemi_mod = df_bikemi_mod.rename(columns={'LONG_X_4326': 'Xlocation', 'LAT_Y_4326': 'Ylocation'})"
   ],
   "metadata": {
    "collapsed": false,
    "pycharm": {
     "name": "#%%\n"
    }
   }
  },
  {
   "cell_type": "code",
   "execution_count": 47,
   "outputs": [],
   "source": [
    "df_bikemi_mod['Type'] = 'Bikemi'"
   ],
   "metadata": {
    "collapsed": false,
    "pycharm": {
     "name": "#%%\n"
    }
   }
  },
  {
   "cell_type": "code",
   "execution_count": 48,
   "outputs": [
    {
     "data": {
      "text/plain": "            Xlocation         Ylocation    Type\n0    9.18914146264194  45.4647459734151  Bikemi\n1    9.19725017347506  45.4662661365004  Bikemi\n2    9.17566167305518  45.4680028649026  Bikemi\n3    9.18197005904563  45.4722739800244  Bikemi\n4    9.17641155359659  45.4631209673857  Bikemi\n..                ...               ...     ...\n320  9.18965117128139  45.4621624711804  Bikemi\n321  9.12625514582878   45.489537319048  Bikemi\n322  9.22443406233413  45.4626385742104  Bikemi\n323   9.2185021802409  45.4646127148941  Bikemi\n324  9.19938370562119  45.4554785482603  Bikemi\n\n[325 rows x 3 columns]",
      "text/html": "<div>\n<style scoped>\n    .dataframe tbody tr th:only-of-type {\n        vertical-align: middle;\n    }\n\n    .dataframe tbody tr th {\n        vertical-align: top;\n    }\n\n    .dataframe thead th {\n        text-align: right;\n    }\n</style>\n<table border=\"1\" class=\"dataframe\">\n  <thead>\n    <tr style=\"text-align: right;\">\n      <th></th>\n      <th>Xlocation</th>\n      <th>Ylocation</th>\n      <th>Type</th>\n    </tr>\n  </thead>\n  <tbody>\n    <tr>\n      <th>0</th>\n      <td>9.18914146264194</td>\n      <td>45.4647459734151</td>\n      <td>Bikemi</td>\n    </tr>\n    <tr>\n      <th>1</th>\n      <td>9.19725017347506</td>\n      <td>45.4662661365004</td>\n      <td>Bikemi</td>\n    </tr>\n    <tr>\n      <th>2</th>\n      <td>9.17566167305518</td>\n      <td>45.4680028649026</td>\n      <td>Bikemi</td>\n    </tr>\n    <tr>\n      <th>3</th>\n      <td>9.18197005904563</td>\n      <td>45.4722739800244</td>\n      <td>Bikemi</td>\n    </tr>\n    <tr>\n      <th>4</th>\n      <td>9.17641155359659</td>\n      <td>45.4631209673857</td>\n      <td>Bikemi</td>\n    </tr>\n    <tr>\n      <th>...</th>\n      <td>...</td>\n      <td>...</td>\n      <td>...</td>\n    </tr>\n    <tr>\n      <th>320</th>\n      <td>9.18965117128139</td>\n      <td>45.4621624711804</td>\n      <td>Bikemi</td>\n    </tr>\n    <tr>\n      <th>321</th>\n      <td>9.12625514582878</td>\n      <td>45.489537319048</td>\n      <td>Bikemi</td>\n    </tr>\n    <tr>\n      <th>322</th>\n      <td>9.22443406233413</td>\n      <td>45.4626385742104</td>\n      <td>Bikemi</td>\n    </tr>\n    <tr>\n      <th>323</th>\n      <td>9.2185021802409</td>\n      <td>45.4646127148941</td>\n      <td>Bikemi</td>\n    </tr>\n    <tr>\n      <th>324</th>\n      <td>9.19938370562119</td>\n      <td>45.4554785482603</td>\n      <td>Bikemi</td>\n    </tr>\n  </tbody>\n</table>\n<p>325 rows × 3 columns</p>\n</div>"
     },
     "execution_count": 48,
     "metadata": {},
     "output_type": "execute_result"
    }
   ],
   "source": [
    "df_bikemi_mod"
   ],
   "metadata": {
    "collapsed": false,
    "pycharm": {
     "name": "#%%\n"
    }
   }
  },
  {
   "cell_type": "markdown",
   "source": [
    "### Bike Parcking"
   ],
   "metadata": {
    "collapsed": false
   }
  },
  {
   "cell_type": "code",
   "execution_count": 50,
   "outputs": [
    {
     "data": {
      "text/plain": "null                    0\nstalli_per_manufatto    0\nLONG_X_4326             0\nLAT_Y_4326              0\nLocation                0\ndtype: int64"
     },
     "execution_count": 50,
     "metadata": {},
     "output_type": "execute_result"
    }
   ],
   "source": [
    "df_sosta_bike.isnull().sum()"
   ],
   "metadata": {
    "collapsed": false,
    "pycharm": {
     "name": "#%%\n"
    }
   }
  },
  {
   "cell_type": "code",
   "execution_count": null,
   "outputs": [],
   "source": [],
   "metadata": {
    "collapsed": false,
    "pycharm": {
     "name": "#%%\n"
    }
   }
  }
 ],
 "metadata": {
  "kernelspec": {
   "display_name": "Python 3 (ipykernel)",
   "language": "python",
   "name": "python3"
  },
  "language_info": {
   "codemirror_mode": {
    "name": "ipython",
    "version": 3
   },
   "file_extension": ".py",
   "mimetype": "text/x-python",
   "name": "python",
   "nbconvert_exporter": "python",
   "pygments_lexer": "ipython3",
   "version": "3.9.12"
  },
  "vscode": {
   "interpreter": {
    "hash": "76c27dc517e18060693f9f4b95872dd65e97431863ddf701dd22ecd46900d9b4"
   }
  }
 },
 "nbformat": 4,
 "nbformat_minor": 5
}